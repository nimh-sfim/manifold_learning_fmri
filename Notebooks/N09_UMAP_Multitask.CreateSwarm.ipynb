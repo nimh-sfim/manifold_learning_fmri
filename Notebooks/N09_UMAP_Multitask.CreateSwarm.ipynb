{
 "cells": [
  {
   "cell_type": "markdown",
   "id": "767b3f39-cbb6-474a-ae1d-00ff4e377497",
   "metadata": {},
   "source": [
    "# Description\n",
    "\n",
    "This notebook will compute UMAP for the multi-task dataset. For UMAP we explore three hyper-parameters:\n",
    "\n",
    "* Distance Function: euclidean, cosine or correlation\n",
    "* knn: neighborhood size\n",
    "* m: final number of dimensions\n",
    "* learning rate: for the optimization phase\n",
    "\n",
    "Matrices will be written as pandas pickle objects in ```/data/SFIMJGC_HCP7T/manifold_learning/Data_Interim/PNAS2015/{sbj}/UMAP```"
   ]
  },
  {
   "cell_type": "code",
   "execution_count": 1,
   "id": "63b3e4ef-c11e-4622-b10d-b12e34a2c1e8",
   "metadata": {},
   "outputs": [],
   "source": [
    "import pandas as pd\n",
    "import numpy as np\n",
    "import os\n",
    "import os.path as osp\n",
    "import getpass\n",
    "from datetime import datetime\n",
    "from utils.basics import PNAS2015_subject_list, PNAS2015_folder, PRJ_DIR\n",
    "from utils.basics import umap_dist_metrics, umap_knns, umap_ms, umap_alphas\n",
    "from utils.basics import input_datas, norm_methods"
   ]
  },
  {
   "cell_type": "markdown",
   "id": "3294dd77-c285-49fe-8bbf-3ce5f1449cc8",
   "metadata": {
    "tags": []
   },
   "source": [
    "***\n",
    "\n",
    "The next cell select the Window Length ```wls``` and Window Step ```wss``` used to generate the matrices"
   ]
  },
  {
   "cell_type": "code",
   "execution_count": 2,
   "id": "adc17dc5-4a5b-41dd-b474-48904d903ed9",
   "metadata": {},
   "outputs": [],
   "source": [
    "wls      = 45\n",
    "wss      = 1.5\n",
    "min_dist = 0.8\n",
    "init_method = 'spectral'"
   ]
  },
  {
   "cell_type": "markdown",
   "id": "e9f7b2ea-3130-4732-928d-76f54fd0ee27",
   "metadata": {},
   "source": [
    "***\n",
    "# 1. Compute UMAP Scan Level Embeddings\n",
    "\n",
    "## 1.2. Compute UMAP Embeddings on all input types\n",
    "Those are the norm_methods we will be running"
   ]
  },
  {
   "cell_type": "code",
   "execution_count": 3,
   "id": "950ff07f-7194-42bb-9038-fa0dfeb9518f",
   "metadata": {},
   "outputs": [
    {
     "name": "stdout",
     "output_type": "stream",
     "text": [
      "++ INFO: Distance Metrics: ['euclidean', 'correlation', 'cosine']\n",
      "++ INFO: Knns:             [5, 10, 15, 20, 25, 30, 35, 40, 45, 50, 55, 60, 65, 70, 75, 80, 85, 90, 95, 100, 105, 110, 115, 120, 125, 130, 135, 140, 145, 150, 155, 160, 165, 170, 175, 180, 185, 190, 195, 200]\n",
      "++ INFO: Ms:               [2, 3, 5, 10, 15, 20, 25, 30]\n",
      "++ INFO: Learning Rates:   [0.01, 0.1, 1.0]\n"
     ]
    }
   ],
   "source": [
    "print('++ INFO: Distance Metrics: %s' % str(umap_dist_metrics))\n",
    "print('++ INFO: Knns:             %s' % str(umap_knns))\n",
    "print('++ INFO: Ms:               %s' % str(umap_ms))\n",
    "print('++ INFO: Learning Rates:   %s' % str(umap_alphas))"
   ]
  },
  {
   "cell_type": "markdown",
   "id": "b378e397-33f2-4e71-9894-425e57d01501",
   "metadata": {},
   "source": [
    "The next cell will create the output folders if they do not exist already"
   ]
  },
  {
   "cell_type": "code",
   "execution_count": 4,
   "id": "6dd3f61e-af06-404e-abda-f7a71f6866db",
   "metadata": {},
   "outputs": [],
   "source": [
    "# Create Output Folders if they do not exists\n",
    "for subject in PNAS2015_subject_list:\n",
    "    for input_data in ['Original','Null_ConnRand','Null_PhaseRand']:\n",
    "        path = osp.join(PRJ_DIR,'Data_Interim','PNAS2015',subject,'UMAP',input_data)\n",
    "        if not osp.exists(path):\n",
    "            print('++ INFO: Created folder %s' % path)\n",
    "            os.makedirs(path)"
   ]
  },
  {
   "cell_type": "markdown",
   "id": "2ef74a42-99c2-47ee-b09d-af83e971f6af",
   "metadata": {},
   "source": [
    "The next cell will create folders for the swarm log files and for the actual swarm script. Those folders are created using the username as part of their name. That way it is easier for different users to work together on the project."
   ]
  },
  {
   "cell_type": "code",
   "execution_count": 5,
   "id": "bf1589e9-c651-491f-85a9-ca8397e10630",
   "metadata": {},
   "outputs": [
    {
     "name": "stdout",
     "output_type": "stream",
     "text": [
      "++ INFO: user working now --> javiergc\n",
      "++ INFO: Swarm File  : /data/SFIMJGC_HCP7T/manifold_learning_fmri/SwarmFiles.javiergc/N09_UMAP_Multitask_Scans.SWARM.sh\n",
      "++ INFO: Logs Folder : /data/SFIMJGC_HCP7T/manifold_learning_fmri/Logs.javiergc/N09_UMAP_Multitask_Scans.logs\n"
     ]
    }
   ],
   "source": [
    "#user specific folders\n",
    "#=====================\n",
    "username = getpass.getuser()\n",
    "print('++ INFO: user working now --> %s' % username)\n",
    "\n",
    "swarm_folder   = osp.join(PRJ_DIR,'SwarmFiles.{username}'.format(username=username))\n",
    "logs_folder    = osp.join(PRJ_DIR,'Logs.{username}'.format(username=username))  \n",
    "\n",
    "swarm_path     = osp.join(swarm_folder,'N09_UMAP_Multitask_Scans.SWARM.sh')\n",
    "logdir_path    = osp.join(logs_folder, 'N09_UMAP_Multitask_Scans.logs')\n",
    "\n",
    "if not osp.exists(swarm_folder):\n",
    "    os.makedirs(swarm_folder)\n",
    "if not osp.exists(logdir_path):\n",
    "    os.makedirs(logdir_path)\n",
    "print('++ INFO: Swarm File  : %s' % swarm_path)\n",
    "print('++ INFO: Logs Folder : %s' % logdir_path)"
   ]
  },
  {
   "cell_type": "markdown",
   "id": "feb06979-2334-44af-9583-bc99c941e0d9",
   "metadata": {},
   "source": [
    "Create swarm script. This script will have one line per matrix to be generated."
   ]
  },
  {
   "cell_type": "code",
   "execution_count": 6,
   "id": "52e7ce7c-71c1-4af8-9e07-9958af70f71c",
   "metadata": {
    "lines_to_next_cell": 0
   },
   "outputs": [
    {
     "name": "stdout",
     "output_type": "stream",
     "text": [
      "++ INFO: Attempts/Written = [345600/345600]\n"
     ]
    }
   ],
   "source": [
    "# Open the file\n",
    "swarm_file = open(swarm_path, \"w\")\n",
    "# Log the date and time when the SWARM file is created\n",
    "swarm_file.write('#Create Time: %s' % datetime.now().strftime(\"%d/%m/%Y %H:%M:%S\"))\n",
    "swarm_file.write('\\n')\n",
    "\n",
    "# Insert comment line with SWARM command\n",
    "swarm_file.write('#swarm -J UMAP_Scan -f {swarm_path} -b 5 -g 4 -t 4 --time 00:05:00 --partition quick,norm --logdir {logdir_path}'.format(swarm_path=swarm_path,logdir_path=logdir_path))\n",
    "swarm_file.write('\\n')\n",
    "num_entries = 0 \n",
    "num_iters = 0\n",
    "for subject in PNAS2015_subject_list:\n",
    "    for input_data in input_datas:\n",
    "        for norm_method in norm_methods:\n",
    "            for dist in umap_dist_metrics:\n",
    "                for knn in umap_knns:\n",
    "                    for m in umap_ms:\n",
    "                        for alpha in umap_alphas:\n",
    "                            for init_method in ['spectral']:\n",
    "                                num_iters +=1\n",
    "                                path_tvfc = osp.join(PRJ_DIR,'Data_Interim','PNAS2015',subject,input_data,'{subject}_Craddock_0200.WL{wls}s.WS{wss}s.tvFC.Z.{norm_method}.pkl'.format(subject=subject,norm_method=norm_method, wls=str(int(wls)).zfill(3), wss=str(wss)))\n",
    "                                path_out  = osp.join(PRJ_DIR,'Data_Interim','PNAS2015',subject,'UMAP',input_data,'{subject}_Craddock_0200.WL{wls}s.WS{wss}s.UMAP_{dist}_k{knn}_m{m}_md{min_dist}_a{alpha}_{init_method}.{norm_method}.pkl'.format(subject=subject,\n",
    "                                                                                                                                                   wls=str(int(wls)).zfill(3), \n",
    "                                                                                                                                                   wss=str(wss),\n",
    "                                                                                                                                                   dist=dist,\n",
    "                                                                                                                                                   knn=str(knn).zfill(4),\n",
    "                                                                                                                                                   m=str(m).zfill(4),\n",
    "                                                                                                                                                   min_dist=str(min_dist),\n",
    "                                                                                                                                                   init_method=init_method,\n",
    "                                                                                                                                                   norm_method=norm_method,\n",
    "                                                                                                                                                   alpha=str(alpha)))\n",
    "                                if True: #not osp.exists(path_out):\n",
    "                                    num_entries += 1\n",
    "                                    swarm_file.write('export path_tvfc={path_tvfc} dist={dist} knn={knn} min_dist={min_dist} alpha={alpha} init={init_method} m={m} path_out={path_out}; sh {scripts_dir}/N09_UMAP.sh'.format(path_tvfc=path_tvfc, \n",
    "                                                                                                                                    path_out=path_out,\n",
    "                                                                                                                                    init_method = init_method,\n",
    "                                                                                                                                    dist=dist,\n",
    "                                                                                                                                    knn=knn,\n",
    "                                                                                                                                    m=m, \n",
    "                                                                                                                                    min_dist=min_dist,\n",
    "                                                                                                                                    alpha=alpha,\n",
    "                                                                                                                                    scripts_dir=osp.join(PRJ_DIR,'Notebooks')))\n",
    "                                    swarm_file.write('\\n')\n",
    "swarm_file.close()\n",
    "print(\"++ INFO: Attempts/Written = [%d/%d]\" % (num_entries,num_iters))"
   ]
  },
  {
   "cell_type": "markdown",
   "id": "a3b1389a-18c0-44b2-ba6e-d3c3b31099c1",
   "metadata": {},
   "source": [
    "## 1.2. Calculate SI on all scan-level UMAP embeddings"
   ]
  },
  {
   "cell_type": "code",
   "execution_count": 14,
   "id": "fefe55bd-2ed1-4f2b-bd55-3fc4e866cfe3",
   "metadata": {},
   "outputs": [
    {
     "name": "stdout",
     "output_type": "stream",
     "text": [
      "++ INFO: user working now --> javiergc\n",
      "++ INFO: Swarm File  : /data/SFIMJGC_HCP7T/manifold_learning_fmri/SwarmFiles.javiergc/N09_UMAP_Eval_Clustering_Scans.SWARM.sh\n",
      "++ INFO: Logs Folder : /data/SFIMJGC_HCP7T/manifold_learning_fmri/Logs.javiergc/N09_UMAP_Eval_Clustering_Scans.logs\n"
     ]
    }
   ],
   "source": [
    "#user specific folders\n",
    "#=====================\n",
    "username = getpass.getuser()\n",
    "print('++ INFO: user working now --> %s' % username)\n",
    "\n",
    "swarm_folder   = osp.join(PRJ_DIR,'SwarmFiles.{username}'.format(username=username))\n",
    "logs_folder    = osp.join(PRJ_DIR,'Logs.{username}'.format(username=username))  \n",
    "\n",
    "swarm_path     = osp.join(swarm_folder,'N09_UMAP_Eval_Clustering_Scans.SWARM.sh')\n",
    "logdir_path    = osp.join(logs_folder, 'N09_UMAP_Eval_Clustering_Scans.logs')\n",
    "\n",
    "if not osp.exists(swarm_folder):\n",
    "    os.makedirs(swarm_folder)\n",
    "if not osp.exists(logdir_path):\n",
    "    os.makedirs(logdir_path)\n",
    "print('++ INFO: Swarm File  : %s' % swarm_path)\n",
    "print('++ INFO: Logs Folder : %s' % logdir_path)"
   ]
  },
  {
   "cell_type": "code",
   "execution_count": 15,
   "id": "6b5d8b3a-afbc-402e-ae6d-5ab0e7158f8c",
   "metadata": {},
   "outputs": [
    {
     "name": "stdout",
     "output_type": "stream",
     "text": [
      "++ INFO: Attempts/Written = [0/345600]\n"
     ]
    }
   ],
   "source": [
    "# Open the file\n",
    "swarm_file = open(swarm_path, \"w\")\n",
    "# Log the date and time when the SWARM file is created\n",
    "swarm_file.write('#Create Time: %s' % datetime.now().strftime(\"%d/%m/%Y %H:%M:%S\"))\n",
    "swarm_file.write('\\n')\n",
    "num_entries = 0 \n",
    "num_iters = 0\n",
    "# Insert comment line with SWARM command\n",
    "swarm_file.write('#swarm -J UMAP_Scans_SI -f {swarm_path} -b 346 -g 16 -t 4 --time 00:00:40 --partition=quick,norm --logdir {logdir_path}'.format(swarm_path=swarm_path,logdir_path=logdir_path))\n",
    "swarm_file.write('\\n')\n",
    "for input_data in input_datas:\n",
    "    for norm_method in norm_methods:\n",
    "        for dist in umap_dist_metrics:\n",
    "            for knn in umap_knns:\n",
    "                for m in umap_ms:\n",
    "                    for alpha in umap_alphas:\n",
    "                        for sbj in PNAS2015_subject_list:\n",
    "                            num_iters +=1\n",
    "                            input_path = osp.join(PRJ_DIR,'Data_Interim','PNAS2015',sbj,'UMAP',input_data,'{sbj}_Craddock_0200.WL{wls}s.WS{wss}s.UMAP_{dist}_k{knn}_m{m}_md{min_dist}_a{alpha}_{init_method}.{norm_method}.pkl'.format(norm_method=norm_method,sbj=sbj,\n",
    "                                                                                                                                                   wls=str(int(wls)).zfill(3), \n",
    "                                                                                                                                                   wss=str(wss),\n",
    "                                                                                                                                                   dist=dist,\n",
    "                                                                                                                                                   knn=str(knn).zfill(4),\n",
    "                                                                                                                                                   m=str(m).zfill(4),\n",
    "                                                                                                                                                   min_dist=str(min_dist),\n",
    "                                                                                                                                                   init_method=init_method,\n",
    "                                                                                                                                                   alpha=str(alpha)))\n",
    "                            output_path = osp.join(PRJ_DIR,'Data_Interim','PNAS2015',sbj,'UMAP',input_data,'{sbj}_Craddock_0200.WL{wls}s.WS{wss}s.UMAP_{dist}_k{knn}_m{m}_md{min_dist}_a{alpha}_{init_method}.{norm_method}.SI.pkl'.format(norm_method=norm_method, init_method=init_method,\n",
    "                                                                                                                                                   sbj=sbj,\n",
    "                                                                                                                                                   wls=str(int(wls)).zfill(3), \n",
    "                                                                                                                                                   wss=str(wss),\n",
    "                                                                                                                                                   dist=dist,\n",
    "                                                                                                                                                   knn=str(knn).zfill(4),\n",
    "                                                                                                                                                   m=str(m).zfill(4),\n",
    "                                                                                                                                                   min_dist=str(min_dist),\n",
    "                                                                                                                                                   alpha=str(alpha)))\n",
    "                            if osp.exists(input_path) & (not osp.exists(output_path)):\n",
    "                                num_entries += 1\n",
    "                                swarm_file.write('export input={input_path} output={output_path}; sh {scripts_dir}/N10_SI.sh'.format(input_path=input_path, \n",
    "                                                                                                                     output_path=output_path,\n",
    "                                                                                                                     scripts_dir=osp.join(PRJ_DIR,'Notebooks')))\n",
    "                                swarm_file.write('\\n')\n",
    "swarm_file.close()\n",
    "print(\"++ INFO: Attempts/Written = [%d/%d]\" % (num_entries,num_iters))"
   ]
  },
  {
   "cell_type": "markdown",
   "id": "a011cd9e-98c1-40cb-9a0e-8c68651e135f",
   "metadata": {},
   "source": [
    "***\n",
    "\n",
    "# 2. UMAP Group-Level Embeddings\n",
    "\n",
    "## 2.1 Compute Group Embeddings via \"Concatenation + UMAP\""
   ]
  },
  {
   "cell_type": "code",
   "execution_count": 11,
   "id": "b89111f6-6448-46bf-bfd7-c986b8666f6f",
   "metadata": {},
   "outputs": [
    {
     "name": "stdout",
     "output_type": "stream",
     "text": [
      "++ INFO: user working now --> javiergc\n",
      "++ INFO: Swarm File  : /data/SFIMJGC_HCP7T/manifold_learning_fmri/SwarmFiles.javiergc/N09_UMAP_Clustering_ALL.SWARM.sh\n",
      "++ INFO: Logs Folder : /data/SFIMJGC_HCP7T/manifold_learning_fmri/Logs.javiergc/N09_UMAP_Clustering_ALL.logs\n"
     ]
    }
   ],
   "source": [
    "#user specific folders\n",
    "#=====================\n",
    "username = getpass.getuser()\n",
    "print('++ INFO: user working now --> %s' % username)\n",
    "\n",
    "swarm_folder   = osp.join(PRJ_DIR,'SwarmFiles.{username}'.format(username=username))\n",
    "logs_folder    = osp.join(PRJ_DIR,'Logs.{username}'.format(username=username))  \n",
    "\n",
    "swarm_path     = osp.join(swarm_folder,'N09_UMAP_Clustering_ALL.SWARM.sh')\n",
    "logdir_path    = osp.join(logs_folder, 'N09_UMAP_Clustering_ALL.logs')\n",
    "\n",
    "if not osp.exists(swarm_folder):\n",
    "    os.makedirs(swarm_folder)\n",
    "if not osp.exists(logdir_path):\n",
    "    os.makedirs(logdir_path)\n",
    "print('++ INFO: Swarm File  : %s' % swarm_path)\n",
    "print('++ INFO: Logs Folder : %s' % logdir_path)"
   ]
  },
  {
   "cell_type": "code",
   "execution_count": 12,
   "id": "276d4e5b-4979-433d-858b-1667a0db10e5",
   "metadata": {},
   "outputs": [
    {
     "name": "stdout",
     "output_type": "stream",
     "text": [
      "++ INFO: Attempts/Written = [17280/17280]\n"
     ]
    }
   ],
   "source": [
    "# Open the file\n",
    "swarm_file = open(swarm_path, \"w\")\n",
    "# Log the date and time when the SWARM file is created\n",
    "swarm_file.write('#Create Time: %s' % datetime.now().strftime(\"%d/%m/%Y %H:%M:%S\"))\n",
    "swarm_file.write('\\n')\n",
    "\n",
    "# Insert comment line with SWARM command\n",
    "swarm_file.write('#swarm -J UMAP_ALL -f {swarm_path} -b 5 -g 64 -t 4 --time 00:05:00 --partition quick,norm --logdir {logdir_path}'.format(swarm_path=swarm_path,logdir_path=logdir_path))\n",
    "swarm_file.write('\\n')\n",
    "num_entries = 0 \n",
    "num_iters = 0\n",
    "for subject in ['ALL']:\n",
    "    for input_data in input_datas:\n",
    "        for norm_method in norm_methods:\n",
    "            for dist in umap_dist_metrics:\n",
    "                for knn in umap_knns:\n",
    "                    for m in umap_ms:\n",
    "                        for alpha in umap_alphas:\n",
    "                            for init_method in ['spectral']:\n",
    "                                num_iters +=1\n",
    "                                path_tvfc = osp.join(PRJ_DIR,'Data_Interim','PNAS2015',subject,input_data,'{subject}_Craddock_0200.WL{wls}s.WS{wss}s.tvFC.Z.{norm_method}.pkl'.format(subject=subject,norm_method=norm_method, wls=str(int(wls)).zfill(3), wss=str(wss)))\n",
    "                                path_out  = osp.join(PRJ_DIR,'Data_Interim','PNAS2015',subject,'UMAP',input_data,'{subject}_Craddock_0200.WL{wls}s.WS{wss}s.UMAP_{dist}_k{knn}_m{m}_md{min_dist}_a{alpha}_{init_method}.{norm_method}.pkl'.format(subject=subject,\n",
    "                                                                                                                                                   wls=str(int(wls)).zfill(3), \n",
    "                                                                                                                                                   wss=str(wss),\n",
    "                                                                                                                                                   dist=dist,\n",
    "                                                                                                                                                   knn=str(knn).zfill(4),\n",
    "                                                                                                                                                   m=str(m).zfill(4),\n",
    "                                                                                                                                                   min_dist=str(min_dist),\n",
    "                                                                                                                                                   init_method=init_method,\n",
    "                                                                                                                                                   norm_method=norm_method,\n",
    "                                                                                                                                                   alpha=str(alpha)))\n",
    "                                if True:#not osp.exists(path_out):\n",
    "                                    num_entries += 1\n",
    "                                    swarm_file.write('export path_tvfc={path_tvfc} dist={dist} knn={knn} min_dist={min_dist} alpha={alpha} init={init_method} m={m} path_out={path_out}; sh {scripts_dir}/N09_UMAP.sh'.format(path_tvfc=path_tvfc, \n",
    "                                                                                                                                    path_out=path_out,\n",
    "                                                                                                                                    init_method = init_method,\n",
    "                                                                                                                                    dist=dist,\n",
    "                                                                                                                                    knn=knn,\n",
    "                                                                                                                                    m=m, \n",
    "                                                                                                                                    min_dist=min_dist,\n",
    "                                                                                                                                    alpha=alpha,\n",
    "                                                                                                                                    scripts_dir=osp.join(PRJ_DIR,'Notebooks')))\n",
    "                                    swarm_file.write('\\n')\n",
    "swarm_file.close()\n",
    "print(\"++ INFO: Attempts/Written = [%d/%d]\" % (num_entries,num_iters))"
   ]
  },
  {
   "cell_type": "markdown",
   "id": "7185cb17-ac8f-4f81-97c3-58d2baf0c378",
   "metadata": {},
   "source": [
    "## 2.2. Compute SI for UMAP Group results: \"Concatenation + UMAP\""
   ]
  },
  {
   "cell_type": "code",
   "execution_count": 51,
   "id": "562bcc74-8e47-4169-b476-271e3975027c",
   "metadata": {},
   "outputs": [
    {
     "name": "stdout",
     "output_type": "stream",
     "text": [
      "++ INFO: user working now --> javiergc\n",
      "++ INFO: Swarm File  : /data/SFIMJGC_HCP7T/manifold_learning_fmri/SwarmFiles.javiergc/N09_UMAP_Eval_Clustering_ALL.SWARM.sh\n",
      "++ INFO: Logs Folder : /data/SFIMJGC_HCP7T/manifold_learning_fmri/Logs.javiergc/N09_UMAP_Eval_Clustering_ALL.logs\n"
     ]
    }
   ],
   "source": [
    "#user specific folders\n",
    "#=====================\n",
    "username = getpass.getuser()\n",
    "print('++ INFO: user working now --> %s' % username)\n",
    "\n",
    "swarm_folder   = osp.join(PRJ_DIR,'SwarmFiles.{username}'.format(username=username))\n",
    "logs_folder    = osp.join(PRJ_DIR,'Logs.{username}'.format(username=username))  \n",
    "\n",
    "swarm_path     = osp.join(swarm_folder,'N09_UMAP_Eval_Clustering_ALL.SWARM.sh')\n",
    "logdir_path    = osp.join(logs_folder, 'N09_UMAP_Eval_Clustering_ALL.logs')\n",
    "\n",
    "if not osp.exists(swarm_folder):\n",
    "    os.makedirs(swarm_folder)\n",
    "if not osp.exists(logdir_path):\n",
    "    os.makedirs(logdir_path)\n",
    "print('++ INFO: Swarm File  : %s' % swarm_path)\n",
    "print('++ INFO: Logs Folder : %s' % logdir_path)"
   ]
  },
  {
   "cell_type": "code",
   "execution_count": 52,
   "id": "944bf823-06d3-4027-a73b-5040c1b808a4",
   "metadata": {},
   "outputs": [
    {
     "name": "stdout",
     "output_type": "stream",
     "text": [
      "++ INFO: Attempts/Written = [0/17280]\n"
     ]
    }
   ],
   "source": [
    "# Open the file\n",
    "swarm_file = open(swarm_path, \"w\")\n",
    "# Log the date and time when the SWARM file is created\n",
    "swarm_file.write('#Create Time: %s' % datetime.now().strftime(\"%d/%m/%Y %H:%M:%S\"))\n",
    "swarm_file.write('\\n')\n",
    "\n",
    "# Insert comment line with SWARM command\n",
    "swarm_file.write('#swarm -J UMAP_All_SI -f {swarm_path} -b 18 -g 16 -t 4 --time 00:13:20 --partition=quick,norm --logdir {logdir_path}'.format(swarm_path=swarm_path,logdir_path=logdir_path))\n",
    "swarm_file.write('\\n')\n",
    "num_entries = 0 \n",
    "num_iters = 0\n",
    "for input_data in input_datas:\n",
    "    for norm_method in norm_methods:\n",
    "        for dist in umap_dist_metrics:\n",
    "            for knn in umap_knns:\n",
    "                for m in umap_ms:\n",
    "                    for alpha in umap_alphas:\n",
    "                        num_iters +=1\n",
    "                        input_path = osp.join(PRJ_DIR,'Data_Interim','PNAS2015','ALL','UMAP',input_data,'ALL_Craddock_0200.WL{wls}s.WS{wss}s.UMAP_{dist}_k{knn}_m{m}_md{min_dist}_a{alpha}_{init_method}.{norm_method}.pkl'.format(norm_method=norm_method,\n",
    "                                                                                                                                                   wls=str(int(wls)).zfill(3), \n",
    "                                                                                                                                                   wss=str(wss),\n",
    "                                                                                                                                                   dist=dist,\n",
    "                                                                                                                                                   knn=str(knn).zfill(4),\n",
    "                                                                                                                                                   m=str(m).zfill(4),\n",
    "                                                                                                                                                   min_dist=str(min_dist),\n",
    "                                                                                                                                                   init_method=init_method,\n",
    "                                                                                                                                                   alpha=str(alpha)))\n",
    "                        output_path = osp.join(PRJ_DIR,'Data_Interim','PNAS2015','ALL','UMAP',input_data,'ALL_Craddock_0200.WL{wls}s.WS{wss}s.UMAP_{dist}_k{knn}_m{m}_md{min_dist}_a{alpha}_{init_method}.{norm_method}.SI.pkl'.format(norm_method=norm_method, init_method=init_method,\n",
    "                                                                                                                                                   wls=str(int(wls)).zfill(3), \n",
    "                                                                                                                                                   wss=str(wss),\n",
    "                                                                                                                                                   dist=dist,\n",
    "                                                                                                                                                   knn=str(knn).zfill(4),\n",
    "                                                                                                                                                   m=str(m).zfill(4),\n",
    "                                                                                                                                                   min_dist=str(min_dist),\n",
    "                                                                                                                                                   alpha=str(alpha)))\n",
    "                        if not osp.exists(output_path):\n",
    "                            num_entries += 1\n",
    "                            swarm_file.write('export input={input_path} output={output_path}; sh {scripts_dir}/N10_SI.sh'.format(input_path=input_path, \n",
    "                                                                                                                     output_path=output_path,\n",
    "                                                                                                                     scripts_dir=osp.join(PRJ_DIR,'Notebooks')))\n",
    "                            swarm_file.write('\\n')\n",
    "swarm_file.close()\n",
    "print(\"++ INFO: Attempts/Written = [%d/%d]\" % (num_entries,num_iters))"
   ]
  },
  {
   "cell_type": "markdown",
   "id": "365f659b-641f-41a1-b3b6-55fe4c3bc311",
   "metadata": {},
   "source": [
    "***\n",
    "# 3. Group Level: UMAP + Procrustes (Generation + SI in the same program)"
   ]
  },
  {
   "cell_type": "code",
   "execution_count": 43,
   "id": "c38a910e-bc43-4fa8-8f4f-8a6b3dac9c56",
   "metadata": {},
   "outputs": [
    {
     "name": "stdout",
     "output_type": "stream",
     "text": [
      "++ INFO: user working now --> javiergc\n",
      "++ INFO: Swarm File:  /data/SFIMJGC_HCP7T/manifold_learning_fmri/SwarmFiles.javiergc/N09_UMAP_Clustering_Procrustes.SWARM.sh\n",
      "++ INFO: Logs Folder: /data/SFIMJGC_HCP7T/manifold_learning_fmri/Logs.javiergc/N09_UMAP_Clustering_Procrustes.logs\n"
     ]
    }
   ],
   "source": [
    "#user specific folders\n",
    "#=====================\n",
    "username = getpass.getuser()\n",
    "print('++ INFO: user working now --> %s' % username)\n",
    "\n",
    "swarm_folder   = osp.join(PRJ_DIR,'SwarmFiles.{username}'.format(username=username))\n",
    "logs_folder    = osp.join(PRJ_DIR,'Logs.{username}'.format(username=username))  \n",
    "\n",
    "swarm_path     = osp.join(swarm_folder,'N09_UMAP_Clustering_Procrustes.SWARM.sh')\n",
    "logdir_path    = osp.join(logs_folder, 'N09_UMAP_Clustering_Procrustes.logs')\n",
    "\n",
    "if not osp.exists(swarm_folder):\n",
    "    os.makedirs(swarm_folder)\n",
    "if not osp.exists(logdir_path):\n",
    "    os.makedirs(logdir_path)\n",
    "print('++ INFO: Swarm File:  %s' % swarm_path)\n",
    "print('++ INFO: Logs Folder: %s' % logdir_path)"
   ]
  },
  {
   "cell_type": "code",
   "execution_count": 44,
   "id": "a453c9de-a185-4e3f-81dd-c80590328e1a",
   "metadata": {},
   "outputs": [
    {
     "name": "stdout",
     "output_type": "stream",
     "text": [
      "++ INFO: Missing/Needed = [0/5760]\n"
     ]
    }
   ],
   "source": [
    "# Open the file\n",
    "swarm_file = open(swarm_path, \"w\")\n",
    "# Log the date and time when the SWARM file is created\n",
    "swarm_file.write('#Create Time: %s' % datetime.now().strftime(\"%d/%m/%Y %H:%M:%S\"))\n",
    "swarm_file.write('\\n')\n",
    "\n",
    "# Insert comment line with SWARM command\n",
    "swarm_file.write('#swarm -J UMAP_Procrustes_SI -f {swarm_path} -b 6 -g 4 -t 4 --time 00:40:00 --partition quick,norm --logdir {logdir_path}'.format(swarm_path=swarm_path,logdir_path=logdir_path))\n",
    "swarm_file.write('\\n')\n",
    "num_entries = 0 \n",
    "num_iters = 0\n",
    "\n",
    "input_method = 'spectral'\n",
    "mdist        = 0.8\n",
    "for input_data in ['Original']:\n",
    "    for norm_method in norm_methods:\n",
    "        for dist in umap_dist_metrics:\n",
    "            for knn in umap_knns:\n",
    "                for alpha in umap_alphas:\n",
    "                    for m in umap_ms:\n",
    "                        num_iters += 1\n",
    "                        emb_path = osp.join(PRJ_DIR,'Data_Interim','PNAS2015','Procrustes','UMAP',input_data,\n",
    "                                'Procrustes_Craddock_0200.WL{wls}s.WS{wss}s.UMAP_{dist}_k{knn}_m{m}_md{mdist}_a{alpha}_{init}.{nm}.pkl'.format(wls=str(int(wls)).zfill(3),alpha=str(alpha),\n",
    "                                                                                                                      wss=str(wss),init=init_method,\n",
    "                                                                                                                      dist=dist,\n",
    "                                                                                                                      knn=str(knn).zfill(4),\n",
    "                                                                                                                      nm=norm_method,\n",
    "                                                                                                                      mdist=str(mdist),\n",
    "                                                                                                                      m=str(m).zfill(4)))\n",
    "                        si_path = osp.join(PRJ_DIR,'Data_Interim','PNAS2015','Procrustes','UMAP',input_data,\n",
    "                               'Procrustes_Craddock_0200.WL{wls}s.WS{wss}s.UMAP_{dist}_k{knn}_m{m}_md{mdist}_a{alpha}_{init}.{nm}.SI.pkl'.format(wls=str(int(wls)).zfill(3), \n",
    "                                                                                                                      alpha=str(alpha),init=init_method,\n",
    "                                                                                                                      wss=str(wss),\n",
    "                                                                                                                      dist=dist,\n",
    "                                                                                                                      knn=str(knn).zfill(4),\n",
    "                                                                                                                      mdist=str(mdist),\n",
    "                                                                                                                      nm=norm_method,\n",
    "                                                                                                                      m=str(m).zfill(4)))\n",
    "\n",
    "                        if (not osp.exists(emb_path)) | (not osp.exists(si_path)):\n",
    "                            num_entries += 1\n",
    "                            swarm_file.write('export sbj_list=\"{sbj_list}\" input_data={input_data} norm_method={norm_method} dist={dist} knn={knn} mdist={mdist} m={m} drop_xxxx={drop_xxxx} alpha={alpha} init_method={init_method}; sh {scripts_dir}/N11_UMAP_Procrustes.sh'.format(\n",
    "                                                                                                 sbj_list=','.join(PNAS2015_subject_list),\n",
    "                                                                                                 input_data = input_data,\n",
    "                                                                                                 norm_method = norm_method,\n",
    "                                                                                                 dist = dist,\n",
    "                                                                                                 knn  = str(knn),\n",
    "                                                                                                 m = str(m),\n",
    "                                                                                                 mdist = str(mdist),\n",
    "                                                                                                 init_method=init_method,\n",
    "                                                                                                 alpha=str(alpha),\n",
    "                                                                                                 drop_xxxx='False',\n",
    "                                                                                                 scripts_dir = osp.join(PRJ_DIR,'Notebooks')))\n",
    "                            swarm_file.write('\\n')\n",
    "swarm_file.close()\n",
    "print(\"++ INFO: Missing/Needed = [%d/%d]\" % (num_entries,num_iters))"
   ]
  },
  {
   "cell_type": "markdown",
   "id": "0797a2da-615e-4a6d-b608-d608665db5f6",
   "metadata": {},
   "source": [
    "***\n",
    "# 4. Save all Computed SI values into a single dataframe"
   ]
  },
  {
   "cell_type": "code",
   "execution_count": 53,
   "id": "e733e8c6-f28a-43ef-849d-97f970d43381",
   "metadata": {},
   "outputs": [],
   "source": [
    "from utils.io import load_UMAP_SI"
   ]
  },
  {
   "cell_type": "code",
   "execution_count": 55,
   "id": "963abb9c-e661-427d-b4db-1ccba5fb8fc1",
   "metadata": {},
   "outputs": [
    {
     "name": "stdout",
     "output_type": "stream",
     "text": [
      "++ Loading Group-Level \"Concat + UMAP\" SI values.....\n"
     ]
    },
    {
     "data": {
      "application/vnd.jupyter.widget-view+json": {
       "model_id": "256d67a091174ba980a9042ca1c9533e",
       "version_major": 2,
       "version_minor": 0
      },
      "text/plain": [
       "Subjects::   0%|          | 0/1 [00:00<?, ?it/s]"
      ]
     },
     "metadata": {},
     "output_type": "display_data"
    },
    {
     "data": {
      "application/vnd.jupyter.widget-view+json": {
       "model_id": "",
       "version_major": 2,
       "version_minor": 0
      },
      "text/plain": [
       "Data Inputs::   0%|          | 0/1 [00:00<?, ?it/s]"
      ]
     },
     "metadata": {},
     "output_type": "display_data"
    },
    {
     "name": "stdout",
     "output_type": "stream",
     "text": [
      "++ INFO [load_UMAP_SI]: Number of files missing = [0/5760] files\n",
      "++ ==================================================\n",
      "++ Loading Group-Level \"UMAP + Procrustes\" SI values.....\n"
     ]
    },
    {
     "data": {
      "application/vnd.jupyter.widget-view+json": {
       "model_id": "d7f980f70f7a4b3b9596f1bd565651ea",
       "version_major": 2,
       "version_minor": 0
      },
      "text/plain": [
       "Subjects::   0%|          | 0/1 [00:00<?, ?it/s]"
      ]
     },
     "metadata": {},
     "output_type": "display_data"
    },
    {
     "data": {
      "application/vnd.jupyter.widget-view+json": {
       "model_id": "",
       "version_major": 2,
       "version_minor": 0
      },
      "text/plain": [
       "Data Inputs::   0%|          | 0/1 [00:00<?, ?it/s]"
      ]
     },
     "metadata": {},
     "output_type": "display_data"
    },
    {
     "name": "stdout",
     "output_type": "stream",
     "text": [
      "++ INFO [load_UMAP_SI]: Number of files missing = [0/5760] files\n",
      "++ ======================================================\n",
      "++ Loading Scan-Level SI values.....\n"
     ]
    },
    {
     "data": {
      "application/vnd.jupyter.widget-view+json": {
       "model_id": "98e2527d73b84479862f6e5e72061244",
       "version_major": 2,
       "version_minor": 0
      },
      "text/plain": [
       "Subjects::   0%|          | 0/20 [00:00<?, ?it/s]"
      ]
     },
     "metadata": {},
     "output_type": "display_data"
    },
    {
     "data": {
      "application/vnd.jupyter.widget-view+json": {
       "model_id": "",
       "version_major": 2,
       "version_minor": 0
      },
      "text/plain": [
       "Data Inputs::   0%|          | 0/3 [00:00<?, ?it/s]"
      ]
     },
     "metadata": {},
     "output_type": "display_data"
    },
    {
     "data": {
      "application/vnd.jupyter.widget-view+json": {
       "model_id": "",
       "version_major": 2,
       "version_minor": 0
      },
      "text/plain": [
       "Data Inputs::   0%|          | 0/3 [00:00<?, ?it/s]"
      ]
     },
     "metadata": {},
     "output_type": "display_data"
    },
    {
     "data": {
      "application/vnd.jupyter.widget-view+json": {
       "model_id": "",
       "version_major": 2,
       "version_minor": 0
      },
      "text/plain": [
       "Data Inputs::   0%|          | 0/3 [00:00<?, ?it/s]"
      ]
     },
     "metadata": {},
     "output_type": "display_data"
    },
    {
     "data": {
      "application/vnd.jupyter.widget-view+json": {
       "model_id": "",
       "version_major": 2,
       "version_minor": 0
      },
      "text/plain": [
       "Data Inputs::   0%|          | 0/3 [00:00<?, ?it/s]"
      ]
     },
     "metadata": {},
     "output_type": "display_data"
    },
    {
     "data": {
      "application/vnd.jupyter.widget-view+json": {
       "model_id": "",
       "version_major": 2,
       "version_minor": 0
      },
      "text/plain": [
       "Data Inputs::   0%|          | 0/3 [00:00<?, ?it/s]"
      ]
     },
     "metadata": {},
     "output_type": "display_data"
    },
    {
     "data": {
      "application/vnd.jupyter.widget-view+json": {
       "model_id": "",
       "version_major": 2,
       "version_minor": 0
      },
      "text/plain": [
       "Data Inputs::   0%|          | 0/3 [00:00<?, ?it/s]"
      ]
     },
     "metadata": {},
     "output_type": "display_data"
    },
    {
     "data": {
      "application/vnd.jupyter.widget-view+json": {
       "model_id": "",
       "version_major": 2,
       "version_minor": 0
      },
      "text/plain": [
       "Data Inputs::   0%|          | 0/3 [00:00<?, ?it/s]"
      ]
     },
     "metadata": {},
     "output_type": "display_data"
    },
    {
     "data": {
      "application/vnd.jupyter.widget-view+json": {
       "model_id": "",
       "version_major": 2,
       "version_minor": 0
      },
      "text/plain": [
       "Data Inputs::   0%|          | 0/3 [00:00<?, ?it/s]"
      ]
     },
     "metadata": {},
     "output_type": "display_data"
    },
    {
     "data": {
      "application/vnd.jupyter.widget-view+json": {
       "model_id": "",
       "version_major": 2,
       "version_minor": 0
      },
      "text/plain": [
       "Data Inputs::   0%|          | 0/3 [00:00<?, ?it/s]"
      ]
     },
     "metadata": {},
     "output_type": "display_data"
    },
    {
     "data": {
      "application/vnd.jupyter.widget-view+json": {
       "model_id": "",
       "version_major": 2,
       "version_minor": 0
      },
      "text/plain": [
       "Data Inputs::   0%|          | 0/3 [00:00<?, ?it/s]"
      ]
     },
     "metadata": {},
     "output_type": "display_data"
    },
    {
     "data": {
      "application/vnd.jupyter.widget-view+json": {
       "model_id": "",
       "version_major": 2,
       "version_minor": 0
      },
      "text/plain": [
       "Data Inputs::   0%|          | 0/3 [00:00<?, ?it/s]"
      ]
     },
     "metadata": {},
     "output_type": "display_data"
    },
    {
     "data": {
      "application/vnd.jupyter.widget-view+json": {
       "model_id": "",
       "version_major": 2,
       "version_minor": 0
      },
      "text/plain": [
       "Data Inputs::   0%|          | 0/3 [00:00<?, ?it/s]"
      ]
     },
     "metadata": {},
     "output_type": "display_data"
    },
    {
     "data": {
      "application/vnd.jupyter.widget-view+json": {
       "model_id": "",
       "version_major": 2,
       "version_minor": 0
      },
      "text/plain": [
       "Data Inputs::   0%|          | 0/3 [00:00<?, ?it/s]"
      ]
     },
     "metadata": {},
     "output_type": "display_data"
    },
    {
     "data": {
      "application/vnd.jupyter.widget-view+json": {
       "model_id": "",
       "version_major": 2,
       "version_minor": 0
      },
      "text/plain": [
       "Data Inputs::   0%|          | 0/3 [00:00<?, ?it/s]"
      ]
     },
     "metadata": {},
     "output_type": "display_data"
    },
    {
     "data": {
      "application/vnd.jupyter.widget-view+json": {
       "model_id": "",
       "version_major": 2,
       "version_minor": 0
      },
      "text/plain": [
       "Data Inputs::   0%|          | 0/3 [00:00<?, ?it/s]"
      ]
     },
     "metadata": {},
     "output_type": "display_data"
    },
    {
     "data": {
      "application/vnd.jupyter.widget-view+json": {
       "model_id": "",
       "version_major": 2,
       "version_minor": 0
      },
      "text/plain": [
       "Data Inputs::   0%|          | 0/3 [00:00<?, ?it/s]"
      ]
     },
     "metadata": {},
     "output_type": "display_data"
    },
    {
     "data": {
      "application/vnd.jupyter.widget-view+json": {
       "model_id": "",
       "version_major": 2,
       "version_minor": 0
      },
      "text/plain": [
       "Data Inputs::   0%|          | 0/3 [00:00<?, ?it/s]"
      ]
     },
     "metadata": {},
     "output_type": "display_data"
    },
    {
     "data": {
      "application/vnd.jupyter.widget-view+json": {
       "model_id": "",
       "version_major": 2,
       "version_minor": 0
      },
      "text/plain": [
       "Data Inputs::   0%|          | 0/3 [00:00<?, ?it/s]"
      ]
     },
     "metadata": {},
     "output_type": "display_data"
    },
    {
     "data": {
      "application/vnd.jupyter.widget-view+json": {
       "model_id": "",
       "version_major": 2,
       "version_minor": 0
      },
      "text/plain": [
       "Data Inputs::   0%|          | 0/3 [00:00<?, ?it/s]"
      ]
     },
     "metadata": {},
     "output_type": "display_data"
    },
    {
     "data": {
      "application/vnd.jupyter.widget-view+json": {
       "model_id": "",
       "version_major": 2,
       "version_minor": 0
      },
      "text/plain": [
       "Data Inputs::   0%|          | 0/3 [00:00<?, ?it/s]"
      ]
     },
     "metadata": {},
     "output_type": "display_data"
    },
    {
     "name": "stdout",
     "output_type": "stream",
     "text": [
      "++ INFO [load_UMAP_SI]: Number of files missing = [0/345600] files\n",
      "++ =================================\n",
      "++ Combine into a single DataFrame....\n",
      "++ Save Dataframe to disk [/data/SFIMJGC_HCP7T/manifold_learning_fmri/Dashboard/Data/si_UMAP.pkl]\n",
      "CPU times: user 1h 49min 49s, sys: 1min 1s, total: 1h 50min 50s\n",
      "Wall time: 1h 57min 16s\n"
     ]
    }
   ],
   "source": [
    "%%time\n",
    "RELOAD_SI_UMAP = True\n",
    "if RELOAD_SI_UMAP:\n",
    "    print('++ Loading Group-Level \"Concat + UMAP\" SI values.....')\n",
    "    si_UMAP_all = load_UMAP_SI(sbj_list=['ALL'],check_availability=False, verbose=True, wls=wls, wss=wss, input_datas=['Original'])\n",
    "    print('++ ==================================================')\n",
    "    print('++ Loading Group-Level \"UMAP + Procrustes\" SI values.....')\n",
    "    si_UMAP_procrustes = load_UMAP_SI(sbj_list=['Procrustes'],check_availability=False, verbose=True, wls=wls, wss=wss, input_datas=['Original'])\n",
    "    print('++ ======================================================')\n",
    "    print('++ Loading Scan-Level SI values.....')\n",
    "    si_UMAP_scans = load_UMAP_SI(sbj_list=PNAS2015_subject_list,check_availability=False, verbose=True, wls=wls, wss=wss)\n",
    "    print('++ =================================')\n",
    "    print('++ Combine into a single DataFrame....')\n",
    "    si_UMAP = pd.concat([si_UMAP_scans, si_UMAP_all, si_UMAP_procrustes])\n",
    "    si_UMAP.replace('Window Name','Task', inplace=True)\n",
    "    si_UMAP = si_UMAP.set_index(['Subject','Input Data','Norm','Init','MinDist','Metric','Knn','Alpha','m','Target']).sort_index()\n",
    "    del si_UMAP_scans, si_UMAP_all, si_UMAP_procrustes\n",
    "    si_path = osp.join(PRJ_DIR,'Dashboard','Data','si_UMAP.pkl')\n",
    "    print('++ Save Dataframe to disk [%s]' % si_path)\n",
    "    si_UMAP.to_pickle(si_path)\n",
    "else:\n",
    "    si_UMAP = pd.read_pickle(osp.join(PRJ_DIR,'Dashboard','Data','si_UMAP.pkl'))"
   ]
  },
  {
   "cell_type": "markdown",
   "id": "06ab8a7b-ee73-4e3b-8fec-b8f40d4a9b0a",
   "metadata": {},
   "source": [
    "***\n",
    "***\n",
    "# END OF NOTEBOOK\n",
    "***\n",
    "***"
   ]
  },
  {
   "cell_type": "code",
   "execution_count": null,
   "id": "d199f5e7-0f4b-49e3-9970-85f16fc568ca",
   "metadata": {},
   "outputs": [],
   "source": []
  },
  {
   "cell_type": "markdown",
   "id": "b30e657d-9172-469f-8780-2ea93f4311a5",
   "metadata": {},
   "source": [
    "### Extra cases for the Classification Study"
   ]
  },
  {
   "cell_type": "code",
   "execution_count": 9,
   "id": "3690be47-920c-4f00-862b-4911469c58ea",
   "metadata": {},
   "outputs": [
    {
     "name": "stdout",
     "output_type": "stream",
     "text": [
      "++ INFO: Attempts/Written = [300/300]\n"
     ]
    }
   ],
   "source": [
    "# Open the file\n",
    "swarm_file = open(swarm_path, \"w\")\n",
    "# Log the date and time when the SWARM file is created\n",
    "swarm_file.write('#Create Time: %s' % datetime.now().strftime(\"%d/%m/%Y %H:%M:%S\"))\n",
    "swarm_file.write('\\n')\n",
    "\n",
    "# Insert comment line with SWARM command\n",
    "swarm_file.write('#swarm -J UMAP_Scan_Extra -f {swarm_path} -g 4 -t 4 --time 04:00:00 --partition quick,norm --logdir {logdir_path}'.format(swarm_path=swarm_path,logdir_path=logdir_path))\n",
    "swarm_file.write('\\n')\n",
    "num_entries = 0 \n",
    "num_iters = 0\n",
    "for subject in PNAS2015_subject_list:\n",
    "    for input_data in input_datas:\n",
    "        for norm_method in ['asis']:\n",
    "            for dist in ['euclidean']:\n",
    "                for knn in [70]:\n",
    "                    for m in [5,10,15,20,25]:\n",
    "                        for alpha in [0.01]:\n",
    "                            for init_method in ['spectral']:\n",
    "                                num_iters +=1\n",
    "                                path_tvfc = osp.join(PRJ_DIR,'Data_Interim','PNAS2015',subject,input_data,'{subject}_Craddock_0200.WL{wls}s.WS{wss}s.tvFC.Z.{norm_method}.pkl'.format(subject=subject,norm_method=norm_method, wls=str(int(wls)).zfill(3), wss=str(wss)))\n",
    "                                path_out  = osp.join(PRJ_DIR,'Data_Interim','PNAS2015',subject,'UMAP',input_data,'{subject}_Craddock_0200.WL{wls}s.WS{wss}s.UMAP_{dist}_k{knn}_m{m}_md{min_dist}_a{alpha}_{init_method}.{norm_method}.pkl'.format(subject=subject,\n",
    "                                                                                                                                                   wls=str(int(wls)).zfill(3), \n",
    "                                                                                                                                                   wss=str(wss),\n",
    "                                                                                                                                                   dist=dist,\n",
    "                                                                                                                                                   knn=str(knn).zfill(4),\n",
    "                                                                                                                                                   m=str(m).zfill(4),\n",
    "                                                                                                                                                   min_dist=str(min_dist),\n",
    "                                                                                                                                                   init_method=init_method,\n",
    "                                                                                                                                                   norm_method=norm_method,\n",
    "                                                                                                                                                   alpha=str(alpha)))\n",
    "                                if not osp.exists(path_out):\n",
    "                                    num_entries += 1\n",
    "                                    swarm_file.write('export path_tvfc={path_tvfc} dist={dist} knn={knn} min_dist={min_dist} alpha={alpha} init={init_method} m={m} path_out={path_out}; sh {scripts_dir}/N09_UMAP.sh'.format(path_tvfc=path_tvfc, \n",
    "                                                                                                                                    path_out=path_out,\n",
    "                                                                                                                                    init_method = init_method,\n",
    "                                                                                                                                    dist=dist,\n",
    "                                                                                                                                    knn=knn,\n",
    "                                                                                                                                    m=m, \n",
    "                                                                                                                                    min_dist=min_dist,\n",
    "                                                                                                                                    alpha=alpha,\n",
    "                                                                                                                                    scripts_dir=osp.join(PRJ_DIR,'Notebooks')))\n",
    "                                    swarm_file.write('\\n')\n",
    "swarm_file.close()\n",
    "print(\"++ INFO: Attempts/Written = [%d/%d]\" % (num_entries,num_iters))"
   ]
  }
 ],
 "metadata": {
  "jupytext": {
   "formats": "ipynb,py:light"
  },
  "kernelspec": {
   "display_name": "opentsne",
   "language": "python",
   "name": "opentsne"
  },
  "language_info": {
   "codemirror_mode": {
    "name": "ipython",
    "version": 3
   },
   "file_extension": ".py",
   "mimetype": "text/x-python",
   "name": "python",
   "nbconvert_exporter": "python",
   "pygments_lexer": "ipython3",
   "version": "3.7.13"
  }
 },
 "nbformat": 4,
 "nbformat_minor": 5
}
