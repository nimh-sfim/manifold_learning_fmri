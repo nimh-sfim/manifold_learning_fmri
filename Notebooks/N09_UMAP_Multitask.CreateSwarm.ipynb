{
 "cells": [
  {
   "cell_type": "markdown",
   "id": "767b3f39-cbb6-474a-ae1d-00ff4e377497",
   "metadata": {},
   "source": [
    "# Description\n",
    "\n",
    "This notebook will compute UMAP for the multi-task dataset. For UMAP we explore three hyper-parameters:\n",
    "\n",
    "* Distance Function: euclidean, cosine or correlation\n",
    "* knn: neighborhood size\n",
    "* m: final number of dimensions\n",
    "* learning rate: for the optimization phase\n",
    "\n",
    "Matrices will be written as pandas pickle objects in ```/data/SFIMJGC_HCP7T/manifold_learning/Data_Interim/PNAS2015/{sbj}/UMAP```"
   ]
  },
  {
   "cell_type": "code",
   "execution_count": 1,
   "id": "63b3e4ef-c11e-4622-b10d-b12e34a2c1e8",
   "metadata": {},
   "outputs": [],
   "source": [
    "import pandas as pd\n",
    "import numpy as np\n",
    "import os\n",
    "import os.path as osp\n",
    "import getpass\n",
    "from datetime import datetime\n",
    "from utils.basics import PNAS2015_subject_list, PNAS2015_folder, PRJ_DIR\n",
    "from utils.basics import umap_dist_metrics, umap_knns, umap_ms, umap_alphas"
   ]
  },
  {
   "cell_type": "markdown",
   "id": "3294dd77-c285-49fe-8bbf-3ce5f1449cc8",
   "metadata": {
    "tags": []
   },
   "source": [
    "***\n",
    "\n",
    "The next cell select the Window Length ```wls``` and Window Step ```wss``` used to generate the matrices"
   ]
  },
  {
   "cell_type": "code",
   "execution_count": 2,
   "id": "adc17dc5-4a5b-41dd-b474-48904d903ed9",
   "metadata": {},
   "outputs": [],
   "source": [
    "wls      = 45\n",
    "wss      = 1.5\n",
    "min_dist = 0.8"
   ]
  },
  {
   "cell_type": "markdown",
   "id": "e9f7b2ea-3130-4732-928d-76f54fd0ee27",
   "metadata": {},
   "source": [
    "***\n",
    "Those are the scenarios we will be running"
   ]
  },
  {
   "cell_type": "code",
   "execution_count": 3,
   "id": "950ff07f-7194-42bb-9038-fa0dfeb9518f",
   "metadata": {},
   "outputs": [
    {
     "name": "stdout",
     "output_type": "stream",
     "text": [
      "++ INFO: Distance Metrics: ['euclidean', 'correlation', 'cosine']\n",
      "++ INFO: Knns:             [2, 3, 4, 5, 10, 15, 20, 25, 30, 35, 40, 45, 50, 55, 60, 65, 70, 75, 80, 85, 90, 95, 100, 105, 110, 115, 120, 125, 130, 135, 140, 145, 150, 155, 160, 165, 170, 175, 180, 185, 190, 195, 200]\n",
      "++ INFO: Ms:               [2, 3, 4, 5, 10, 15, 20, 25, 30]\n",
      "++ INFO: Learning Rates:   [0.01, 0.1, 1.0]\n"
     ]
    }
   ],
   "source": [
    "print('++ INFO: Distance Metrics: %s' % str(umap_dist_metrics))\n",
    "print('++ INFO: Knns:             %s' % str(umap_knns))\n",
    "print('++ INFO: Ms:               %s' % str(umap_ms))\n",
    "print('++ INFO: Learning Rates:   %s' % str(umap_alphas))"
   ]
  },
  {
   "cell_type": "markdown",
   "id": "b378e397-33f2-4e71-9894-425e57d01501",
   "metadata": {},
   "source": [
    "The next cell will create the output folders if they do not exist already"
   ]
  },
  {
   "cell_type": "code",
   "execution_count": 4,
   "id": "6dd3f61e-af06-404e-abda-f7a71f6866db",
   "metadata": {},
   "outputs": [],
   "source": [
    "# Create Output Folders if they do not exists\n",
    "for subject in PNAS2015_subject_list:\n",
    "    path = osp.join(PRJ_DIR,'Data_Interim','PNAS2015',subject,'UMAP')\n",
    "    if not osp.exists(path):\n",
    "        os.makedirs(path)"
   ]
  },
  {
   "cell_type": "markdown",
   "id": "2ef74a42-99c2-47ee-b09d-af83e971f6af",
   "metadata": {},
   "source": [
    "The next cell will create folders for the swarm log files and for the actual swarm script. Those folders are created using the username as part of their name. That way it is easier for different users to work together on the project."
   ]
  },
  {
   "cell_type": "code",
   "execution_count": 5,
   "id": "bf1589e9-c651-491f-85a9-ca8397e10630",
   "metadata": {},
   "outputs": [
    {
     "name": "stdout",
     "output_type": "stream",
     "text": [
      "++ INFO: user working now --> javiergc\n"
     ]
    }
   ],
   "source": [
    "#user specific folders\n",
    "#=====================\n",
    "username = getpass.getuser()\n",
    "print('++ INFO: user working now --> %s' % username)\n",
    "\n",
    "swarm_folder   = osp.join(PRJ_DIR,'SwarmFiles.{username}'.format(username=username))\n",
    "logs_folder    = osp.join(PRJ_DIR,'Logs.{username}'.format(username=username))  \n",
    "\n",
    "swarm_path     = osp.join(swarm_folder,'N09_UMAP_Multitask.SWARM.sh')\n",
    "logdir_path    = osp.join(logs_folder, 'N09_UMAP_Multitask.logs')\n",
    "\n",
    "if not osp.exists(swarm_folder):\n",
    "    os.makedirs(swarm_folder)\n",
    "if not osp.exists(logdir_path):\n",
    "    os.makedirs(logdir_path)"
   ]
  },
  {
   "cell_type": "markdown",
   "id": "feb06979-2334-44af-9583-bc99c941e0d9",
   "metadata": {},
   "source": [
    "Create swarm script. This script will have one line per matrix to be generated."
   ]
  },
  {
   "cell_type": "code",
   "execution_count": 12,
   "id": "52e7ce7c-71c1-4af8-9e07-9958af70f71c",
   "metadata": {
    "lines_to_next_cell": 0
   },
   "outputs": [],
   "source": [
    "# Open the file\n",
    "swarm_file = open(swarm_path, \"w\")\n",
    "# Log the date and time when the SWARM file is created\n",
    "swarm_file.write('#Create Time: %s' % datetime.now().strftime(\"%d/%m/%Y %H:%M:%S\"))\n",
    "swarm_file.write('\\n')\n",
    "\n",
    "# Insert comment line with SWARM command\n",
    "swarm_file.write('#swarm -f {swarm_path} -b 5 -g 4 -t 4 --time 00:05:00 --partition quick,norm --logdir {logdir_path}'.format(swarm_path=swarm_path,logdir_path=logdir_path))\n",
    "swarm_file.write('\\n')\n",
    "\n",
    "for subject in PNAS2015_subject_list:\n",
    "    for dist in umap_dist_metrics:\n",
    "        for knn in umap_knns:\n",
    "            for m in [2,3]:\n",
    "                for alpha in umap_alphas:\n",
    "                    path_tvfc = osp.join(PRJ_DIR,'Data_Interim','PNAS2015',subject,'{subject}_Craddock_0200.WL{wls}s.WS{wss}s.tvFC.R.pkl'.format(subject=subject,wls=str(int(wls)).zfill(3), wss=str(wss)))\n",
    "                    path_out  = osp.join(PRJ_DIR,'Data_Interim','PNAS2015',subject,'UMAP','{subject}_Craddock_0200.WL{wls}s.WS{wss}s.UMAP_{dist}_k{knn}_m{m}_md{min_dist}_a{alpha}.pkl'.format(subject=subject,\n",
    "                                                                                                                                                   wls=str(int(wls)).zfill(3), \n",
    "                                                                                                                                                   wss=str(wss),\n",
    "                                                                                                                                                   dist=dist,\n",
    "                                                                                                                                                   knn=str(knn).zfill(4),\n",
    "                                                                                                                                                   m=str(m).zfill(4),\n",
    "                                                                                                                                                   min_dist=str(min_dist),\n",
    "                                                                                                                                                   alpha=str(alpha)))\n",
    "                    swarm_file.write('export path_tvfc={path_tvfc} dist={dist} knn={knn} min_dist={min_dist} alpha={alpha} m={m} path_out={path_out}; sh {scripts_dir}/N09_UMAP.sh'.format(path_tvfc=path_tvfc, \n",
    "                                                                                                                                    path_out=path_out,\n",
    "                                                                                                                                    dist=dist,\n",
    "                                                                                                                                    knn=knn,\n",
    "                                                                                                                                    m=m, \n",
    "                                                                                                                                    min_dist=min_dist,\n",
    "                                                                                                                                    alpha=alpha,\n",
    "                                                                                                                                    scripts_dir=osp.join(PRJ_DIR,'Notebooks')))\n",
    "                    swarm_file.write('\\n')\n",
    "swarm_file.close()"
   ]
  },
  {
   "cell_type": "code",
   "execution_count": null,
   "id": "522f0517-dd7c-4479-86d1-bea0430ee968",
   "metadata": {
    "lines_to_next_cell": 2
   },
   "outputs": [],
   "source": []
  }
 ],
 "metadata": {
  "jupytext": {
   "formats": "ipynb,py:light"
  },
  "kernelspec": {
   "display_name": "opentsne",
   "language": "python",
   "name": "opentsne"
  },
  "language_info": {
   "codemirror_mode": {
    "name": "ipython",
    "version": 3
   },
   "file_extension": ".py",
   "mimetype": "text/x-python",
   "name": "python",
   "nbconvert_exporter": "python",
   "pygments_lexer": "ipython3",
   "version": "3.7.13"
  }
 },
 "nbformat": 4,
 "nbformat_minor": 5
}
