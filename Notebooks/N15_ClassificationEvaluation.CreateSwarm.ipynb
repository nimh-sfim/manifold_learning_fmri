{
 "cells": [
  {
   "cell_type": "markdown",
   "id": "c3f11b5c-eef3-44eb-b750-457685bcf1d8",
   "metadata": {},
   "source": [
    "# Description\n",
    "\n",
    "This notebook computes classification accuracy on a couple of scenarios to demonstrate the value of keeping dimensions above 3."
   ]
  },
  {
   "cell_type": "code",
   "execution_count": 14,
   "id": "8b873162-5c31-4892-aeca-fe523e7a3e3d",
   "metadata": {},
   "outputs": [],
   "source": [
    "import pandas as pd\n",
    "import numpy as np\n",
    "import os\n",
    "import os.path as osp\n",
    "import getpass\n",
    "from datetime import datetime\n",
    "from tqdm.notebook import tqdm\n",
    "from utils.basics import task_cmap_caps\n",
    "from utils.basics import PNAS2015_subject_list, PNAS2015_folder, PNAS2015_roi_names_path, PNAS2015_win_names_paths, PRJ_DIR, input_datas, norm_methods\n",
    "from utils.basics import umap_ms, umap_knns, le_knns,le_ms\n",
    "import xarray as xr\n",
    "import pickle\n",
    "import seaborn as sns\n",
    "import matplotlib.pyplot as plt\n",
    "from utils.basics import wls, wss, tr"
   ]
  },
  {
   "cell_type": "markdown",
   "id": "b34d6c54-63b8-463c-8645-bd2dc20b2c28",
   "metadata": {
    "tags": []
   },
   "source": [
    "# 1. UMAP"
   ]
  },
  {
   "cell_type": "code",
   "execution_count": 15,
   "id": "81c3d51d-4c95-43ed-823c-c941a0c12db4",
   "metadata": {},
   "outputs": [],
   "source": [
    "umap_min_dist    = 0.8\n",
    "umap_init_method = 'spectral'\n",
    "tsne_init_method = 'pca'\n",
    "split_mode       = 'half_half' # Options: by_subject, half_half"
   ]
  },
  {
   "cell_type": "markdown",
   "id": "d2d0af28-658b-408f-9872-03d781f31c65",
   "metadata": {},
   "source": [
    "After looking at the clustering evaluation results, we will select: Euclidean, knn > 50 and alpha = 0.01"
   ]
  },
  {
   "cell_type": "code",
   "execution_count": 16,
   "id": "1551e626-8c9a-4f55-b5ca-10569e29f6d8",
   "metadata": {},
   "outputs": [],
   "source": [
    "umap_cl_dist, umap_cl_alpha, umap_cl_mdist = 'euclidean',0.01, 0.8\n",
    "umap_cl_knns                               = [knn for knn in umap_knns if knn > 50]"
   ]
  },
  {
   "cell_type": "markdown",
   "id": "f8b5a8b5-0947-4181-8519-55bed22b3350",
   "metadata": {},
   "source": [
    "Create output folder"
   ]
  },
  {
   "cell_type": "code",
   "execution_count": 17,
   "id": "8559b8b0-6620-4f8c-819a-ea3ba3a3bfe7",
   "metadata": {},
   "outputs": [],
   "source": [
    "for input_data in ['Original']:\n",
    "    path = osp.join(PRJ_DIR,'Data_Interim','PNAS2015','Procrustes','Classification','UMAP',input_data)\n",
    "    if not osp.exists(path):\n",
    "        print('++ INFO: Creating new folder [%s]' % path)\n",
    "        os.makedirs(path)"
   ]
  },
  {
   "cell_type": "markdown",
   "id": "f4fb2de6-a245-402b-9066-e77235718a1d",
   "metadata": {},
   "source": [
    "Create folders and files for batch jobs"
   ]
  },
  {
   "cell_type": "code",
   "execution_count": 18,
   "id": "feaf288f-e35e-4cdd-8032-fe7253450d8e",
   "metadata": {},
   "outputs": [
    {
     "name": "stdout",
     "output_type": "stream",
     "text": [
      "++ INFO: user working now --> javiergc\n",
      "++ INFO: Swarm File  : /data/SFIMJGC_HCP7T/manifold_learning_fmri/SwarmFiles.javiergc/N16_Figure10_ClassificationEval_UMAP.half_half.SWARM.sh\n",
      "++ INFO: Logs Folder : /data/SFIMJGC_HCP7T/manifold_learning_fmri/Logs.javiergc/N16_Figure10_ClassificationEval_UMAP.logs\n"
     ]
    }
   ],
   "source": [
    "#user specific folders\n",
    "#=====================\n",
    "username = getpass.getuser()\n",
    "print('++ INFO: user working now --> %s' % username)\n",
    "\n",
    "swarm_folder   = osp.join(PRJ_DIR,'SwarmFiles.{username}'.format(username=username))\n",
    "logs_folder    = osp.join(PRJ_DIR,'Logs.{username}'.format(username=username))  \n",
    "\n",
    "swarm_path     = osp.join(swarm_folder,f'N16_Figure10_ClassificationEval_UMAP.{split_mode}.SWARM.sh')\n",
    "logdir_path    = osp.join(logs_folder, 'N16_Figure10_ClassificationEval_UMAP.logs')\n",
    "\n",
    "if not osp.exists(swarm_folder):\n",
    "    os.makedirs(swarm_folder)\n",
    "if not osp.exists(logdir_path):\n",
    "    os.makedirs(logdir_path)\n",
    "print('++ INFO: Swarm File  : %s' % swarm_path)\n",
    "print('++ INFO: Logs Folder : %s' % logdir_path)"
   ]
  },
  {
   "cell_type": "code",
   "execution_count": 19,
   "id": "ee220cca-3979-492f-b669-9a06a2c6262a",
   "metadata": {},
   "outputs": [
    {
     "name": "stdout",
     "output_type": "stream",
     "text": [
      "[960/960]\n"
     ]
    }
   ],
   "source": [
    "# Open the file\n",
    "swarm_file = open(swarm_path, \"w\")\n",
    "# Log the date and time when the SWARM file is created\n",
    "swarm_file.write('#Create Time: %s' % datetime.now().strftime(\"%d/%m/%Y %H:%M:%S\"))\n",
    "swarm_file.write('\\n')\n",
    "\n",
    "# Insert comment line with SWARM command\n",
    "swarm_file.write('#swarm -J Clf_Group_UMAP_Procrustes -f {swarm_path} -b 4 -g 8 -t 8 --time 01:00:00 --partition quick,norm --logdir {logdir_path}'.format(swarm_path=swarm_path,logdir_path=logdir_path))\n",
    "swarm_file.write('\\n')\n",
    "n_total, n_needed = 0,0\n",
    "input_data = 'Original'\n",
    "for clf in 'logisticregression','svc':\n",
    "    for m in [2,3,5,10,15,20,25,30]:\n",
    "        for knn in umap_cl_knns:\n",
    "            for nm in norm_methods:\n",
    "                n_total += 1\n",
    "                features = ','.join(['UMAP'+str(i+1).zfill(3) for i in range(m)])\n",
    "                input_path = osp.join(PRJ_DIR,'Data_Interim','PNAS2015','Procrustes','UMAP',input_data,\n",
    "                                  'Procrustes_Craddock_0200.WL{wls}s.WS{wss}s.UMAP_{dist}_k{knn}_m{m}_md{md}_a{alpha}_spectral.{nm}.pkl'.format(nm=nm,dist=umap_cl_dist,knn=str(knn).zfill(4),\n",
    "                                                                                                                                                   m=str(m).zfill(4),md=str(umap_cl_mdist),\n",
    "                                                                                                                                                   alpha=str(umap_cl_alpha),\n",
    "                                                                                                                                                   wls=str(int(wls)).zfill(3), \n",
    "                                                                                                                                                   wss=str(wss)))\n",
    "                output_path = osp.join(PRJ_DIR,'Data_Interim','PNAS2015','Procrustes','Classification','UMAP',input_data,\n",
    "                                   'Procrustes_Craddock_0200.WL{wls}s.WS{wss}s.UMAP_{dist}_k{knn}_m{m}.{nm}.clf_results.{clf}_WindowName.{split_mode}.pkl'.format(nm=nm,dist=umap_cl_dist,knn=str(knn).zfill(4),\n",
    "                                                                                                                                                   m=str(m).zfill(4),md=str(umap_cl_mdist),clf=clf,\n",
    "                                                                                                                                                   alpha=str(umap_cl_alpha),\n",
    "                                                                                                                                                   wls=str(int(wls)).zfill(3), split_mode=split_mode,\n",
    "                                                                                                                                                   wss=str(wss)))\n",
    "                #if osp.exists(input_path) & (not osp.exists(output_path)):\n",
    "                n_needed += 1\n",
    "                swarm_file.write(\"export input_path={input_path}  output_path={output_path} clf={clf} pid='Window Name' features='{features}' n_jobs=8 split_mode={split_mode}; sh {scripts_dir}/N15_Classify.sh\".format(\n",
    "                       input_path = input_path, output_path=output_path, clf=clf, features=features, split_mode=split_mode,\n",
    "                       scripts_dir=osp.join(PRJ_DIR,'Notebooks')))\n",
    "                swarm_file.write('\\n')\n",
    "swarm_file.close()\n",
    "print('[%d/%d]' % (n_needed,n_total))"
   ]
  },
  {
   "cell_type": "markdown",
   "id": "a6f7efaf-c464-4fe0-b021-bccb7db5782c",
   "metadata": {},
   "source": [
    "# 2. Laplacian Eigenmaps\n",
    "After looking at the clustering evaluation results, we will select: Euclidean, knn > 50."
   ]
  },
  {
   "cell_type": "code",
   "execution_count": 20,
   "id": "11b1210f-d448-47b7-9975-971d836e73ba",
   "metadata": {},
   "outputs": [],
   "source": [
    "le_cl_dist = 'correlation'\n",
    "le_cl_knns                = [knn for knn in le_knns if knn > 50]"
   ]
  },
  {
   "cell_type": "code",
   "execution_count": 21,
   "id": "43935647-dc45-4c76-a99e-988913d23256",
   "metadata": {},
   "outputs": [],
   "source": [
    "for input_data in ['Original']:\n",
    "    path = osp.join(PRJ_DIR,'Data_Interim','PNAS2015','Procrustes','Classification','LE',input_data)\n",
    "    if not osp.exists(path):\n",
    "        print('++ INFO: Creating new folder [%s]' % path)\n",
    "        os.makedirs(path)"
   ]
  },
  {
   "cell_type": "code",
   "execution_count": 22,
   "id": "5f2174bd-cd25-408e-9be4-b42fdc22de74",
   "metadata": {},
   "outputs": [
    {
     "name": "stdout",
     "output_type": "stream",
     "text": [
      "++ INFO: user working now --> javiergc\n",
      "++ INFO: Swarm File  : /data/SFIMJGC_HCP7T/manifold_learning_fmri/SwarmFiles.javiergc/N15_Classify_GroupLevel_Procrustes_LE.half_half.SWARM.sh\n",
      "++ INFO: Logs Folder : /data/SFIMJGC_HCP7T/manifold_learning_fmri/Logs.javiergc/N15_Classify_GroupLevel_Procrustes_LE.logs\n"
     ]
    }
   ],
   "source": [
    "#user specific folders\n",
    "#=====================\n",
    "username = getpass.getuser()\n",
    "print('++ INFO: user working now --> %s' % username)\n",
    "\n",
    "swarm_folder   = osp.join(PRJ_DIR,'SwarmFiles.{username}'.format(username=username))\n",
    "logs_folder    = osp.join(PRJ_DIR,'Logs.{username}'.format(username=username))  \n",
    "\n",
    "swarm_path     = osp.join(swarm_folder,f'N15_Classify_GroupLevel_Procrustes_LE.{split_mode}.SWARM.sh')\n",
    "logdir_path    = osp.join(logs_folder, 'N15_Classify_GroupLevel_Procrustes_LE.logs')\n",
    "\n",
    "if not osp.exists(swarm_folder):\n",
    "    os.makedirs(swarm_folder)\n",
    "if not osp.exists(logdir_path):\n",
    "    os.makedirs(logdir_path)\n",
    "print('++ INFO: Swarm File  : %s' % swarm_path)\n",
    "print('++ INFO: Logs Folder : %s' % logdir_path)"
   ]
  },
  {
   "cell_type": "code",
   "execution_count": 23,
   "id": "5ca39159-8051-44ce-b274-65d36c03ed1e",
   "metadata": {},
   "outputs": [
    {
     "name": "stdout",
     "output_type": "stream",
     "text": [
      "[960/960]\n"
     ]
    }
   ],
   "source": [
    "# Open the file\n",
    "swarm_file = open(swarm_path, \"w\")\n",
    "# Log the date and time when the SWARM file is created\n",
    "swarm_file.write('#Create Time: %s' % datetime.now().strftime(\"%d/%m/%Y %H:%M:%S\"))\n",
    "swarm_file.write('\\n')\n",
    "\n",
    "# Insert comment line with SWARM command\n",
    "swarm_file.write('#swarm -J Clf_Group_LE_Procrustes -f {swarm_path} -b 4 -g 8 -t 8 --time 01:00:00 --partition quick,norm --logdir {logdir_path}'.format(swarm_path=swarm_path,logdir_path=logdir_path))\n",
    "swarm_file.write('\\n')\n",
    "n_total, n_needed = 0,0\n",
    "input_data='Original'\n",
    "for clf in 'logisticregression','svc':\n",
    "    for m in [2,3,5,10,15,20,25,30]:\n",
    "        for knn in le_cl_knns:\n",
    "            for nm in norm_methods:\n",
    "                n_total += 1\n",
    "                features = ','.join(['LE'+str(i+1).zfill(3) for i in range(m)])\n",
    "                input_path = osp.join(PRJ_DIR,'Data_Interim','PNAS2015','Procrustes','LE',input_data,\n",
    "                                      'Procrustes_Craddock_0200.WL{wls}s.WS{wss}s.LE_{dist}_k{knn}_m{m}.{nm}.pkl'.format(nm=nm, dist=le_cl_dist,knn=str(knn).zfill(4),\n",
    "                                                                                                                                                   m=str(m).zfill(4),\n",
    "                                                                                                                                                   wls=str(int(wls)).zfill(3), \n",
    "                                                                                                                                                   wss=str(wss)))\n",
    "                output_path = osp.join(PRJ_DIR,'Data_Interim','PNAS2015','Procrustes','Classification','LE',input_data,\n",
    "                                       'Procrustes_Craddock_0200.WL{wls}s.WS{wss}s.LE_{dist}_k{knn}_m{m}.{nm}.clf_results.{clf}_WindowName.{split_mode}.pkl'.format(nm=nm,dist=le_cl_dist,knn=str(knn).zfill(4),\n",
    "                                                                                                                                                   clf=clf,\n",
    "                                                                                                                                                   wls=str(int(wls)).zfill(3),m=str(m).zfill(4),split_mode=split_mode,\n",
    "                                                                                                                                                   wss=str(wss)))\n",
    "                if osp.exists(input_path) & (not osp.exists(output_path)):\n",
    "                    n_needed += 1\n",
    "                    swarm_file.write(\"export input_path={input_path}  output_path={output_path} clf={clf} pid='Window Name' features='{features}' n_jobs=8 split_mode={split_mode}; sh {scripts_dir}/N15_Classify.sh\".format(\n",
    "                       input_path = input_path, output_path=output_path, clf=clf, features=features, split_mode=split_mode,\n",
    "                       scripts_dir=osp.join(PRJ_DIR,'Notebooks')))\n",
    "                    swarm_file.write('\\n')\n",
    "swarm_file.close()\n",
    "print('[%d/%d]' % (n_needed,n_total))"
   ]
  },
  {
   "cell_type": "code",
   "execution_count": null,
   "id": "7ebda999-e389-4117-89fd-3d6d34826ab9",
   "metadata": {},
   "outputs": [],
   "source": []
  }
 ],
 "metadata": {
  "jupytext": {
   "formats": "ipynb,py:light"
  },
  "kernelspec": {
   "display_name": "opentsne",
   "language": "python",
   "name": "opentsne"
  },
  "language_info": {
   "codemirror_mode": {
    "name": "ipython",
    "version": 3
   },
   "file_extension": ".py",
   "mimetype": "text/x-python",
   "name": "python",
   "nbconvert_exporter": "python",
   "pygments_lexer": "ipython3",
   "version": "3.7.13"
  }
 },
 "nbformat": 4,
 "nbformat_minor": 5
}
