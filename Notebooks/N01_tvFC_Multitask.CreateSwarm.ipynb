{
 "cells": [
  {
   "cell_type": "markdown",
   "id": "29a5db6b-2c27-462d-b449-e6a4e2f27129",
   "metadata": {},
   "source": [
    "# Description\n",
    "\n",
    "This notebook will compute sliding window correlation matrices for the 20 subjects in the multi-task dataset.\n",
    "\n",
    "Initially, we are only working with WL = 45s and WS = 1.5s.\n",
    "\n",
    "Matrices will be written as pandas pickle objects in ```/data/SFIMJGC_HCP7T/manifold_learning/Data_Interim/PNAS2015```"
   ]
  },
  {
   "cell_type": "code",
   "execution_count": 1,
   "id": "a8f1fa0a-8e60-42d5-8135-51e60e719984",
   "metadata": {},
   "outputs": [],
   "source": [
    "import pandas as pd\n",
    "import numpy as np\n",
    "import os\n",
    "import os.path as osp\n",
    "import getpass\n",
    "from datetime import datetime\n",
    "from tqdm.notebook import tqdm\n",
    "from utils.basics import PNAS2015_subject_list, PNAS2015_folder, PNAS2015_roi_names_path, PNAS2015_win_names_paths, PRJ_DIR\n",
    "from utils.basics import wls, wss, tr"
   ]
  },
  {
   "cell_type": "markdown",
   "id": "a0671fea-fb02-4632-8fbe-3b64e22e1836",
   "metadata": {
    "tags": []
   },
   "source": [
    "***\n",
    "\n",
    "The next cell select the Window Length ```wls``` and Window Step ```wss``` used to generate the matrices"
   ]
  },
  {
   "cell_type": "code",
   "execution_count": 2,
   "id": "1a382db0-8e46-40ca-91ab-237ce37a1093",
   "metadata": {},
   "outputs": [
    {
     "name": "stdout",
     "output_type": "stream",
     "text": [
      "/data/SFIMJGC_HCP7T/manifold_learning_fmri/Resources/PNAS2015_WinNames_wl45s_ws1p5s.txt\n"
     ]
    }
   ],
   "source": [
    "win_names_path = PNAS2015_win_names_paths[(wls,wss)]\n",
    "print(win_names_path)"
   ]
  },
  {
   "cell_type": "markdown",
   "id": "05b8ecaf-fe10-41ec-aff6-01e70d754db4",
   "metadata": {},
   "source": [
    "***\n",
    "\n",
    "# 1. Scan-Level Matrices\n",
    "\n",
    "## 1.1. Original Data\n",
    "\n",
    "The next cell will create the output folders if they do not exist already"
   ]
  },
  {
   "cell_type": "code",
   "execution_count": 3,
   "id": "bb291a9d-5cff-4e25-abf8-c574e89e6dfc",
   "metadata": {},
   "outputs": [],
   "source": [
    "# Create Output Folders if they do not exists\n",
    "for subject in PNAS2015_subject_list:\n",
    "    path = osp.join(PRJ_DIR,'Data_Interim','PNAS2015',subject,'Original')\n",
    "    if not osp.exists(path):\n",
    "        print('++ INFO: Created folder %s' % path)\n",
    "        os.makedirs(path)"
   ]
  },
  {
   "cell_type": "markdown",
   "id": "0a47edcd-5477-4cf7-a50b-6474153c72fb",
   "metadata": {},
   "source": [
    "The next cell will create folders for the swarm log files and for the actual swarm script. Those folders are created using the username as part of their name. That way it is easier for different users to work together on the project."
   ]
  },
  {
   "cell_type": "code",
   "execution_count": 4,
   "id": "382b9b02-b351-4164-ba03-b3eef9c8dc21",
   "metadata": {},
   "outputs": [
    {
     "name": "stdout",
     "output_type": "stream",
     "text": [
      "++ INFO: user working now --> javiergc\n",
      "++ INFO: Swarm File  : /data/SFIMJGC_HCP7T/manifold_learning_fmri/SwarmFiles.javiergc/N01_tvFC_Multitask.SWARM.sh\n",
      "++ INFO: Logs Folder : /data/SFIMJGC_HCP7T/manifold_learning_fmri/Logs.javiergc/N01_tvFC_Multitask.logs\n"
     ]
    }
   ],
   "source": [
    "#user specific folders\n",
    "#=====================\n",
    "username = getpass.getuser()\n",
    "print('++ INFO: user working now --> %s' % username)\n",
    "\n",
    "swarm_folder   = osp.join(PRJ_DIR,'SwarmFiles.{username}'.format(username=username))\n",
    "logs_folder    = osp.join(PRJ_DIR,'Logs.{username}'.format(username=username))  \n",
    "\n",
    "swarm_path     = osp.join(swarm_folder,'N01_tvFC_Multitask.SWARM.sh')\n",
    "logdir_path    = osp.join(logs_folder, 'N01_tvFC_Multitask.logs')\n",
    "\n",
    "if not osp.exists(swarm_folder):\n",
    "    os.makedirs(swarm_folder)\n",
    "if not osp.exists(logdir_path):\n",
    "    os.makedirs(logdir_path)\n",
    "print('++ INFO: Swarm File  : %s' % swarm_path)\n",
    "print('++ INFO: Logs Folder : %s' % logdir_path)"
   ]
  },
  {
   "cell_type": "markdown",
   "id": "dce3ca8e-b826-48e5-99bd-4728125929a0",
   "metadata": {},
   "source": [
    "Create swarm script. This script will have one line per matrix to be generated."
   ]
  },
  {
   "cell_type": "code",
   "execution_count": 5,
   "id": "4a838e49-319d-408a-b8f1-3d297dc6758c",
   "metadata": {
    "lines_to_next_cell": 0
   },
   "outputs": [],
   "source": [
    "# Open the file\n",
    "swarm_file = open(swarm_path, \"w\")\n",
    "# Log the date and time when the SWARM file is created\n",
    "swarm_file.write('#Create Time: %s' % datetime.now().strftime(\"%d/%m/%Y %H:%M:%S\"))\n",
    "swarm_file.write('\\n')\n",
    "\n",
    "# Insert comment line with SWARM command\n",
    "swarm_file.write('#swarm -f {swarm_path} -b 2 -g 32 -t 32 --time 00:30:00 --partition quick,norm --logdir {logdir_path}'.format(swarm_path=swarm_path,logdir_path=logdir_path))\n",
    "swarm_file.write('\\n')\n",
    "\n",
    "for subject in PNAS2015_subject_list:\n",
    "    path_ints         = osp.join(PRJ_DIR,'Data','PNAS2015',subject,'{subject}_Craddock_0200.WL{wls}s_000.netts'.format(subject=subject,wls=str(int(wls)).zfill(3)))\n",
    "    path_out_R        = osp.join(PRJ_DIR,'Data_Interim','PNAS2015',subject,'Original','{subject}_Craddock_0200.WL{wls}s.WS{wss}s.tvFC.R.asis.pkl'.format(subject=subject,wls=str(int(wls)).zfill(3), wss=str(wss)))\n",
    "    path_out_Z        = osp.join(PRJ_DIR,'Data_Interim','PNAS2015',subject,'Original','{subject}_Craddock_0200.WL{wls}s.WS{wss}s.tvFC.Z.asis.pkl'.format(subject=subject,wls=str(int(wls)).zfill(3), wss=str(wss)))\n",
    "    path_out_R_normed = osp.join(PRJ_DIR,'Data_Interim','PNAS2015',subject,'Original','{subject}_Craddock_0200.WL{wls}s.WS{wss}s.tvFC.R.zscored.pkl'.format(subject=subject,wls=str(int(wls)).zfill(3), wss=str(wss)))\n",
    "    path_out_Z_normed = osp.join(PRJ_DIR,'Data_Interim','PNAS2015',subject,'Original','{subject}_Craddock_0200.WL{wls}s.WS{wss}s.tvFC.Z.zscored.pkl'.format(subject=subject,wls=str(int(wls)).zfill(3), wss=str(wss)))\n",
    "    swarm_file.write('export path_roits={path_rois} path_roinames={path_roinames}  path_winnames={path_winnames} out_Z={path_out_Z} out_R={path_out_R} out_Z_normed={path_out_Z_normed} out_R_normed={path_out_R_normed} wls={wls} wss={wss} tr={tr} null=none; sh {scripts_dir}/N01_tvFC.sh'.format(\n",
    "                       path_rois=path_ints, path_roinames=PNAS2015_roi_names_path, path_winnames=win_names_path,\n",
    "                       path_out_Z=path_out_Z, path_out_R=path_out_R, \n",
    "                       path_out_Z_normed=path_out_Z_normed, path_out_R_normed=path_out_R_normed,\n",
    "                       wls=str(wls), wss=str(wss), tr=str(tr), \n",
    "                       scripts_dir=osp.join(PRJ_DIR,'Notebooks')))\n",
    "    swarm_file.write('\\n')\n",
    "swarm_file.close()"
   ]
  },
  {
   "cell_type": "markdown",
   "id": "45ca0f15-f557-49c3-9737-39f03f9bc0c2",
   "metadata": {
    "lines_to_next_cell": 2
   },
   "source": [
    "## 1.2 Null Model - Connection Randomization"
   ]
  },
  {
   "cell_type": "code",
   "execution_count": 6,
   "id": "742d4ae8-a277-4c6d-bc6b-12d3b0eaf719",
   "metadata": {},
   "outputs": [],
   "source": [
    "# Create Output Folders if they do not exists\n",
    "for subject in PNAS2015_subject_list:\n",
    "    path = osp.join(PRJ_DIR,'Data_Interim','PNAS2015',subject,'Null_ConnRand')\n",
    "    if not osp.exists(path):\n",
    "        print('++ INFO: Creating folder %s' % path)\n",
    "        os.makedirs(path)"
   ]
  },
  {
   "cell_type": "code",
   "execution_count": 7,
   "id": "57613c5e-979d-405b-8e8c-2ba115756cd1",
   "metadata": {},
   "outputs": [
    {
     "name": "stdout",
     "output_type": "stream",
     "text": [
      "++ INFO: user working now --> javiergc\n",
      "++ INFO: Swarm File  : /data/SFIMJGC_HCP7T/manifold_learning_fmri/SwarmFiles.javiergc/N01_tvFC_Multitask_Null_ConnRand.SWARM.sh\n",
      "++ INFO: Logs Folder : /data/SFIMJGC_HCP7T/manifold_learning_fmri/Logs.javiergc/N01_tvFC_Multitask_Null_ConnRand.logs\n"
     ]
    }
   ],
   "source": [
    "#user specific folders\n",
    "#=====================\n",
    "username = getpass.getuser()\n",
    "print('++ INFO: user working now --> %s' % username)\n",
    "\n",
    "swarm_folder   = osp.join(PRJ_DIR,'SwarmFiles.{username}'.format(username=username))\n",
    "logs_folder    = osp.join(PRJ_DIR,'Logs.{username}'.format(username=username))  \n",
    "\n",
    "swarm_path     = osp.join(swarm_folder,'N01_tvFC_Multitask_Null_ConnRand.SWARM.sh')\n",
    "logdir_path    = osp.join(logs_folder, 'N01_tvFC_Multitask_Null_ConnRand.logs')\n",
    "\n",
    "if not osp.exists(swarm_folder):\n",
    "    os.makedirs(swarm_folder)\n",
    "if not osp.exists(logdir_path):\n",
    "    os.makedirs(logdir_path)\n",
    "print('++ INFO: Swarm File  : %s' % swarm_path)\n",
    "print('++ INFO: Logs Folder : %s' % logdir_path)"
   ]
  },
  {
   "cell_type": "code",
   "execution_count": 8,
   "id": "c1027031-6768-4abe-aaeb-fbe646682857",
   "metadata": {},
   "outputs": [],
   "source": [
    "# Open the file\n",
    "swarm_file = open(swarm_path, \"w\")\n",
    "# Log the date and time when the SWARM file is created\n",
    "swarm_file.write('#Create Time: %s' % datetime.now().strftime(\"%d/%m/%Y %H:%M:%S\"))\n",
    "swarm_file.write('\\n')\n",
    "\n",
    "# Insert comment line with SWARM command\n",
    "swarm_file.write('#swarm -f {swarm_path} -g 32 -t 32 --time 00:30:00 --partition quick,norm --logdir {logdir_path}'.format(swarm_path=swarm_path,logdir_path=logdir_path))\n",
    "swarm_file.write('\\n')\n",
    "\n",
    "for subject in PNAS2015_subject_list:\n",
    "    path_ints  = osp.join(PRJ_DIR,'Data','PNAS2015',subject,'{subject}_Craddock_0200.WL{wls}s_000.netts'.format(subject=subject,wls=str(int(wls)).zfill(3)))\n",
    "    path_out_R = osp.join(PRJ_DIR,'Data_Interim','PNAS2015',subject,'Null_ConnRand','{subject}_Craddock_0200.WL{wls}s.WS{wss}s.tvFC.R.asis.pkl'.format(subject=subject,wls=str(int(wls)).zfill(3), wss=str(wss)))\n",
    "    path_out_Z = osp.join(PRJ_DIR,'Data_Interim','PNAS2015',subject,'Null_ConnRand','{subject}_Craddock_0200.WL{wls}s.WS{wss}s.tvFC.Z.asis.pkl'.format(subject=subject,wls=str(int(wls)).zfill(3), wss=str(wss)))\n",
    "    path_out_R_normed = osp.join(PRJ_DIR,'Data_Interim','PNAS2015',subject,'Null_ConnRand','{subject}_Craddock_0200.WL{wls}s.WS{wss}s.tvFC.R.zscored.pkl'.format(subject=subject,wls=str(int(wls)).zfill(3), wss=str(wss)))\n",
    "    path_out_Z_normed = osp.join(PRJ_DIR,'Data_Interim','PNAS2015',subject,'Null_ConnRand','{subject}_Craddock_0200.WL{wls}s.WS{wss}s.tvFC.Z.zscored.pkl'.format(subject=subject,wls=str(int(wls)).zfill(3), wss=str(wss)))\n",
    "    \n",
    "    swarm_file.write('export path_roits={path_rois} path_roinames={path_roinames}  path_winnames={path_winnames} out_Z={path_out_Z} out_R={path_out_R} out_Z_normed={path_out_Z_normed} out_R_normed={path_out_R_normed} wls={wls} wss={wss} tr={tr} null=conn_rand; sh {scripts_dir}/N01_tvFC.sh'.format(\n",
    "                       path_rois=path_ints, path_roinames=PNAS2015_roi_names_path, path_winnames=win_names_path, \n",
    "                       path_out_Z=path_out_Z, path_out_R=path_out_R, wls=str(wls), wss=str(wss), tr=str(tr), path_out_Z_normed=path_out_Z_normed, path_out_R_normed=path_out_R_normed,\n",
    "                       scripts_dir=osp.join(PRJ_DIR,'Notebooks')))\n",
    "    swarm_file.write('\\n')\n",
    "swarm_file.close()"
   ]
  },
  {
   "cell_type": "markdown",
   "id": "f29aed53-5431-4afd-b7ca-0c8991438363",
   "metadata": {
    "lines_to_next_cell": 2
   },
   "source": [
    "## 1.3 Null Model - Phase Randomization"
   ]
  },
  {
   "cell_type": "code",
   "execution_count": 9,
   "id": "0e390bc1-3e85-46ee-b6d9-180c79e6320c",
   "metadata": {},
   "outputs": [],
   "source": [
    "# Create Output Folders if they do not exists\n",
    "for subject in PNAS2015_subject_list:\n",
    "    path = osp.join(PRJ_DIR,'Data_Interim','PNAS2015',subject,'Null_PhaseRand')\n",
    "    if not osp.exists(path):\n",
    "        print('++ INFO: Creating folder %s' % path)\n",
    "        os.makedirs(path)"
   ]
  },
  {
   "cell_type": "code",
   "execution_count": 10,
   "id": "d8d9a017-4c34-4395-8011-fe14bdba3358",
   "metadata": {},
   "outputs": [
    {
     "name": "stdout",
     "output_type": "stream",
     "text": [
      "++ INFO: user working now --> javiergc\n",
      "++ INFO: Swarm File  : /data/SFIMJGC_HCP7T/manifold_learning_fmri/SwarmFiles.javiergc/N01_tvFC_Multitask_Null_PhaseRand.SWARM.sh\n",
      "++ INFO: Logs Folder : /data/SFIMJGC_HCP7T/manifold_learning_fmri/Logs.javiergc/N01_tvFC_Multitask_Null_PhaseRand.logs\n"
     ]
    }
   ],
   "source": [
    "#user specific folders\n",
    "#=====================\n",
    "username = getpass.getuser()\n",
    "print('++ INFO: user working now --> %s' % username)\n",
    "\n",
    "swarm_folder   = osp.join(PRJ_DIR,'SwarmFiles.{username}'.format(username=username))\n",
    "logs_folder    = osp.join(PRJ_DIR,'Logs.{username}'.format(username=username))  \n",
    "\n",
    "swarm_path     = osp.join(swarm_folder,'N01_tvFC_Multitask_Null_PhaseRand.SWARM.sh')\n",
    "logdir_path    = osp.join(logs_folder, 'N01_tvFC_Multitask_Null_PhaseRand.logs')\n",
    "\n",
    "if not osp.exists(swarm_folder):\n",
    "    os.makedirs(swarm_folder)\n",
    "if not osp.exists(logdir_path):\n",
    "    os.makedirs(logdir_path)\n",
    "print('++ INFO: Swarm File  : %s' % swarm_path)\n",
    "print('++ INFO: Logs Folder : %s' % logdir_path)"
   ]
  },
  {
   "cell_type": "code",
   "execution_count": 11,
   "id": "f752afc9-574a-4c95-9086-51ca348b3c71",
   "metadata": {
    "lines_to_next_cell": 0
   },
   "outputs": [],
   "source": [
    "# Open the file\n",
    "swarm_file = open(swarm_path, \"w\")\n",
    "# Log the date and time when the SWARM file is created\n",
    "swarm_file.write('#Create Time: %s' % datetime.now().strftime(\"%d/%m/%Y %H:%M:%S\"))\n",
    "swarm_file.write('\\n')\n",
    "\n",
    "# Insert comment line with SWARM command\n",
    "swarm_file.write('#swarm -f {swarm_path} -g 32 -t 32 --time 00:30:00 --partition quick,norm --logdir {logdir_path}'.format(swarm_path=swarm_path,logdir_path=logdir_path))\n",
    "swarm_file.write('\\n')\n",
    "\n",
    "for subject in PNAS2015_subject_list:\n",
    "    path_ints  = osp.join(PRJ_DIR,'Data','PNAS2015',subject,'{subject}_Craddock_0200.WL{wls}s_000.netts'.format(subject=subject,wls=str(int(wls)).zfill(3)))\n",
    "    path_out_R = osp.join(PRJ_DIR,'Data_Interim','PNAS2015',subject,'Null_PhaseRand','{subject}_Craddock_0200.WL{wls}s.WS{wss}s.tvFC.R.asis.pkl'.format(subject=subject,wls=str(int(wls)).zfill(3), wss=str(wss)))\n",
    "    path_out_Z = osp.join(PRJ_DIR,'Data_Interim','PNAS2015',subject,'Null_PhaseRand','{subject}_Craddock_0200.WL{wls}s.WS{wss}s.tvFC.Z.asis.pkl'.format(subject=subject,wls=str(int(wls)).zfill(3), wss=str(wss)))\n",
    "    path_out_R_normed = osp.join(PRJ_DIR,'Data_Interim','PNAS2015',subject,'Null_PhaseRand','{subject}_Craddock_0200.WL{wls}s.WS{wss}s.tvFC.R.zscored.pkl'.format(subject=subject,wls=str(int(wls)).zfill(3), wss=str(wss)))\n",
    "    path_out_Z_normed = osp.join(PRJ_DIR,'Data_Interim','PNAS2015',subject,'Null_PhaseRand','{subject}_Craddock_0200.WL{wls}s.WS{wss}s.tvFC.Z.zscored.pkl'.format(subject=subject,wls=str(int(wls)).zfill(3), wss=str(wss)))\n",
    "    \n",
    "    swarm_file.write('export path_roits={path_rois} path_roinames={path_roinames}  path_winnames={path_winnames} out_Z={path_out_Z} out_R={path_out_R} out_Z_normed={path_out_Z_normed} out_R_normed={path_out_R_normed} wls={wls} wss={wss} tr={tr} null=phase_rand; sh {scripts_dir}/N01_tvFC.sh'.format(\n",
    "                       path_rois=path_ints, path_roinames=PNAS2015_roi_names_path, path_winnames=win_names_path,\n",
    "                       path_out_Z=path_out_Z, path_out_R=path_out_R, wls=str(wls), wss=str(wss), tr=str(tr), path_out_Z_normed=path_out_Z_normed, path_out_R_normed=path_out_R_normed,\n",
    "                       scripts_dir=osp.join(PRJ_DIR,'Notebooks')))\n",
    "    swarm_file.write('\\n')\n",
    "swarm_file.close()"
   ]
  },
  {
   "cell_type": "markdown",
   "id": "62b803fa-fcce-4fec-9b3a-11940f349c51",
   "metadata": {
    "lines_to_next_cell": 2
   },
   "source": [
    "***\n",
    "# 2. Group-level Matrices"
   ]
  },
  {
   "cell_type": "code",
   "execution_count": 12,
   "id": "098c2cfc-295c-44c1-94e6-7379685cf33c",
   "metadata": {},
   "outputs": [],
   "source": [
    "group_tvFCs = {('Original','asis'):pd.DataFrame(),   ('Null_ConnRand','asis'):pd.DataFrame(),   ('Null_PhaseRand','asis'):pd.DataFrame(),\n",
    "               ('Original','zscored'):pd.DataFrame(),('Null_ConnRand','zscored'):pd.DataFrame(),('Null_PhaseRand','zscored'):pd.DataFrame(),}"
   ]
  },
  {
   "cell_type": "code",
   "execution_count": 13,
   "id": "ba40af32-aff8-470c-b84a-54723ab814fc",
   "metadata": {},
   "outputs": [
    {
     "data": {
      "application/vnd.jupyter.widget-view+json": {
       "model_id": "",
       "version_major": 2,
       "version_minor": 0
      },
      "text/plain": [
       "Scenario:   0%|          | 0/2 [00:00<?, ?it/s]"
      ]
     },
     "metadata": {},
     "output_type": "display_data"
    },
    {
     "data": {
      "application/vnd.jupyter.widget-view+json": {
       "model_id": "1bcd3186d804459a9114d231082cbd6a",
       "version_major": 2,
       "version_minor": 0
      },
      "text/plain": [
       "Subjects:   0%|          | 0/20 [00:00<?, ?it/s]"
      ]
     },
     "metadata": {},
     "output_type": "display_data"
    },
    {
     "data": {
      "application/vnd.jupyter.widget-view+json": {
       "model_id": "51e39ef6496942ee80144d0cf77d9663",
       "version_major": 2,
       "version_minor": 0
      },
      "text/plain": [
       "Subjects:   0%|          | 0/20 [00:00<?, ?it/s]"
      ]
     },
     "metadata": {},
     "output_type": "display_data"
    },
    {
     "name": "stdout",
     "output_type": "stream",
     "text": [
      "CPU times: user 52.3 s, sys: 21.8 s, total: 1min 14s\n",
      "Wall time: 1min 29s\n"
     ]
    }
   ],
   "source": [
    "%%time\n",
    "for scenario in tqdm(['asis','zscored'], desc='Scenario',leave=False):\n",
    "    for sbj in tqdm(PNAS2015_subject_list,desc='Subjects'):\n",
    "        for data_input in ['Original','Null_ConnRand','Null_PhaseRand']:\n",
    "            tvFC_path = osp.join(PRJ_DIR,'Data_Interim','PNAS2015',sbj,data_input,'{sbj}_Craddock_0200.WL045s.WS1.5s.tvFC.Z.{scenario}.pkl'.format(sbj=sbj, scenario=scenario))\n",
    "            tvFC = pd.read_pickle(tvFC_path)\n",
    "            group_tvFCs[data_input,scenario] = pd.concat([group_tvFCs[data_input,scenario],tvFC],axis=1)"
   ]
  },
  {
   "cell_type": "code",
   "execution_count": 14,
   "id": "5f3a01e3-6f86-43bf-ae18-6da316dbc15d",
   "metadata": {},
   "outputs": [],
   "source": [
    "for data_input in ['Original','Null_ConnRand','Null_PhaseRand']:\n",
    "    out_dir = osp.join(PRJ_DIR,'Data_Interim','PNAS2015','ALL',data_input)\n",
    "    if not osp.exists(out_dir):\n",
    "        print(\"+ Create output folder: %s\" % out_dir)\n",
    "        os.makedirs(out_dir)"
   ]
  },
  {
   "cell_type": "markdown",
   "id": "7629141a-1017-4e7d-b8b4-afb8afed72de",
   "metadata": {},
   "source": [
    "Before saving to disk, we will add the subject and task info to the colum of the dataframe"
   ]
  },
  {
   "cell_type": "code",
   "execution_count": 15,
   "id": "eb373d07-41ea-40f9-8817-85bf77f9cbfa",
   "metadata": {},
   "outputs": [],
   "source": [
    "[N_cons, N_wins]=tvFC.shape\n",
    "sbj_labels      = []\n",
    "for s in PNAS2015_subject_list:\n",
    "    sbj_labels = sbj_labels + list(np.tile(s,N_wins))\n",
    "win_labels = group_tvFCs['Original','asis'].columns\n",
    "column_names = pd.MultiIndex.from_arrays([sbj_labels,win_labels],names=['Subject','Window Name'])"
   ]
  },
  {
   "cell_type": "code",
   "execution_count": 16,
   "id": "b30db6f9-525f-4455-a4c1-1c9c3c351a16",
   "metadata": {},
   "outputs": [],
   "source": [
    "for data_input in ['Original','Null_ConnRand','Null_PhaseRand']:\n",
    "    for scenario in ['asis','zscored']:\n",
    "        group_tvFCs[data_input,scenario].columns    = column_names\n",
    "        group_tvFCs[data_input,scenario].index.name = 'Connections'"
   ]
  },
  {
   "cell_type": "code",
   "execution_count": 17,
   "id": "4c865239-7203-425a-8d0f-1fe4d5ce574e",
   "metadata": {},
   "outputs": [
    {
     "name": "stdout",
     "output_type": "stream",
     "text": [
      "++ INFO: Size of [Original,asis] Group-level Matrix [(12246, 19760)] | Save to /data/SFIMJGC_HCP7T/manifold_learning_fmri/Data_Interim/PNAS2015/ALL/Original/ALL_Craddock_0200.WL045s.WS1.5s.tvFC.Z.asis.pkl\n",
      "++ INFO: Size of [Original,zscored] Group-level Matrix [(12246, 19760)] | Save to /data/SFIMJGC_HCP7T/manifold_learning_fmri/Data_Interim/PNAS2015/ALL/Original/ALL_Craddock_0200.WL045s.WS1.5s.tvFC.Z.zscored.pkl\n",
      "++ INFO: Size of [Null_ConnRand,asis] Group-level Matrix [(12246, 19760)] | Save to /data/SFIMJGC_HCP7T/manifold_learning_fmri/Data_Interim/PNAS2015/ALL/Null_ConnRand/ALL_Craddock_0200.WL045s.WS1.5s.tvFC.Z.asis.pkl\n",
      "++ INFO: Size of [Null_ConnRand,zscored] Group-level Matrix [(12246, 19760)] | Save to /data/SFIMJGC_HCP7T/manifold_learning_fmri/Data_Interim/PNAS2015/ALL/Null_ConnRand/ALL_Craddock_0200.WL045s.WS1.5s.tvFC.Z.zscored.pkl\n",
      "++ INFO: Size of [Null_PhaseRand,asis] Group-level Matrix [(12246, 19760)] | Save to /data/SFIMJGC_HCP7T/manifold_learning_fmri/Data_Interim/PNAS2015/ALL/Null_PhaseRand/ALL_Craddock_0200.WL045s.WS1.5s.tvFC.Z.asis.pkl\n",
      "++ INFO: Size of [Null_PhaseRand,zscored] Group-level Matrix [(12246, 19760)] | Save to /data/SFIMJGC_HCP7T/manifold_learning_fmri/Data_Interim/PNAS2015/ALL/Null_PhaseRand/ALL_Craddock_0200.WL045s.WS1.5s.tvFC.Z.zscored.pkl\n",
      "CPU times: user 5.19 s, sys: 7.9 s, total: 13.1 s\n",
      "Wall time: 13.8 s\n"
     ]
    }
   ],
   "source": [
    "%%time\n",
    "for data_input in ['Original','Null_ConnRand','Null_PhaseRand']:\n",
    "    for scenario in ['asis','zscored']:\n",
    "        out_dir = osp.join(PRJ_DIR,'Data_Interim','PNAS2015','ALL',data_input)\n",
    "        group_tvFC_path = osp.join(out_dir,'ALL_Craddock_0200.WL045s.WS1.5s.tvFC.Z.{scenario}.pkl'.format(scenario=scenario))\n",
    "        group_tvFCs[data_input,scenario].to_pickle(group_tvFC_path)\n",
    "        print('++ INFO: Size of [%s,%s] Group-level Matrix [%s] | Save to %s' % (data_input,scenario,str(group_tvFCs[data_input,scenario].shape),group_tvFC_path))"
   ]
  },
  {
   "cell_type": "code",
   "execution_count": null,
   "id": "01e6b92a-ce59-4f5b-95f3-0978ca41e2ab",
   "metadata": {},
   "outputs": [],
   "source": []
  }
 ],
 "metadata": {
  "jupytext": {
   "formats": "ipynb,py:light"
  },
  "kernelspec": {
   "display_name": "opentsne",
   "language": "python",
   "name": "opentsne"
  },
  "language_info": {
   "codemirror_mode": {
    "name": "ipython",
    "version": 3
   },
   "file_extension": ".py",
   "mimetype": "text/x-python",
   "name": "python",
   "nbconvert_exporter": "python",
   "pygments_lexer": "ipython3",
   "version": "3.7.13"
  }
 },
 "nbformat": 4,
 "nbformat_minor": 5
}
