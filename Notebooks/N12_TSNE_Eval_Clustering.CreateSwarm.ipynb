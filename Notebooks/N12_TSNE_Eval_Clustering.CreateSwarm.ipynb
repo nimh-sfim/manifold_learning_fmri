{
 "cells": [
  {
   "cell_type": "markdown",
   "id": "dd1aac4e-af4a-4fd7-84a9-43b2f35d2592",
   "metadata": {},
   "source": [
    "# Description\n",
    "\n",
    "This notebook will compute SI for TSNE's embeddings of the multi-task dataset."
   ]
  },
  {
   "cell_type": "code",
   "execution_count": 1,
   "id": "4a4c973d-672a-4c75-a837-ea60f1a2db7f",
   "metadata": {},
   "outputs": [],
   "source": [
    "import pandas as pd\n",
    "import numpy as np\n",
    "import os\n",
    "import os.path as osp\n",
    "import getpass\n",
    "from datetime import datetime\n",
    "from utils.basics import PNAS2015_subject_list, PNAS2015_folder, PRJ_DIR\n",
    "from utils.basics import tsne_dist_metrics, tsne_pps, tsne_ms, tsne_alphas, tsne_inits\n",
    "from utils.basics import input_datas, norm_methods"
   ]
  },
  {
   "cell_type": "markdown",
   "id": "c273352e-bad5-489c-82d6-e619cf2fce79",
   "metadata": {
    "tags": []
   },
   "source": [
    "***\n",
    "\n",
    "The next cell select the Window Length ```wls``` and Window Step ```wss``` used to generate the matrices"
   ]
  },
  {
   "cell_type": "code",
   "execution_count": 4,
   "id": "23fb9ba3-67ed-40df-917e-0da610020efa",
   "metadata": {},
   "outputs": [],
   "source": [
    "wls      = 45\n",
    "wss      = 1.5"
   ]
  },
  {
   "cell_type": "markdown",
   "id": "2300125f-2275-474a-ab06-4778b4712b77",
   "metadata": {},
   "source": [
    "***\n",
    "Those are the scenarios we will be running"
   ]
  },
  {
   "cell_type": "code",
   "execution_count": 5,
   "id": "64e0128e-c7f5-40f1-998a-839e0d4bba71",
   "metadata": {},
   "outputs": [
    {
     "name": "stdout",
     "output_type": "stream",
     "text": [
      "++ INFO: Distance Metrics: ['euclidean', 'correlation', 'cosine']\n",
      "++ INFO: Perplexitiess:    [5, 10, 15, 20, 25, 30, 35, 40, 45, 50, 55, 60, 65, 70, 75, 80, 85, 90, 95, 100, 150, 200]\n",
      "++ INFO: Ms:               [2, 3]\n",
      "++ INFO: Learning Rates:   [10, 50, 75, 100, 200, 500, 1000]\n",
      "++ INFO: Init Methods:     ['pca']\n"
     ]
    }
   ],
   "source": [
    "print('++ INFO: Distance Metrics: %s' % str(tsne_dist_metrics))\n",
    "print('++ INFO: Perplexitiess:    %s' % str(tsne_pps))\n",
    "print('++ INFO: Ms:               %s' % str(tsne_ms))\n",
    "print('++ INFO: Learning Rates:   %s' % str(tsne_alphas))\n",
    "print('++ INFO: Init Methods:     %s' % str(tsne_inits))"
   ]
  },
  {
   "cell_type": "markdown",
   "id": "d41faf65-3477-4d2a-909d-233f41719b4f",
   "metadata": {},
   "source": [
    "## Scan-Level"
   ]
  },
  {
   "cell_type": "code",
   "execution_count": 4,
   "id": "222a8aa5-0f94-4145-b404-673a4dc1adbb",
   "metadata": {},
   "outputs": [
    {
     "name": "stdout",
     "output_type": "stream",
     "text": [
      "++ INFO: user working now --> javiergc\n",
      "++ INFO: Swarm File  : /data/SFIMJGC_HCP7T/manifold_learning_fmri/SwarmFiles.javiergc/N12_TSNE_Eval_Clustering_Scans.SWARM.sh\n",
      "++ INFO: Logs Folder : /data/SFIMJGC_HCP7T/manifold_learning_fmri/Logs.javiergc/N12_TSNE_Eval_Clustering_Scans.logs\n"
     ]
    }
   ],
   "source": [
    "#user specific folders\n",
    "#=====================\n",
    "username = getpass.getuser()\n",
    "print('++ INFO: user working now --> %s' % username)\n",
    "\n",
    "swarm_folder   = osp.join(PRJ_DIR,'SwarmFiles.{username}'.format(username=username))\n",
    "logs_folder    = osp.join(PRJ_DIR,'Logs.{username}'.format(username=username))  \n",
    "\n",
    "swarm_path     = osp.join(swarm_folder,'N12_TSNE_Eval_Clustering_Scans.SWARM.sh')\n",
    "logdir_path    = osp.join(logs_folder, 'N12_TSNE_Eval_Clustering_Scans.logs')\n",
    "\n",
    "if not osp.exists(swarm_folder):\n",
    "    os.makedirs(swarm_folder)\n",
    "if not osp.exists(logdir_path):\n",
    "    os.makedirs(logdir_path)\n",
    "print('++ INFO: Swarm File  : %s' % swarm_path)\n",
    "print('++ INFO: Logs Folder : %s' % logdir_path)"
   ]
  },
  {
   "cell_type": "code",
   "execution_count": 12,
   "id": "42a9cbb4-c7f1-4905-8b67-40e9c9c675ce",
   "metadata": {},
   "outputs": [
    {
     "name": "stdout",
     "output_type": "stream",
     "text": [
      "++ INFO: Missing/Needed = [110880/110880]\n"
     ]
    }
   ],
   "source": [
    "# Open the file\n",
    "swarm_file = open(swarm_path, \"w\")\n",
    "# Log the date and time when the SWARM file is created\n",
    "swarm_file.write('#Create Time: %s' % datetime.now().strftime(\"%d/%m/%Y %H:%M:%S\"))\n",
    "swarm_file.write('\\n')\n",
    "\n",
    "# Insert comment line with SWARM command\n",
    "swarm_file.write('#swarm -J TSNE_Scans_SI -f {swarm_path} -b 23 -g 4 -t 4 --time 00:10:00 --partition quick,norm --logdir {logdir_path}'.format(swarm_path=swarm_path,logdir_path=logdir_path))\n",
    "swarm_file.write('\\n')\n",
    "num_entries = 0 \n",
    "num_iters = 0\n",
    "\n",
    "for input_data in input_datas:\n",
    "    for subject in PNAS2015_subject_list:\n",
    "        for norm_method in norm_methods:\n",
    "            for dist in tsne_dist_metrics:\n",
    "                for init_method in tsne_inits:\n",
    "                    for pp in tsne_pps:\n",
    "                        for alpha in tsne_alphas:\n",
    "                            for m in tsne_ms:\n",
    "                                num_iters += 1\n",
    "                                input_path  = osp.join(PRJ_DIR,'Data_Interim','PNAS2015',subject,'TSNE',input_data,'{subject}_Craddock_0200.WL{wls}s.WS{wss}s.TSNE_{dist}_pp{pp}_m{m}_a{lr}_{init_method}.{nm}.pkl'.format(subject=subject,\n",
    "                                                                                                                                                   nm = norm_method,\n",
    "                                                                                                                                                   wls=str(int(wls)).zfill(3), \n",
    "                                                                                                                                                   wss=str(wss),\n",
    "                                                                                                                                                   init_method=init_method,\n",
    "                                                                                                                                                   dist=dist,\n",
    "                                                                                                                                                   pp=str(pp).zfill(4),\n",
    "                                                                                                                                                   m=str(m).zfill(4),\n",
    "                                                                                                                                                   lr=str(alpha)))\n",
    "                                output_path  = osp.join(PRJ_DIR,'Data_Interim','PNAS2015',subject,'TSNE',input_data,'{subject}_Craddock_0200.WL{wls}s.WS{wss}s.TSNE_{dist}_pp{pp}_m{m}_a{lr}_{init_method}.{nm}.SI.pkl'.format(subject=subject,\n",
    "                                                                                                                                                   nm = norm_method,\n",
    "                                                                                                                                                   wls=str(int(wls)).zfill(3), \n",
    "                                                                                                                                                   wss=str(wss),\n",
    "                                                                                                                                                   init_method=init_method,\n",
    "                                                                                                                                                   dist=dist,\n",
    "                                                                                                                                                   pp=str(pp).zfill(4),\n",
    "                                                                                                                                                   m=str(m).zfill(4),\n",
    "                                                                                                                                                   lr=str(alpha)))\n",
    "                                if True:# not osp.exists(output_path):\n",
    "                                    num_entries += 1\n",
    "                                    swarm_file.write('export input={input_path} output={output_path}; sh {scripts_dir}/N11_SI.sh'.format(input_path=input_path, \n",
    "                                                                                                                     output_path=output_path,\n",
    "                                                                                                                     scripts_dir=osp.join(PRJ_DIR,'Notebooks')))\n",
    "                                    \n",
    "                                    swarm_file.write('\\n')\n",
    "swarm_file.close()\n",
    "print(\"++ INFO: Missing/Needed = [%d/%d]\" % (num_entries,num_iters))"
   ]
  },
  {
   "cell_type": "markdown",
   "id": "0e15b09d-dd72-4585-afb0-a1e8eb611b32",
   "metadata": {},
   "source": [
    "### Group-level Results [Concatenation]"
   ]
  },
  {
   "cell_type": "code",
   "execution_count": 5,
   "id": "7bdb6bfa-ef1b-4704-b72c-f2c205b61c18",
   "metadata": {},
   "outputs": [
    {
     "name": "stdout",
     "output_type": "stream",
     "text": [
      "++ INFO: user working now --> javiergc\n",
      "++ INFO: Swarm File:  /data/SFIMJGC_HCP7T/manifold_learning_fmri/SwarmFiles.javiergc/N12_TSNE_Eval_Clustering_ALL.SWARM.sh\n",
      "++ INFO: Logs Folder: /data/SFIMJGC_HCP7T/manifold_learning_fmri/Logs.javiergc/N12_TSNE_Eval_Clustering_ALL.logs\n"
     ]
    }
   ],
   "source": [
    "#user specific folders\n",
    "#=====================\n",
    "username = getpass.getuser()\n",
    "print('++ INFO: user working now --> %s' % username)\n",
    "\n",
    "swarm_folder   = osp.join(PRJ_DIR,'SwarmFiles.{username}'.format(username=username))\n",
    "logs_folder    = osp.join(PRJ_DIR,'Logs.{username}'.format(username=username))  \n",
    "\n",
    "swarm_path     = osp.join(swarm_folder,'N12_TSNE_Eval_Clustering_ALL.SWARM.sh')\n",
    "logdir_path    = osp.join(logs_folder, 'N12_TSNE_Eval_Clustering_ALL.logs')\n",
    "\n",
    "if not osp.exists(swarm_folder):\n",
    "    os.makedirs(swarm_folder)\n",
    "if not osp.exists(logdir_path):\n",
    "    os.makedirs(logdir_path)\n",
    "print('++ INFO: Swarm File:  %s' % swarm_path)\n",
    "print('++ INFO: Logs Folder: %s' % logdir_path)"
   ]
  },
  {
   "cell_type": "code",
   "execution_count": 6,
   "id": "edbf97f6-382f-476c-a3c5-9669898169f5",
   "metadata": {},
   "outputs": [
    {
     "name": "stdout",
     "output_type": "stream",
     "text": [
      "++ INFO: Missing/Needed = [5544/5544]\n"
     ]
    }
   ],
   "source": [
    "# Open the file\n",
    "swarm_file = open(swarm_path, \"w\")\n",
    "# Log the date and time when the SWARM file is created\n",
    "swarm_file.write('#Create Time: %s' % datetime.now().strftime(\"%d/%m/%Y %H:%M:%S\"))\n",
    "swarm_file.write('\\n')\n",
    "\n",
    "# Insert comment line with SWARM command\n",
    "swarm_file.write('#swarm -J TSNE_ALL_SI -f {swarm_path} -b 6 -g 4 -t 4 --time 00:10:00 --partition quick,norm --logdir {logdir_path}'.format(swarm_path=swarm_path,logdir_path=logdir_path))\n",
    "swarm_file.write('\\n')\n",
    "num_entries = 0 \n",
    "num_iters = 0\n",
    "\n",
    "for input_data in input_datas:\n",
    "    for subject in ['ALL']:\n",
    "        for norm_method in norm_methods:\n",
    "            for dist in tsne_dist_metrics:\n",
    "                for init_method in tsne_inits:\n",
    "                    for pp in tsne_pps:\n",
    "                        for alpha in tsne_alphas:\n",
    "                            for m in tsne_ms:\n",
    "                                num_iters += 1\n",
    "                                input_path  = osp.join(PRJ_DIR,'Data_Interim','PNAS2015',subject,'TSNE',input_data,'{subject}_Craddock_0200.WL{wls}s.WS{wss}s.TSNE_{dist}_pp{pp}_m{m}_a{lr}_{init_method}.{nm}.pkl'.format(subject=subject,\n",
    "                                                                                                                                                   nm = norm_method,\n",
    "                                                                                                                                                   wls=str(int(wls)).zfill(3), \n",
    "                                                                                                                                                   wss=str(wss),\n",
    "                                                                                                                                                   init_method=init_method,\n",
    "                                                                                                                                                   dist=dist,\n",
    "                                                                                                                                                   pp=str(pp).zfill(4),\n",
    "                                                                                                                                                   m=str(m).zfill(4),\n",
    "                                                                                                                                                   lr=str(alpha)))\n",
    "                                output_path  = osp.join(PRJ_DIR,'Data_Interim','PNAS2015',subject,'TSNE',input_data,'{subject}_Craddock_0200.WL{wls}s.WS{wss}s.TSNE_{dist}_pp{pp}_m{m}_a{lr}_{init_method}.{nm}.SI.pkl'.format(subject=subject,\n",
    "                                                                                                                                                   nm = norm_method,\n",
    "                                                                                                                                                   wls=str(int(wls)).zfill(3), \n",
    "                                                                                                                                                   wss=str(wss),\n",
    "                                                                                                                                                   init_method=init_method,\n",
    "                                                                                                                                                   dist=dist,\n",
    "                                                                                                                                                   pp=str(pp).zfill(4),\n",
    "                                                                                                                                                   m=str(m).zfill(4),\n",
    "                                                                                                                                                   lr=str(alpha)))\n",
    "                                if osp.exists(input_path) & (not osp.exists(output_path)):\n",
    "                                    num_entries += 1\n",
    "                                    swarm_file.write('export input={input_path} output={output_path}; sh {scripts_dir}/N11_SI.sh'.format(input_path=input_path, \n",
    "                                                                                                                     output_path=output_path,\n",
    "                                                                                                                     scripts_dir=osp.join(PRJ_DIR,'Notebooks')))\n",
    "                                    \n",
    "                                    swarm_file.write('\\n')\n",
    "swarm_file.close()\n",
    "print(\"++ INFO: Missing/Needed = [%d/%d]\" % (num_entries,num_iters))"
   ]
  },
  {
   "cell_type": "markdown",
   "id": "5833be9b-c2e5-4145-8ad7-8c0712bbb6cf",
   "metadata": {},
   "source": [
    "## Group-Level [Procrustes]"
   ]
  },
  {
   "cell_type": "code",
   "execution_count": 20,
   "id": "8a4be0c3-18b8-4dc9-9a70-68aa4fef1567",
   "metadata": {},
   "outputs": [
    {
     "name": "stdout",
     "output_type": "stream",
     "text": [
      "++ INFO: user working now --> javiergc\n",
      "++ INFO: Swarm File:  /data/SFIMJGC_HCP7T/manifold_learning_fmri/SwarmFiles.javiergc/N12_TSNE_Eval_Clustering_Procrustes.SWARM.sh\n",
      "++ INFO: Logs Folder: /data/SFIMJGC_HCP7T/manifold_learning_fmri/Logs.javiergc/N12_TSNE_Eval_Clustering_Procrustes.logs\n"
     ]
    }
   ],
   "source": [
    "#user specific folders\n",
    "#=====================\n",
    "username = getpass.getuser()\n",
    "print('++ INFO: user working now --> %s' % username)\n",
    "\n",
    "swarm_folder   = osp.join(PRJ_DIR,'SwarmFiles.{username}'.format(username=username))\n",
    "logs_folder    = osp.join(PRJ_DIR,'Logs.{username}'.format(username=username))  \n",
    "\n",
    "swarm_path     = osp.join(swarm_folder,'N12_TSNE_Eval_Clustering_Procrustes.SWARM.sh')\n",
    "logdir_path    = osp.join(logs_folder, 'N12_TSNE_Eval_Clustering_Procrustes.logs')\n",
    "\n",
    "if not osp.exists(swarm_folder):\n",
    "    os.makedirs(swarm_folder)\n",
    "if not osp.exists(logdir_path):\n",
    "    os.makedirs(logdir_path)\n",
    "print('++ INFO: Swarm File:  %s' % swarm_path)\n",
    "print('++ INFO: Logs Folder: %s' % logdir_path)"
   ]
  },
  {
   "cell_type": "code",
   "execution_count": 21,
   "id": "9cf22dae-2190-4663-a6a9-6c697d2fdac5",
   "metadata": {},
   "outputs": [
    {
     "name": "stdout",
     "output_type": "stream",
     "text": [
      "++ INFO: Missing/Needed = [5544/5544]\n"
     ]
    }
   ],
   "source": [
    "# Open the file\n",
    "swarm_file = open(swarm_path, \"w\")\n",
    "# Log the date and time when the SWARM file is created\n",
    "swarm_file.write('#Create Time: %s' % datetime.now().strftime(\"%d/%m/%Y %H:%M:%S\"))\n",
    "swarm_file.write('\\n')\n",
    "\n",
    "# Insert comment line with SWARM command\n",
    "swarm_file.write('#swarm -J TSNE_Procrustes_SI -f {swarm_path} -b 6 -g 4 -t 4 --time 00:10:00 --partition quick,norm --logdir {logdir_path}'.format(swarm_path=swarm_path,logdir_path=logdir_path))\n",
    "swarm_file.write('\\n')\n",
    "num_entries = 0 \n",
    "num_iters = 0\n",
    "\n",
    "for input_data in input_datas:\n",
    "    for subject in ['Procrustes']:\n",
    "        for norm_method in norm_methods:\n",
    "            for dist in tsne_dist_metrics:\n",
    "                for init_method in tsne_inits:\n",
    "                    for pp in tsne_pps:\n",
    "                        for alpha in tsne_alphas:\n",
    "                            for m in tsne_ms:\n",
    "                                num_iters += 1\n",
    "                                emb_path = osp.join(PRJ_DIR,'Data_Interim','PNAS2015','Procrustes','TSNE',input_data,\n",
    "                                                            'Procrustes_Craddock_0200.WL{wls}s.WS{wss}s.TSNE_{dist}_pp{pp}_m{m}_a{alpha}_{init}.{nm}.pkl'.format(wls=str(int(wls)).zfill(3),alpha=str(alpha),\n",
    "                                                                                                                      wss=str(wss),init=init_method,\n",
    "                                                                                                                      dist=dist,\n",
    "                                                                                                                      pp=str(pp).zfill(4),\n",
    "                                                                                                                      nm=norm_method,\n",
    "                                                                                                                      m=str(m).zfill(4)))\n",
    "                                si_path = osp.join(PRJ_DIR,'Data_Interim','PNAS2015','Procrustes','TSNE',input_data,\n",
    "                                                           'Procrustes_Craddock_0200.WL{wls}s.WS{wss}s.TSNE_{dist}_pp{pp}_m{m}_a{alpha}_{init}.{nm}.SI.pkl'.format(wls=str(int(wls)).zfill(3), \n",
    "                                                                                                                      alpha=str(alpha),init=init_method,\n",
    "                                                                                                                      wss=str(wss),\n",
    "                                                                                                                      dist=dist,\n",
    "                                                                                                                      pp=str(pp).zfill(4),\n",
    "                                                                                                                      nm=norm_method,\n",
    "                                                                                                                      m=str(m).zfill(4)))\n",
    "                                if (not osp.exists(emb_path)) | (not osp.exists(si_path)):\n",
    "                                    num_entries += 1\n",
    "                                    swarm_file.write('export input_data={input_data} norm_method={norm_method} dist={dist} pp={pp} m={m} alpha={alpha} init_method={init_method} drop_xxxx={drop_xxxx}; sh {scripts_dir}/N12_TSNE_Procrustes.sh'.format(input_data=input_data,\n",
    "                                                                                                                     norm_method=norm_method,\n",
    "                                                                                                                     dist=dist,\n",
    "                                                                                                                     pp=str(pp),\n",
    "                                                                                                                     m=str(m),\n",
    "                                                                                                                     alpha=str(alpha),\n",
    "                                                                                                                     init_method = init_method,\n",
    "                                                                                                                     drop_xxxx = 'True',\n",
    "                                                                                                                     scripts_dir=osp.join(PRJ_DIR,'Notebooks')))\n",
    "                                    \n",
    "                                    swarm_file.write('\\n')\n",
    "swarm_file.close()\n",
    "print(\"++ INFO: Missing/Needed = [%d/%d]\" % (num_entries,num_iters))"
   ]
  }
 ],
 "metadata": {
  "kernelspec": {
   "display_name": "opentsne",
   "language": "python",
   "name": "opentsne"
  },
  "language_info": {
   "codemirror_mode": {
    "name": "ipython",
    "version": 3
   },
   "file_extension": ".py",
   "mimetype": "text/x-python",
   "name": "python",
   "nbconvert_exporter": "python",
   "pygments_lexer": "ipython3",
   "version": "3.7.13"
  }
 },
 "nbformat": 4,
 "nbformat_minor": 5
}
