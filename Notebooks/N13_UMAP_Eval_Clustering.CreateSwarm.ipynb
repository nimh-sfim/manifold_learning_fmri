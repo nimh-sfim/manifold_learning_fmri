{
 "cells": [
  {
   "cell_type": "code",
   "execution_count": 1,
   "id": "ff9a7bf2-bac0-4f97-8f42-30684b62efdc",
   "metadata": {},
   "outputs": [],
   "source": [
    "from utils.basics import umap_dist_metrics, umap_knns, umap_ms, umap_alphas\n",
    "from utils.basics import PRJ_DIR, PNAS2015_subject_list\n",
    "from utils.basics import input_datas, norm_methods\n",
    "from datetime import datetime\n",
    "\n",
    "import os.path as osp\n",
    "import os\n",
    "import getpass"
   ]
  },
  {
   "cell_type": "code",
   "execution_count": 2,
   "id": "cf3d99b6-8208-446a-8f8f-378193df080b",
   "metadata": {},
   "outputs": [],
   "source": [
    "wls = 45\n",
    "wss = 1.5\n",
    "min_dist = 0.8"
   ]
  },
  {
   "cell_type": "markdown",
   "id": "fed3c5a1-7b05-422b-b43b-043b1dbf5b90",
   "metadata": {},
   "source": [
    "### Scan-level results"
   ]
  },
  {
   "cell_type": "code",
   "execution_count": 3,
   "id": "3cdbf9b7-3aa5-4cdd-8cfe-b2249ffeeec9",
   "metadata": {},
   "outputs": [],
   "source": [
    "umap_ms = [2,3]\n",
    "init_method = 'spectral'"
   ]
  },
  {
   "cell_type": "code",
   "execution_count": 4,
   "id": "db0fb3fd-3b63-4beb-8393-851ab38cbaf9",
   "metadata": {},
   "outputs": [
    {
     "name": "stdout",
     "output_type": "stream",
     "text": [
      "++ INFO: Distance Metrics: ['euclidean', 'correlation', 'cosine']\n",
      "++ INFO: Knns:             [5, 10, 15, 20, 25, 30, 35, 40, 45, 50, 55, 60, 65, 70, 75, 80, 85, 90, 95, 100, 105, 110, 115, 120, 125, 130, 135, 140, 145, 150, 155, 160, 165, 170, 175, 180, 185, 190, 195, 200]\n",
      "++ INFO: Ms:               [2, 3]\n",
      "++ INFO: Learning Rates:   [0.01, 0.1, 1.0]\n"
     ]
    }
   ],
   "source": [
    "print('++ INFO: Distance Metrics: %s' % str(umap_dist_metrics))\n",
    "print('++ INFO: Knns:             %s' % str(umap_knns))\n",
    "print('++ INFO: Ms:               %s' % str(umap_ms))\n",
    "print('++ INFO: Learning Rates:   %s' % str(umap_alphas))"
   ]
  },
  {
   "cell_type": "code",
   "execution_count": 5,
   "id": "46174c47-6e4b-4dd0-9063-64d694831f30",
   "metadata": {},
   "outputs": [
    {
     "name": "stdout",
     "output_type": "stream",
     "text": [
      "++ INFO: user working now --> javiergc\n",
      "++ INFO: Swarm File  : /data/SFIMJGC_HCP7T/manifold_learning_fmri/SwarmFiles.javiergc/N13_UMAP_Eval_Clustering_Scans.SWARM.sh\n",
      "++ INFO: Logs Folder : /data/SFIMJGC_HCP7T/manifold_learning_fmri/Logs.javiergc/N13_UMAP_Eval_Clustering_Scans.logs\n"
     ]
    }
   ],
   "source": [
    "#user specific folders\n",
    "#=====================\n",
    "username = getpass.getuser()\n",
    "print('++ INFO: user working now --> %s' % username)\n",
    "\n",
    "swarm_folder   = osp.join(PRJ_DIR,'SwarmFiles.{username}'.format(username=username))\n",
    "logs_folder    = osp.join(PRJ_DIR,'Logs.{username}'.format(username=username))  \n",
    "\n",
    "swarm_path     = osp.join(swarm_folder,'N13_UMAP_Eval_Clustering_Scans.SWARM.sh')\n",
    "logdir_path    = osp.join(logs_folder, 'N13_UMAP_Eval_Clustering_Scans.logs')\n",
    "\n",
    "if not osp.exists(swarm_folder):\n",
    "    os.makedirs(swarm_folder)\n",
    "if not osp.exists(logdir_path):\n",
    "    os.makedirs(logdir_path)\n",
    "print('++ INFO: Swarm File  : %s' % swarm_path)\n",
    "print('++ INFO: Logs Folder : %s' % logdir_path)"
   ]
  },
  {
   "cell_type": "code",
   "execution_count": 7,
   "id": "e0159c9e-3786-453b-9157-75a6e1a27887",
   "metadata": {},
   "outputs": [
    {
     "name": "stdout",
     "output_type": "stream",
     "text": [
      "++ INFO: Attempts/Written = [0/86400]\n"
     ]
    }
   ],
   "source": [
    "# Open the file\n",
    "swarm_file = open(swarm_path, \"w\")\n",
    "# Log the date and time when the SWARM file is created\n",
    "swarm_file.write('#Create Time: %s' % datetime.now().strftime(\"%d/%m/%Y %H:%M:%S\"))\n",
    "swarm_file.write('\\n')\n",
    "num_entries = 0 \n",
    "num_iters = 0\n",
    "# Insert comment line with SWARM command\n",
    "swarm_file.write('#swarm -J UMAP_Scans_SI -f {swarm_path} -b 57 -g 16 -t 4 --time 00:03:00 --partition=quick,norm --logdir {logdir_path}'.format(swarm_path=swarm_path,logdir_path=logdir_path))\n",
    "swarm_file.write('\\n')\n",
    "for input_data in input_datas:\n",
    "    for norm_method in norm_methods:\n",
    "        for dist in umap_dist_metrics:\n",
    "            for knn in umap_knns:\n",
    "                for m in umap_ms:\n",
    "                    for alpha in umap_alphas:\n",
    "                        for sbj in PNAS2015_subject_list:\n",
    "                            num_iters +=1\n",
    "                            input_path = osp.join(PRJ_DIR,'Data_Interim','PNAS2015',sbj,'UMAP',input_data,'{sbj}_Craddock_0200.WL{wls}s.WS{wss}s.UMAP_{dist}_k{knn}_m{m}_md{min_dist}_a{alpha}_{init_method}.{norm_method}.pkl'.format(norm_method=norm_method,sbj=sbj,\n",
    "                                                                                                                                                   wls=str(int(wls)).zfill(3), \n",
    "                                                                                                                                                   wss=str(wss),\n",
    "                                                                                                                                                   dist=dist,\n",
    "                                                                                                                                                   knn=str(knn).zfill(4),\n",
    "                                                                                                                                                   m=str(m).zfill(4),\n",
    "                                                                                                                                                   min_dist=str(min_dist),\n",
    "                                                                                                                                                   init_method=init_method,\n",
    "                                                                                                                                                   alpha=str(alpha)))\n",
    "                            output_path = osp.join(PRJ_DIR,'Data_Interim','PNAS2015',sbj,'UMAP',input_data,'{sbj}_Craddock_0200.WL{wls}s.WS{wss}s.UMAP_{dist}_k{knn}_m{m}_md{min_dist}_a{alpha}_{init_method}.{norm_method}.SI.pkl'.format(norm_method=norm_method, init_method=init_method,\n",
    "                                                                                                                                                   sbj=sbj,\n",
    "                                                                                                                                                   wls=str(int(wls)).zfill(3), \n",
    "                                                                                                                                                   wss=str(wss),\n",
    "                                                                                                                                                   dist=dist,\n",
    "                                                                                                                                                   knn=str(knn).zfill(4),\n",
    "                                                                                                                                                   m=str(m).zfill(4),\n",
    "                                                                                                                                                   min_dist=str(min_dist),\n",
    "                                                                                                                                                   alpha=str(alpha)))\n",
    "                            if not osp.exists(output_path):\n",
    "                                num_entries += 1\n",
    "                                swarm_file.write('export input={input_path} output={output_path}; sh {scripts_dir}/N11_SI.sh'.format(input_path=input_path, \n",
    "                                                                                                                     output_path=output_path,\n",
    "                                                                                                                     scripts_dir=osp.join(PRJ_DIR,'Notebooks')))\n",
    "                                swarm_file.write('\\n')\n",
    "swarm_file.close()\n",
    "print(\"++ INFO: Attempts/Written = [%d/%d]\" % (num_entries,num_iters))"
   ]
  },
  {
   "cell_type": "markdown",
   "id": "cfa63d16-1e19-434c-b918-5df4d682ba28",
   "metadata": {},
   "source": [
    "### Group-level Results"
   ]
  },
  {
   "cell_type": "code",
   "execution_count": 12,
   "id": "eb96522f-389f-4c69-b1a0-71e27491cedd",
   "metadata": {},
   "outputs": [
    {
     "name": "stdout",
     "output_type": "stream",
     "text": [
      "++ INFO: user working now --> javiergc\n",
      "++ INFO: Swarm File:  /data/SFIMJGC_HCP7T/manifold_learning_fmri/SwarmFiles.javiergc/N13_UMAP_Eval_Clustering_ALL.SWARM.sh\n",
      "++ INFO: Logs Folder: /data/SFIMJGC_HCP7T/manifold_learning_fmri/Logs.javiergc/N13_UMAP_Eval_Clustering_ALL.logs\n"
     ]
    }
   ],
   "source": [
    "#user specific folders\n",
    "#=====================\n",
    "username = getpass.getuser()\n",
    "print('++ INFO: user working now --> %s' % username)\n",
    "\n",
    "swarm_folder   = osp.join(PRJ_DIR,'SwarmFiles.{username}'.format(username=username))\n",
    "logs_folder    = osp.join(PRJ_DIR,'Logs.{username}'.format(username=username))  \n",
    "\n",
    "swarm_path     = osp.join(swarm_folder,'N13_UMAP_Eval_Clustering_ALL.SWARM.sh')\n",
    "logdir_path    = osp.join(logs_folder, 'N13_UMAP_Eval_Clustering_ALL.logs')\n",
    "\n",
    "if not osp.exists(swarm_folder):\n",
    "    os.makedirs(swarm_folder)\n",
    "if not osp.exists(logdir_path):\n",
    "    os.makedirs(logdir_path)\n",
    "print('++ INFO: Swarm File:  %s' % swarm_path)\n",
    "print('++ INFO: Logs Folder: %s' % logdir_path)"
   ]
  },
  {
   "cell_type": "code",
   "execution_count": 18,
   "id": "bccc456f-8472-4416-bb14-e8436ab0d5fa",
   "metadata": {},
   "outputs": [
    {
     "name": "stdout",
     "output_type": "stream",
     "text": [
      "++ INFO: Attempts/Written = [0/4320]\n"
     ]
    }
   ],
   "source": [
    "# Open the file\n",
    "swarm_file = open(swarm_path, \"w\")\n",
    "# Log the date and time when the SWARM file is created\n",
    "swarm_file.write('#Create Time: %s' % datetime.now().strftime(\"%d/%m/%Y %H:%M:%S\"))\n",
    "swarm_file.write('\\n')\n",
    "\n",
    "# Insert comment line with SWARM command\n",
    "swarm_file.write('#swarm -J UMAP_All_SI -f {swarm_path} -b 57 -g 16 -t 4 --time 00:03:00 --partition=quick,norm --logdir {logdir_path}'.format(swarm_path=swarm_path,logdir_path=logdir_path))\n",
    "swarm_file.write('\\n')\n",
    "num_entries = 0 \n",
    "num_iters = 0\n",
    "for input_data in input_datas:\n",
    "    for norm_method in norm_methods:\n",
    "        for dist in umap_dist_metrics:\n",
    "            for knn in umap_knns:\n",
    "                for m in umap_ms:\n",
    "                    for alpha in umap_alphas:\n",
    "                        num_iters +=1\n",
    "                        input_path = osp.join(PRJ_DIR,'Data_Interim','PNAS2015','ALL','UMAP',input_data,'ALL_Craddock_0200.WL{wls}s.WS{wss}s.UMAP_{dist}_k{knn}_m{m}_md{min_dist}_a{alpha}_{init_method}.{norm_method}.pkl'.format(norm_method=norm_method,\n",
    "                                                                                                                                                   wls=str(int(wls)).zfill(3), \n",
    "                                                                                                                                                   wss=str(wss),\n",
    "                                                                                                                                                   dist=dist,\n",
    "                                                                                                                                                   knn=str(knn).zfill(4),\n",
    "                                                                                                                                                   m=str(m).zfill(4),\n",
    "                                                                                                                                                   min_dist=str(min_dist),\n",
    "                                                                                                                                                   init_method=init_method,\n",
    "                                                                                                                                                   alpha=str(alpha)))\n",
    "                        output_path = osp.join(PRJ_DIR,'Data_Interim','PNAS2015','ALL','UMAP',input_data,'ALL_Craddock_0200.WL{wls}s.WS{wss}s.UMAP_{dist}_k{knn}_m{m}_md{min_dist}_a{alpha}_{init_method}.{norm_method}.SI.pkl'.format(norm_method=norm_method, init_method=init_method,\n",
    "                                                                                                                                                   wls=str(int(wls)).zfill(3), \n",
    "                                                                                                                                                   wss=str(wss),\n",
    "                                                                                                                                                   dist=dist,\n",
    "                                                                                                                                                   knn=str(knn).zfill(4),\n",
    "                                                                                                                                                   m=str(m).zfill(4),\n",
    "                                                                                                                                                   min_dist=str(min_dist),\n",
    "                                                                                                                                                   alpha=str(alpha)))\n",
    "                        if not osp.exists(output_path):\n",
    "                            num_entries += 1\n",
    "                            swarm_file.write('export input={input_path} output={output_path}; sh {scripts_dir}/N11_SI.sh'.format(input_path=input_path, \n",
    "                                                                                                                     output_path=output_path,\n",
    "                                                                                                                     scripts_dir=osp.join(PRJ_DIR,'Notebooks')))\n",
    "                            swarm_file.write('\\n')\n",
    "swarm_file.close()\n",
    "print(\"++ INFO: Attempts/Written = [%d/%d]\" % (num_entries,num_iters))"
   ]
  },
  {
   "cell_type": "markdown",
   "id": "8c870282-aa30-49d7-93ee-d14586c42528",
   "metadata": {},
   "source": [
    "*** \n",
    "# Procrustes"
   ]
  },
  {
   "cell_type": "code",
   "execution_count": 6,
   "id": "91028e1a-253f-4809-b1f6-425fe87e330e",
   "metadata": {},
   "outputs": [],
   "source": [
    "import pandas as pd\n",
    "import numpy as np\n",
    "from scipy.spatial import procrustes\n",
    "from scipy.stats import zscore\n",
    "from sklearn.metrics import silhouette_score\n",
    "from tqdm.notebook import tqdm, tqdm_notebook\n",
    "from utils.basics import norm_methods, input_datas\n",
    "from utils.io import load_UMAP_SI,load_single_umap"
   ]
  },
  {
   "cell_type": "code",
   "execution_count": 7,
   "id": "54eda593-2c6f-45c8-9b24-693db3cb56ae",
   "metadata": {},
   "outputs": [
    {
     "data": {
      "application/vnd.jupyter.widget-view+json": {
       "model_id": "213ff24530e3409188cf60bfcb94c124",
       "version_major": 2,
       "version_minor": 0
      },
      "text/plain": [
       "Subjects::   0%|          | 0/20 [00:00<?, ?it/s]"
      ]
     },
     "metadata": {},
     "output_type": "display_data"
    },
    {
     "data": {
      "application/vnd.jupyter.widget-view+json": {
       "model_id": "",
       "version_major": 2,
       "version_minor": 0
      },
      "text/plain": [
       "Data Inputs::   0%|          | 0/3 [00:00<?, ?it/s]"
      ]
     },
     "metadata": {},
     "output_type": "display_data"
    },
    {
     "data": {
      "application/vnd.jupyter.widget-view+json": {
       "model_id": "",
       "version_major": 2,
       "version_minor": 0
      },
      "text/plain": [
       "Data Inputs::   0%|          | 0/3 [00:00<?, ?it/s]"
      ]
     },
     "metadata": {},
     "output_type": "display_data"
    },
    {
     "data": {
      "application/vnd.jupyter.widget-view+json": {
       "model_id": "",
       "version_major": 2,
       "version_minor": 0
      },
      "text/plain": [
       "Data Inputs::   0%|          | 0/3 [00:00<?, ?it/s]"
      ]
     },
     "metadata": {},
     "output_type": "display_data"
    },
    {
     "data": {
      "application/vnd.jupyter.widget-view+json": {
       "model_id": "",
       "version_major": 2,
       "version_minor": 0
      },
      "text/plain": [
       "Data Inputs::   0%|          | 0/3 [00:00<?, ?it/s]"
      ]
     },
     "metadata": {},
     "output_type": "display_data"
    },
    {
     "data": {
      "application/vnd.jupyter.widget-view+json": {
       "model_id": "",
       "version_major": 2,
       "version_minor": 0
      },
      "text/plain": [
       "Data Inputs::   0%|          | 0/3 [00:00<?, ?it/s]"
      ]
     },
     "metadata": {},
     "output_type": "display_data"
    },
    {
     "data": {
      "application/vnd.jupyter.widget-view+json": {
       "model_id": "",
       "version_major": 2,
       "version_minor": 0
      },
      "text/plain": [
       "Data Inputs::   0%|          | 0/3 [00:00<?, ?it/s]"
      ]
     },
     "metadata": {},
     "output_type": "display_data"
    },
    {
     "data": {
      "application/vnd.jupyter.widget-view+json": {
       "model_id": "",
       "version_major": 2,
       "version_minor": 0
      },
      "text/plain": [
       "Data Inputs::   0%|          | 0/3 [00:00<?, ?it/s]"
      ]
     },
     "metadata": {},
     "output_type": "display_data"
    },
    {
     "data": {
      "application/vnd.jupyter.widget-view+json": {
       "model_id": "",
       "version_major": 2,
       "version_minor": 0
      },
      "text/plain": [
       "Data Inputs::   0%|          | 0/3 [00:00<?, ?it/s]"
      ]
     },
     "metadata": {},
     "output_type": "display_data"
    },
    {
     "data": {
      "application/vnd.jupyter.widget-view+json": {
       "model_id": "",
       "version_major": 2,
       "version_minor": 0
      },
      "text/plain": [
       "Data Inputs::   0%|          | 0/3 [00:00<?, ?it/s]"
      ]
     },
     "metadata": {},
     "output_type": "display_data"
    },
    {
     "data": {
      "application/vnd.jupyter.widget-view+json": {
       "model_id": "",
       "version_major": 2,
       "version_minor": 0
      },
      "text/plain": [
       "Data Inputs::   0%|          | 0/3 [00:00<?, ?it/s]"
      ]
     },
     "metadata": {},
     "output_type": "display_data"
    },
    {
     "data": {
      "application/vnd.jupyter.widget-view+json": {
       "model_id": "",
       "version_major": 2,
       "version_minor": 0
      },
      "text/plain": [
       "Data Inputs::   0%|          | 0/3 [00:00<?, ?it/s]"
      ]
     },
     "metadata": {},
     "output_type": "display_data"
    },
    {
     "data": {
      "application/vnd.jupyter.widget-view+json": {
       "model_id": "",
       "version_major": 2,
       "version_minor": 0
      },
      "text/plain": [
       "Data Inputs::   0%|          | 0/3 [00:00<?, ?it/s]"
      ]
     },
     "metadata": {},
     "output_type": "display_data"
    },
    {
     "data": {
      "application/vnd.jupyter.widget-view+json": {
       "model_id": "",
       "version_major": 2,
       "version_minor": 0
      },
      "text/plain": [
       "Data Inputs::   0%|          | 0/3 [00:00<?, ?it/s]"
      ]
     },
     "metadata": {},
     "output_type": "display_data"
    },
    {
     "data": {
      "application/vnd.jupyter.widget-view+json": {
       "model_id": "",
       "version_major": 2,
       "version_minor": 0
      },
      "text/plain": [
       "Data Inputs::   0%|          | 0/3 [00:00<?, ?it/s]"
      ]
     },
     "metadata": {},
     "output_type": "display_data"
    },
    {
     "data": {
      "application/vnd.jupyter.widget-view+json": {
       "model_id": "",
       "version_major": 2,
       "version_minor": 0
      },
      "text/plain": [
       "Data Inputs::   0%|          | 0/3 [00:00<?, ?it/s]"
      ]
     },
     "metadata": {},
     "output_type": "display_data"
    },
    {
     "data": {
      "application/vnd.jupyter.widget-view+json": {
       "model_id": "",
       "version_major": 2,
       "version_minor": 0
      },
      "text/plain": [
       "Data Inputs::   0%|          | 0/3 [00:00<?, ?it/s]"
      ]
     },
     "metadata": {},
     "output_type": "display_data"
    },
    {
     "data": {
      "application/vnd.jupyter.widget-view+json": {
       "model_id": "",
       "version_major": 2,
       "version_minor": 0
      },
      "text/plain": [
       "Data Inputs::   0%|          | 0/3 [00:00<?, ?it/s]"
      ]
     },
     "metadata": {},
     "output_type": "display_data"
    },
    {
     "data": {
      "application/vnd.jupyter.widget-view+json": {
       "model_id": "",
       "version_major": 2,
       "version_minor": 0
      },
      "text/plain": [
       "Data Inputs::   0%|          | 0/3 [00:00<?, ?it/s]"
      ]
     },
     "metadata": {},
     "output_type": "display_data"
    },
    {
     "data": {
      "application/vnd.jupyter.widget-view+json": {
       "model_id": "",
       "version_major": 2,
       "version_minor": 0
      },
      "text/plain": [
       "Data Inputs::   0%|          | 0/3 [00:00<?, ?it/s]"
      ]
     },
     "metadata": {},
     "output_type": "display_data"
    },
    {
     "data": {
      "application/vnd.jupyter.widget-view+json": {
       "model_id": "",
       "version_major": 2,
       "version_minor": 0
      },
      "text/plain": [
       "Data Inputs::   0%|          | 0/3 [00:00<?, ?it/s]"
      ]
     },
     "metadata": {},
     "output_type": "display_data"
    },
    {
     "name": "stdout",
     "output_type": "stream",
     "text": [
      "++ INFO: Number of missing files = [0/86400] files\n",
      "CPU times: user 7min 29s, sys: 8.79 s, total: 7min 38s\n",
      "Wall time: 8min 23s\n"
     ]
    }
   ],
   "source": [
    "%%time\n",
    "si_UMAP = load_UMAP_SI(sbj_list=PNAS2015_subject_list,check_availability=False, verbose=False, wls=wls, wss=wss, ms=[2,3])"
   ]
  },
  {
   "cell_type": "code",
   "execution_count": 8,
   "id": "67baabba-9380-4dc4-a8be-66183be580d5",
   "metadata": {},
   "outputs": [],
   "source": [
    "si_UMAP = si_UMAP.set_index(['Subject','Input Data','Norm','Metric','Knn','m','Alpha','Init','MinDist','Target']).sort_index()"
   ]
  },
  {
   "cell_type": "code",
   "execution_count": 10,
   "id": "a747945e-9ae6-46f8-a580-8ba338cfec3d",
   "metadata": {},
   "outputs": [],
   "source": [
    "def procrustes_scan_umap_embs(sbj_list,input_data,norm_method,dist,knn,m,alpha, init, mdist,drop_xxxx):\n",
    "    embs = {}\n",
    "    # Load all embeddings\n",
    "    for sbj in sbj_list:\n",
    "        embs[sbj] = load_single_umap(sbj,input_data,norm_method,dist,knn,alpha,init_method,min_dist,m,drop_xxxx=False)\n",
    "    # Select best embedding (based on SI) to be used as reference\n",
    "    si_sel_data = si_UMAP.loc[sbj_list].loc[:,input_data,norm_method,dist,:,m,alpha,init,mdist]\n",
    "    best        = si_sel_data.sort_values(by='SI', ascending=False).iloc[0].name[0]\n",
    "    # Get a list with the names of all other scans that need to be transformed\n",
    "    scans_to_transform = sbj_list.copy()\n",
    "    scans_to_transform.remove(best)\n",
    "    # Copy the embedding to use as reference into the ref variable\n",
    "    ref = embs[best]\n",
    "    # Create object that will contain all overlapped embeddings\n",
    "    all_embs            = zscore(ref.copy()).reset_index()\n",
    "    sub_col = list(np.repeat(best,all_embs.shape[0]))\n",
    "    # Go one-by-one computing transformation and keeping it \n",
    "    for scan in scans_to_transform:\n",
    "        aux          = embs[scan]\n",
    "        _, aux_trf,_ = procrustes(ref,aux)\n",
    "        aux_trf      = pd.DataFrame(zscore(aux_trf),index=aux.index, columns=aux.columns).reset_index()\n",
    "        all_embs     = all_embs.append(aux_trf).reset_index(drop=True)\n",
    "        sub_col      = sub_col + list(np.repeat(scan,aux.shape[0]))\n",
    "    all_embs['Subject'] = sub_col\n",
    "    # Drop In-between windows if requested\n",
    "    if drop_xxxx:\n",
    "        all_embs = all_embs.set_index('Window Name').drop('XXXX').reset_index()\n",
    "    return all_embs"
   ]
  },
  {
   "cell_type": "code",
   "execution_count": 15,
   "id": "cd29d1dc-4d1b-4834-846e-352d74b6a9d0",
   "metadata": {},
   "outputs": [
    {
     "data": {
      "application/vnd.jupyter.widget-view+json": {
       "model_id": "ebfe1df202dc456f9790363323ca3d6f",
       "version_major": 2,
       "version_minor": 0
      },
      "text/plain": [
       "Input Data::   0%|          | 0/3 [00:00<?, ?it/s]"
      ]
     },
     "metadata": {},
     "output_type": "display_data"
    },
    {
     "data": {
      "application/vnd.jupyter.widget-view+json": {
       "model_id": "",
       "version_major": 2,
       "version_minor": 0
      },
      "text/plain": [
       "Norm Method:   0%|          | 0/2 [00:00<?, ?it/s]"
      ]
     },
     "metadata": {},
     "output_type": "display_data"
    },
    {
     "data": {
      "application/vnd.jupyter.widget-view+json": {
       "model_id": "",
       "version_major": 2,
       "version_minor": 0
      },
      "text/plain": [
       "Norm Method:   0%|          | 0/2 [00:00<?, ?it/s]"
      ]
     },
     "metadata": {},
     "output_type": "display_data"
    },
    {
     "data": {
      "application/vnd.jupyter.widget-view+json": {
       "model_id": "",
       "version_major": 2,
       "version_minor": 0
      },
      "text/plain": [
       "Norm Method:   0%|          | 0/2 [00:00<?, ?it/s]"
      ]
     },
     "metadata": {},
     "output_type": "display_data"
    },
    {
     "name": "stdout",
     "output_type": "stream",
     "text": [
      "CPU times: user 1d 15h 51min 14s, sys: 2d 45min 15s, total: 3d 16h 36min 29s\n",
      "Wall time: 8h 35min 26s\n"
     ]
    }
   ],
   "source": [
    "%%time\n",
    "si_procrustes = pd.DataFrame(columns=['Input','Norm','Metric','Knn','m','Alpha','Init','MinDist','Target','SI'])\n",
    "for input_data in tqdm(input_datas, desc='Input Data:'):\n",
    "    for norm_method in tqdm(norm_methods, desc='Norm Method', leave=False):\n",
    "        for m in umap_ms:\n",
    "            for dist in umap_dist_metrics:\n",
    "                for knn in umap_knns:\n",
    "                    for alpha in umap_alphas:\n",
    "                        aux = procrustes_scan_umap_embs(PNAS2015_subject_list,input_data,norm_method,dist,knn,m,alpha, init_method, min_dist,drop_xxxx=True)\n",
    "                        aux.index.name = 'WinID'\n",
    "                        aux.columns.name = ''\n",
    "                        emb_path = osp.join(PRJ_DIR,'Data_Interim','PNAS2015','Procrustes','UMAP',input_data,\n",
    "                                            'Procrustes_Craddock_0200.WL{wls}s.WS{wss}s.UMAP_{dist}_k{knn}_m{m}_md{md}_a{alpha}_{init}.{nm}.pkl'.format(wls=str(int(wls)).zfill(3),md=min_dist,alpha=str(alpha),\n",
    "                                                                                                                      wss=str(wss),init=init_method,\n",
    "                                                                                                                      dist=dist,\n",
    "                                                                                                                      knn=str(knn).zfill(4),\n",
    "                                                                                                                      nm=norm_method,\n",
    "                                                                                                                      m=str(m).zfill(4)))\n",
    "                        aux.to_pickle(emb_path)\n",
    "                        umap_dims = [c for c in aux.columns if 'UMAP0' in c]\n",
    "                        # Compute SI\n",
    "                        si_sbj  = silhouette_score(aux[umap_dims], aux.reset_index()['Subject'], n_jobs=-1)\n",
    "                        si_task = silhouette_score(aux[umap_dims], aux.reset_index()['Window Name'], n_jobs=-1)\n",
    "                        # Write to disk individual SI file\n",
    "                        df = pd.Series(index=['SI_Subject','SI_Window Name'], dtype=float)\n",
    "                        df['SI_Subject'] = si_sbj\n",
    "                        df['SI_Window Name'] = si_task\n",
    "                        si_path = osp.join(PRJ_DIR,'Data_Interim','PNAS2015','Procrustes','UMAP',input_data,'Procrustes_Craddock_0200.WL{wls}s.WS{wss}s.UMAP_{dist}_k{knn}_m{m}_md{md}_a{alpha}_{init}.{nm}.SI.pkl'.format(wls=str(int(wls)).zfill(3), \n",
    "                                                                                                                      md=min_dist,alpha=str(alpha),init=init_method,\n",
    "                                                                                                                      wss=str(wss),\n",
    "                                                                                                                      dist=dist,\n",
    "                                                                                                                      knn=str(knn).zfill(4),\n",
    "                                                                                                                      nm=norm_method,\n",
    "                                                                                                                      m=str(m).zfill(4)))\n",
    "                        df.to_pickle(si_path)\n",
    "                        # Add SI to overall dictionary\n",
    "                        si_procrustes = si_procrustes.append({'Input':input_data, 'Norm':norm_method, 'Metric':dist,\n",
    "                                              'Knn':knn, 'm':m, 'Target':'Subject','SI':si_sbj}, ignore_index=True)\n",
    "                        si_procrustes = si_procrustes.append({'Input':input_data, 'Norm':norm_method, 'Metric':dist,\n",
    "                                              'Knn':knn, 'm':m, 'Target':'Window Name','SI':si_task}, ignore_index=True)"
   ]
  },
  {
   "cell_type": "code",
   "execution_count": 16,
   "id": "bcfb5c2f-63c8-4fca-82a2-942b3638820a",
   "metadata": {},
   "outputs": [],
   "source": [
    "si_procrustes.to_pickle(osp.join(PRJ_DIR,'Dashboard','Data','SI_UMAP_Procrustes.pkl'))"
   ]
  },
  {
   "cell_type": "code",
   "execution_count": null,
   "id": "31956d88-0b78-4e85-b297-76b5bbfcb656",
   "metadata": {},
   "outputs": [],
   "source": []
  }
 ],
 "metadata": {
  "jupytext": {
   "formats": "ipynb,auto:light"
  },
  "kernelspec": {
   "display_name": "opentsne",
   "language": "python",
   "name": "opentsne"
  },
  "language_info": {
   "codemirror_mode": {
    "name": "ipython",
    "version": 3
   },
   "file_extension": ".py",
   "mimetype": "text/x-python",
   "name": "python",
   "nbconvert_exporter": "python",
   "pygments_lexer": "ipython3",
   "version": "3.7.13"
  }
 },
 "nbformat": 4,
 "nbformat_minor": 5
}
