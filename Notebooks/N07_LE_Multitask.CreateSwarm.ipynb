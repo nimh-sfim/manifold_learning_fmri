{
 "cells": [
  {
   "cell_type": "markdown",
   "id": "767b3f39-cbb6-474a-ae1d-00ff4e377497",
   "metadata": {},
   "source": [
    "# Description\n",
    "\n",
    "This notebook will compute LE for the multi-task dataset. For LE we explore three hyper-parameters:\n",
    "\n",
    "* Distance Function: euclidean, cosine or correlation\n",
    "* knn: neighborhood size\n",
    "* m: final number of dimensions\n",
    "\n",
    "Matrices will be written as pandas pickle objects in ```/data/SFIMJGC_HCP7T/manifold_learning/Data_Interim/PNAS2015/{sbj}/LE```"
   ]
  },
  {
   "cell_type": "code",
   "execution_count": 1,
   "id": "63b3e4ef-c11e-4622-b10d-b12e34a2c1e8",
   "metadata": {},
   "outputs": [],
   "source": [
    "import pandas as pd\n",
    "import numpy as np\n",
    "import os\n",
    "import os.path as osp\n",
    "import getpass\n",
    "from datetime import datetime\n",
    "from utils.basics import PNAS2015_subject_list, PNAS2015_folder, PRJ_DIR\n",
    "from utils.basics import le_dist_metrics, le_knns, le_ms, input_datas, norm_methods"
   ]
  },
  {
   "cell_type": "markdown",
   "id": "3294dd77-c285-49fe-8bbf-3ce5f1449cc8",
   "metadata": {
    "tags": []
   },
   "source": [
    "***\n",
    "\n",
    "The next cell select the Window Length ```wls``` and Window Step ```wss``` used to generate the matrices"
   ]
  },
  {
   "cell_type": "code",
   "execution_count": 2,
   "id": "adc17dc5-4a5b-41dd-b474-48904d903ed9",
   "metadata": {},
   "outputs": [],
   "source": [
    "wls = 45\n",
    "wss = 1.5"
   ]
  },
  {
   "cell_type": "markdown",
   "id": "e9f7b2ea-3130-4732-928d-76f54fd0ee27",
   "metadata": {},
   "source": [
    "***\n",
    "Those are the scenarios we will be running"
   ]
  },
  {
   "cell_type": "code",
   "execution_count": 3,
   "id": "950ff07f-7194-42bb-9038-fa0dfeb9518f",
   "metadata": {},
   "outputs": [
    {
     "name": "stdout",
     "output_type": "stream",
     "text": [
      "++ INFO: Distance Metrics: ['euclidean', 'correlation', 'cosine']\n",
      "++ INFO: Knns:             [5, 10, 15, 20, 25, 30, 35, 40, 45, 50, 55, 60, 65, 70, 75, 80, 85, 90, 95, 100, 105, 110, 115, 120, 125, 130, 135, 140, 145, 150, 155, 160, 165, 170, 175, 180, 185, 190, 195, 200]\n",
      "++ INFO: Ms:               [2, 3, 5, 10, 15, 20, 25, 30]\n"
     ]
    }
   ],
   "source": [
    "print('++ INFO: Distance Metrics: %s' % str(le_dist_metrics))\n",
    "print('++ INFO: Knns:             %s' % str(le_knns))\n",
    "print('++ INFO: Ms:               %s' % str(le_ms))"
   ]
  },
  {
   "cell_type": "markdown",
   "id": "2d863d05-af2d-4b13-b69c-83d9464c6894",
   "metadata": {},
   "source": [
    "***\n",
    "# 1. Compute Scan-Level Laplacian Eigenmaps\n",
    "\n",
    "## 1.1. Original Data"
   ]
  },
  {
   "cell_type": "markdown",
   "id": "b378e397-33f2-4e71-9894-425e57d01501",
   "metadata": {},
   "source": [
    "The next cell will create the output folders if they do not exist already"
   ]
  },
  {
   "cell_type": "code",
   "execution_count": 4,
   "id": "6dd3f61e-af06-404e-abda-f7a71f6866db",
   "metadata": {},
   "outputs": [],
   "source": [
    "# Create Output Folders if they do not exists\n",
    "for subject in PNAS2015_subject_list:\n",
    "    for input_data in input_datas:\n",
    "        path = osp.join(PRJ_DIR,'Data_Interim','PNAS2015',subject,'LE',input_data)\n",
    "        if not osp.exists(path):\n",
    "            print('++ INFO: Created folder %s' % path)\n",
    "            os.makedirs(path)"
   ]
  },
  {
   "cell_type": "markdown",
   "id": "2ef74a42-99c2-47ee-b09d-af83e971f6af",
   "metadata": {},
   "source": [
    "The next cell will create folders for the swarm log files and for the actual swarm script. Those folders are created using the username as part of their name. That way it is easier for different users to work together on the project."
   ]
  },
  {
   "cell_type": "code",
   "execution_count": 5,
   "id": "bf1589e9-c651-491f-85a9-ca8397e10630",
   "metadata": {},
   "outputs": [
    {
     "name": "stdout",
     "output_type": "stream",
     "text": [
      "++ INFO: user working now --> javiergc\n",
      "++ INFO: Swarm file : /data/SFIMJGC_HCP7T/manifold_learning_fmri/SwarmFiles.javiergc/N07_LE_Multitask_Scans.SWARM.sh\n",
      "++ INFO: Logs folder: /data/SFIMJGC_HCP7T/manifold_learning_fmri/Logs.javiergc/N07_LE_Multitask_Scans.logs\n"
     ]
    }
   ],
   "source": [
    "#user specific folders\n",
    "#=====================\n",
    "username = getpass.getuser()\n",
    "print('++ INFO: user working now --> %s' % username)\n",
    "\n",
    "swarm_folder   = osp.join(PRJ_DIR,'SwarmFiles.{username}'.format(username=username))\n",
    "logs_folder    = osp.join(PRJ_DIR,'Logs.{username}'.format(username=username))  \n",
    "\n",
    "swarm_path     = osp.join(swarm_folder,'N07_LE_Multitask_Scans.SWARM.sh')\n",
    "logdir_path    = osp.join(logs_folder, 'N07_LE_Multitask_Scans.logs')\n",
    "\n",
    "if not osp.exists(swarm_folder):\n",
    "    os.makedirs(swarm_folder)\n",
    "if not osp.exists(logdir_path):\n",
    "    os.makedirs(logdir_path)\n",
    "print('++ INFO: Swarm file : %s' % swarm_path)\n",
    "print('++ INFO: Logs folder: %s' % logdir_path)"
   ]
  },
  {
   "cell_type": "markdown",
   "id": "feb06979-2334-44af-9583-bc99c941e0d9",
   "metadata": {},
   "source": [
    "Create swarm script. This script will have one line per matrix to be generated."
   ]
  },
  {
   "cell_type": "code",
   "execution_count": 6,
   "id": "52e7ce7c-71c1-4af8-9e07-9958af70f71c",
   "metadata": {},
   "outputs": [
    {
     "name": "stdout",
     "output_type": "stream",
     "text": [
      "72000\n"
     ]
    }
   ],
   "source": [
    "# Open the file\n",
    "swarm_file = open(swarm_path, \"w\")\n",
    "# Log the date and time when the SWARM file is created\n",
    "swarm_file.write('#Create Time: %s' % datetime.now().strftime(\"%d/%m/%Y %H:%M:%S\"))\n",
    "swarm_file.write('\\n')\n",
    "\n",
    "# Insert comment line with SWARM command\n",
    "swarm_file.write('#swarm -f {swarm_path} -b 15 -g 4 -t 4 --time 00:05:00 --partition quick,norm --logdir {logdir_path}'.format(swarm_path=swarm_path,logdir_path=logdir_path))\n",
    "swarm_file.write('\\n')\n",
    "\n",
    "i = 0\n",
    "for input_data in input_datas:\n",
    "    for subject in PNAS2015_subject_list:\n",
    "        for dist in le_dist_metrics:\n",
    "            for knn in le_knns:\n",
    "                for m in [5,10,15,20,25]:\n",
    "                    for nm in norm_methods:\n",
    "                        i += 1\n",
    "                        path_tvfc = osp.join(PRJ_DIR,'Data_Interim','PNAS2015',subject,'Original',     '{subject}_Craddock_0200.WL{wls}s.WS{wss}s.tvFC.Z.{nm}.pkl'.format(subject=subject,nm=nm,wls=str(int(wls)).zfill(3), wss=str(wss)))\n",
    "                        path_out  = osp.join(PRJ_DIR,'Data_Interim','PNAS2015',subject,'LE','Original','{subject}_Craddock_0200.WL{wls}s.WS{wss}s.LE_{dist}_k{knn}_m{m}.{nm}.pkl'.format(subject=subject,nm=nm,\n",
    "                                                                                                                                                   wls=str(int(wls)).zfill(3), \n",
    "                                                                                                                                                   wss=str(wss),\n",
    "                                                                                                                                                   dist=dist,\n",
    "                                                                                                                                                   knn=str(knn).zfill(4),\n",
    "                                                                                                                                                   m=str(m).zfill(4)))\n",
    "                        swarm_file.write('export path_tvfc={path_tvfc} dist={dist} knn={knn} m={m} path_out={path_out}; sh {scripts_dir}/N07_LE.sh'.format(path_tvfc=path_tvfc, \n",
    "                                                                                                                                    path_out=path_out,\n",
    "                                                                                                                                    dist=dist,\n",
    "                                                                                                                                    knn=knn,\n",
    "                                                                                                                                    m=m, \n",
    "                                                                                                                                    scripts_dir=osp.join(PRJ_DIR,'Notebooks')))\n",
    "                        swarm_file.write('\\n')\n",
    "swarm_file.close()\n",
    "print(i)"
   ]
  },
  {
   "cell_type": "markdown",
   "id": "a6fad42a-64b2-4fc3-92d0-8907a3e2744c",
   "metadata": {
    "tags": []
   },
   "source": [
    "## 1.2. Connection Randomization"
   ]
  },
  {
   "cell_type": "code",
   "execution_count": 7,
   "id": "36d16a42-fb87-4b5f-b836-88cc83d7a93b",
   "metadata": {},
   "outputs": [],
   "source": [
    "# Create Output Folders if they do not exists\n",
    "for subject in PNAS2015_subject_list:\n",
    "    path = osp.join(PRJ_DIR,'Data_Interim','PNAS2015',subject,'LE','Null_ConnRand')\n",
    "    if not osp.exists(path):\n",
    "        print('++ INFO: Created folder %s' % path)\n",
    "        os.makedirs(path)"
   ]
  },
  {
   "cell_type": "markdown",
   "id": "8b545f55-6dae-4047-8952-02eb650a4611",
   "metadata": {},
   "source": [
    "The next cell will create folders for the swarm log files and for the actual swarm script. Those folders are created using the username as part of their name. That way it is easier for different users to work together on the project."
   ]
  },
  {
   "cell_type": "code",
   "execution_count": 8,
   "id": "b075a420-e54e-4bf3-9e01-d1605fed6f79",
   "metadata": {},
   "outputs": [
    {
     "name": "stdout",
     "output_type": "stream",
     "text": [
      "++ INFO: user working now --> javiergc\n",
      "++ INFO: Swarm file : /data/SFIMJGC_HCP7T/manifold_learning_fmri/SwarmFiles.javiergc/N07_LE_Multitask_Scans_ConnRand.SWARM.sh\n",
      "++ INFO: Logs folder: /data/SFIMJGC_HCP7T/manifold_learning_fmri/Logs.javiergc/N07_LE_Multitask_Scans_ConnRand.logs\n"
     ]
    }
   ],
   "source": [
    "#user specific folders\n",
    "#=====================\n",
    "username = getpass.getuser()\n",
    "print('++ INFO: user working now --> %s' % username)\n",
    "\n",
    "swarm_folder   = osp.join(PRJ_DIR,'SwarmFiles.{username}'.format(username=username))\n",
    "logs_folder    = osp.join(PRJ_DIR,'Logs.{username}'.format(username=username))  \n",
    "\n",
    "swarm_path     = osp.join(swarm_folder,'N07_LE_Multitask_Scans_ConnRand.SWARM.sh')\n",
    "logdir_path    = osp.join(logs_folder, 'N07_LE_Multitask_Scans_ConnRand.logs')\n",
    "\n",
    "if not osp.exists(swarm_folder):\n",
    "    os.makedirs(swarm_folder)\n",
    "if not osp.exists(logdir_path):\n",
    "    os.makedirs(logdir_path)\n",
    "print('++ INFO: Swarm file : %s' % swarm_path)\n",
    "print('++ INFO: Logs folder: %s' % logdir_path)"
   ]
  },
  {
   "cell_type": "markdown",
   "id": "bc130b7b-8adf-443c-98da-549174c0761c",
   "metadata": {},
   "source": [
    "Create swarm script. This script will have one line per matrix to be generated."
   ]
  },
  {
   "cell_type": "code",
   "execution_count": 9,
   "id": "45d71ea7-f9eb-4f2c-b23f-7185d39e8d7b",
   "metadata": {},
   "outputs": [],
   "source": [
    "# Open the file\n",
    "swarm_file = open(swarm_path, \"w\")\n",
    "# Log the date and time when the SWARM file is created\n",
    "swarm_file.write('#Create Time: %s' % datetime.now().strftime(\"%d/%m/%Y %H:%M:%S\"))\n",
    "swarm_file.write('\\n')\n",
    "\n",
    "# Insert comment line with SWARM command\n",
    "swarm_file.write('#swarm -f {swarm_path} -b 15 -g 4 -t 4 --time 00:05:00 --partition quick,norm --logdir {logdir_path}'.format(swarm_path=swarm_path,logdir_path=logdir_path))\n",
    "swarm_file.write('\\n')\n",
    "\n",
    "for subject in PNAS2015_subject_list:\n",
    "    for dist in le_dist_metrics:\n",
    "        for knn in le_knns:\n",
    "            for m in [5,10,15,20,25]:\n",
    "                for scenario in ['asis','zscored']:\n",
    "                    path_tvfc = osp.join(PRJ_DIR,'Data_Interim','PNAS2015',subject,'Null_ConnRand','{subject}_Craddock_0200.WL{wls}s.WS{wss}s.tvFC.Z.{scenario}.pkl'.format(subject=subject,scenario=scenario,wls=str(int(wls)).zfill(3), wss=str(wss)))\n",
    "                    path_out  = osp.join(PRJ_DIR,'Data_Interim','PNAS2015',subject,'LE','Null_ConnRand','{subject}_Craddock_0200.WL{wls}s.WS{wss}s.LE_{dist}_k{knn}_m{m}.{scenario}.pkl'.format(subject=subject,scenario=scenario,\n",
    "                                                                                                                                                   wls=str(int(wls)).zfill(3), \n",
    "                                                                                                                                                   wss=str(wss),\n",
    "                                                                                                                                                   dist=dist,\n",
    "                                                                                                                                                   knn=str(knn).zfill(4),\n",
    "                                                                                                                                                   m=str(m).zfill(4)))\n",
    "                    swarm_file.write('export path_tvfc={path_tvfc} dist={dist} knn={knn} m={m} path_out={path_out}; sh {scripts_dir}/N07_LE.sh'.format(path_tvfc=path_tvfc, \n",
    "                                                                                                                                    path_out=path_out,\n",
    "                                                                                                                                    dist=dist,\n",
    "                                                                                                                                    knn=knn,\n",
    "                                                                                                                                    m=m, \n",
    "                                                                                                                                    scripts_dir=osp.join(PRJ_DIR,'Notebooks')))\n",
    "                    swarm_file.write('\\n')\n",
    "swarm_file.close()"
   ]
  },
  {
   "cell_type": "markdown",
   "id": "b52cd3c6-27c0-459c-9403-7f2980e1a127",
   "metadata": {
    "tags": []
   },
   "source": [
    "## 1.3. Phase Randomization Model"
   ]
  },
  {
   "cell_type": "code",
   "execution_count": 10,
   "id": "e40478bd-5b9d-4d92-b8ed-748750da3caf",
   "metadata": {},
   "outputs": [],
   "source": [
    "# Create Output Folders if they do not exists\n",
    "for subject in PNAS2015_subject_list:\n",
    "    path = osp.join(PRJ_DIR,'Data_Interim','PNAS2015',subject,'LE','Null_PhaseRand')\n",
    "    if not osp.exists(path):\n",
    "        print('++ INF: Created folder %s' % path)\n",
    "        os.makedirs(path)"
   ]
  },
  {
   "cell_type": "markdown",
   "id": "8e7eea62-8fc1-4286-8caf-78cd5b04b870",
   "metadata": {},
   "source": [
    "The next cell will create folders for the swarm log files and for the actual swarm script. Those folders are created using the username as part of their name. That way it is easier for different users to work together on the project."
   ]
  },
  {
   "cell_type": "code",
   "execution_count": 11,
   "id": "03f942a0-94a3-4dff-a15f-d447122b4944",
   "metadata": {},
   "outputs": [
    {
     "name": "stdout",
     "output_type": "stream",
     "text": [
      "++ INFO: user working now --> javiergc\n",
      "++ INFO: Swarm file : /data/SFIMJGC_HCP7T/manifold_learning_fmri/SwarmFiles.javiergc/N07_LE_Multitask_Scans_PhaseRand.SWARM.sh\n",
      "++ INFO: Logs folder: /data/SFIMJGC_HCP7T/manifold_learning_fmri/Logs.javiergc/N07_LE_Multitask_Scans_PhaseRand.logs\n"
     ]
    }
   ],
   "source": [
    "#user specific folders\n",
    "#=====================\n",
    "username = getpass.getuser()\n",
    "print('++ INFO: user working now --> %s' % username)\n",
    "\n",
    "swarm_folder   = osp.join(PRJ_DIR,'SwarmFiles.{username}'.format(username=username))\n",
    "logs_folder    = osp.join(PRJ_DIR,'Logs.{username}'.format(username=username))  \n",
    "\n",
    "swarm_path     = osp.join(swarm_folder,'N07_LE_Multitask_Scans_PhaseRand.SWARM.sh')\n",
    "logdir_path    = osp.join(logs_folder, 'N07_LE_Multitask_Scans_PhaseRand.logs')\n",
    "\n",
    "if not osp.exists(swarm_folder):\n",
    "    os.makedirs(swarm_folder)\n",
    "if not osp.exists(logdir_path):\n",
    "    os.makedirs(logdir_path)\n",
    "print('++ INFO: Swarm file : %s' % swarm_path)\n",
    "print('++ INFO: Logs folder: %s' % logdir_path)"
   ]
  },
  {
   "cell_type": "markdown",
   "id": "8847f64b-555d-4c4a-9162-31671b9341b8",
   "metadata": {},
   "source": [
    "Create swarm script. This script will have one line per matrix to be generated."
   ]
  },
  {
   "cell_type": "code",
   "execution_count": 12,
   "id": "febb45cc-3007-4461-a029-9e74efc70780",
   "metadata": {
    "lines_to_next_cell": 0
   },
   "outputs": [],
   "source": [
    "# Open the file\n",
    "swarm_file = open(swarm_path, \"w\")\n",
    "# Log the date and time when the SWARM file is created\n",
    "swarm_file.write('#Create Time: %s' % datetime.now().strftime(\"%d/%m/%Y %H:%M:%S\"))\n",
    "swarm_file.write('\\n')\n",
    "\n",
    "# Insert comment line with SWARM command\n",
    "swarm_file.write('#swarm -f {swarm_path} -b 20 -g 4 -t 4 --time 00:05:00 --partition quick,norm --logdir {logdir_path}'.format(swarm_path=swarm_path,logdir_path=logdir_path))\n",
    "swarm_file.write('\\n')\n",
    "\n",
    "for subject in PNAS2015_subject_list:\n",
    "    for dist in le_dist_metrics:\n",
    "        for knn in le_knns:\n",
    "            for m in [5,10,15,20,25]:\n",
    "                for scenario in ['asis','zscored']:\n",
    "                    path_tvfc = osp.join(PRJ_DIR,'Data_Interim','PNAS2015',subject,'Null_PhaseRand','{subject}_Craddock_0200.WL{wls}s.WS{wss}s.tvFC.Z.{scenario}.pkl'.format(subject=subject,scenario=scenario,wls=str(int(wls)).zfill(3), wss=str(wss)))\n",
    "                    path_out  = osp.join(PRJ_DIR,'Data_Interim','PNAS2015',subject,'LE','Null_PhaseRand','{subject}_Craddock_0200.WL{wls}s.WS{wss}s.LE_{dist}_k{knn}_m{m}.{scenario}.pkl'.format(subject=subject,scenario=scenario,\n",
    "                                                                                                                                                   wls=str(int(wls)).zfill(3), \n",
    "                                                                                                                                                   wss=str(wss),\n",
    "                                                                                                                                                   dist=dist,\n",
    "                                                                                                                                                   knn=str(knn).zfill(4),\n",
    "                                                                                                                                                   m=str(m).zfill(4)))\n",
    "                    swarm_file.write('export path_tvfc={path_tvfc} dist={dist} knn={knn} m={m} path_out={path_out}; sh {scripts_dir}/N07_LE.sh'.format(path_tvfc=path_tvfc, \n",
    "                                                                                                                                    path_out=path_out,\n",
    "                                                                                                                                    dist=dist,\n",
    "                                                                                                                                    knn=knn,\n",
    "                                                                                                                                    m=m, \n",
    "                                                                                                                                    scripts_dir=osp.join(PRJ_DIR,'Notebooks')))\n",
    "                    swarm_file.write('\\n')\n",
    "swarm_file.close()"
   ]
  },
  {
   "cell_type": "markdown",
   "id": "cb9d8010-b167-4813-9691-dbc14373c9e8",
   "metadata": {},
   "source": [
    "***\n",
    "\n",
    "# 2. Evaluate Single-Scan LE via Silhouette Index"
   ]
  },
  {
   "cell_type": "code",
   "execution_count": 13,
   "id": "7deadc0c-3166-48e7-bf2f-c37c95457735",
   "metadata": {},
   "outputs": [
    {
     "name": "stdout",
     "output_type": "stream",
     "text": [
      "++ INFO: Distance Metrics: ['euclidean', 'correlation', 'cosine']\n",
      "++ INFO: Knns:             [5, 10, 15, 20, 25, 30, 35, 40, 45, 50, 55, 60, 65, 70, 75, 80, 85, 90, 95, 100, 105, 110, 115, 120, 125, 130, 135, 140, 145, 150, 155, 160, 165, 170, 175, 180, 185, 190, 195, 200]\n",
      "++ INFO: Ms:               [2, 3, 5, 10, 15, 20, 25, 30]\n"
     ]
    }
   ],
   "source": [
    "print('++ INFO: Distance Metrics: %s' % str(le_dist_metrics))\n",
    "print('++ INFO: Knns:             %s' % str(le_knns))\n",
    "print('++ INFO: Ms:               %s' % str(le_ms))"
   ]
  },
  {
   "cell_type": "markdown",
   "id": "96f3b473-34db-4d2d-89d0-1d0f0a3e906c",
   "metadata": {},
   "source": [
    "## 2.1. All Three input models together (Original, Phase Rand, Conn Rand)"
   ]
  },
  {
   "cell_type": "code",
   "execution_count": 14,
   "id": "d782515c-4fce-459c-8cfa-09e4daea135e",
   "metadata": {},
   "outputs": [
    {
     "name": "stdout",
     "output_type": "stream",
     "text": [
      "++ INFO: user working now --> javiergc\n",
      "++ INFO: Swarm File : /data/SFIMJGC_HCP7T/manifold_learning_fmri/SwarmFiles.javiergc/N10_LE_Eval_Clustering_Scans.SWARM.sh\n",
      "++ INFO: Logs Folder: /data/SFIMJGC_HCP7T/manifold_learning_fmri/Logs.javiergc/N10_LE_Eval_Clustering_Scans.logs\n"
     ]
    }
   ],
   "source": [
    "#user specific folders\n",
    "#=====================\n",
    "username = getpass.getuser()\n",
    "print('++ INFO: user working now --> %s' % username)\n",
    "\n",
    "swarm_folder   = osp.join(PRJ_DIR,'SwarmFiles.{username}'.format(username=username))\n",
    "logs_folder    = osp.join(PRJ_DIR,'Logs.{username}'.format(username=username))  \n",
    "\n",
    "swarm_path     = osp.join(swarm_folder,'N10_LE_Eval_Clustering_Scans.SWARM.sh')\n",
    "logdir_path    = osp.join(logs_folder, 'N10_LE_Eval_Clustering_Scans.logs')\n",
    "\n",
    "if not osp.exists(swarm_folder):\n",
    "    os.makedirs(swarm_folder)\n",
    "if not osp.exists(logdir_path):\n",
    "    os.makedirs(logdir_path)\n",
    "print(\"++ INFO: Swarm File : %s\" % swarm_path)\n",
    "print(\"++ INFO: Logs Folder: %s\" % logdir_path)"
   ]
  },
  {
   "cell_type": "code",
   "execution_count": 15,
   "id": "83899db2-f080-484b-b99b-6ce2fb960d53",
   "metadata": {},
   "outputs": [],
   "source": [
    "# Open the file\n",
    "swarm_file = open(swarm_path, \"w\")\n",
    "# Log the date and time when the SWARM file is created\n",
    "swarm_file.write('#Create Time: %s' % datetime.now().strftime(\"%d/%m/%Y %H:%M:%S\"))\n",
    "swarm_file.write('\\n')\n",
    "\n",
    "# Insert comment line with SWARM command\n",
    "swarm_file.write('#swarm -f {swarm_path} -b 44 -g 16 -t 4 --time 00:05:00 --partition=quick,norm --logdir {logdir_path}'.format(swarm_path=swarm_path,logdir_path=logdir_path))\n",
    "swarm_file.write('\\n')\n",
    "for scenario in ['asis','zscored']:\n",
    "    for dist in le_dist_metrics:\n",
    "        for knn in le_knns:\n",
    "            for m in [5,10,15,20,25]:\n",
    "                for sbj in PNAS2015_subject_list:\n",
    "                    for input_data in ['Null_ConnRand','Null_PhaseRand']: #['Original','Null_ConnRand','Null_PhaseRand']:\n",
    "                        input_path = osp.join(PRJ_DIR,'Data_Interim','PNAS2015',sbj,'LE',input_data,'{sbj}_Craddock_0200.WL{wls}s.WS{wss}s.LE_{dist}_k{knn}_m{m}.{scenario}.pkl'.format(scenario=scenario,sbj=sbj,\n",
    "                                                                                                                                                   wls=str(int(wls)).zfill(3), \n",
    "                                                                                                                                                   wss=str(wss),\n",
    "                                                                                                                                                   dist=dist,\n",
    "                                                                                                                                                   knn=str(knn).zfill(4),\n",
    "                                                                                                                                                   m=str(m).zfill(4)))\n",
    "                        output_path = osp.join(PRJ_DIR,'Data_Interim','PNAS2015',sbj,'LE',input_data,'{sbj}_Craddock_0200.WL{wls}s.WS{wss}s.LE_{dist}_k{knn}_m{m}.{scenario}.SI.pkl'.format(scenario=scenario,sbj=sbj,\n",
    "                                                                                                                                                   wls=str(int(wls)).zfill(3), \n",
    "                                                                                                                                                   wss=str(wss),\n",
    "                                                                                                                                                   dist=dist,\n",
    "                                                                                                                                                   knn=str(knn).zfill(4),\n",
    "                                                                                                                                                   m=str(m).zfill(4)))\n",
    "                        swarm_file.write('export input={input_path} output={output_path}; sh {scripts_dir}/N10_SI.sh'.format(input_path=input_path, \n",
    "                                                                                                                     output_path=output_path,\n",
    "                                                                                                                     scripts_dir=osp.join(PRJ_DIR,'Notebooks')))\n",
    "                        swarm_file.write('\\n')\n",
    "swarm_file.close()"
   ]
  },
  {
   "cell_type": "markdown",
   "id": "bd11ddaf-f0d6-4629-af13-1b4f6c49acaf",
   "metadata": {},
   "source": [
    "***\n",
    "\n",
    "# 3. Group-Level LE\n",
    "\n",
    "## 3.1. Generate group-level LE via \"Concatenation + LE\""
   ]
  },
  {
   "cell_type": "code",
   "execution_count": 16,
   "id": "e3d4c8f5-5d94-40b8-af27-4ae3d43a6156",
   "metadata": {
    "lines_to_next_cell": 2
   },
   "outputs": [],
   "source": [
    "# Create Output Folders if they do not exists\n",
    "for input_data in ['Original','Null_ConnRand','Null_PhaseRand']:\n",
    "    path = osp.join(PRJ_DIR,'Data_Interim','PNAS2015','ALL','LE',input_data)\n",
    "    if not osp.exists(path):\n",
    "        print('++ INF: Created folder %s' % path)\n",
    "        os.makedirs(path)"
   ]
  },
  {
   "cell_type": "code",
   "execution_count": 17,
   "id": "d2a08c8c-ccc8-4af0-8541-ae2fd50eda35",
   "metadata": {},
   "outputs": [
    {
     "name": "stdout",
     "output_type": "stream",
     "text": [
      "++ INFO: user working now --> javiergc\n",
      "++ INFO: Swarm file : /data/SFIMJGC_HCP7T/manifold_learning_fmri/SwarmFiles.javiergc/N07_LE_Multitask_ALL.SWARM.sh\n",
      "++ INFO: Logs folder: /data/SFIMJGC_HCP7T/manifold_learning_fmri/Logs.javiergc/N07_LE_Multitask_ALL.logs\n"
     ]
    }
   ],
   "source": [
    "#user specific folders\n",
    "#=====================\n",
    "username = getpass.getuser()\n",
    "print('++ INFO: user working now --> %s' % username)\n",
    "\n",
    "swarm_folder   = osp.join(PRJ_DIR,'SwarmFiles.{username}'.format(username=username))\n",
    "logs_folder    = osp.join(PRJ_DIR,'Logs.{username}'.format(username=username))  \n",
    "\n",
    "swarm_path     = osp.join(swarm_folder,'N07_LE_Multitask_ALL.SWARM.sh')\n",
    "logdir_path    = osp.join(logs_folder, 'N07_LE_Multitask_ALL.logs')\n",
    "\n",
    "if not osp.exists(swarm_folder):\n",
    "    os.makedirs(swarm_folder)\n",
    "if not osp.exists(logdir_path):\n",
    "    os.makedirs(logdir_path)\n",
    "print('++ INFO: Swarm file : %s' % swarm_path)\n",
    "print('++ INFO: Logs folder: %s' % logdir_path)"
   ]
  },
  {
   "cell_type": "code",
   "execution_count": 18,
   "id": "04b359db-412f-4976-8183-eacabe2b8990",
   "metadata": {},
   "outputs": [
    {
     "name": "stdout",
     "output_type": "stream",
     "text": [
      "++ INFO: Missing / Needed Files [5760/5760]\n"
     ]
    }
   ],
   "source": [
    "# Open the file\n",
    "swarm_file = open(swarm_path, \"w\")\n",
    "# Log the date and time when the SWARM file is created\n",
    "swarm_file.write('#Create Time: %s' % datetime.now().strftime(\"%d/%m/%Y %H:%M:%S\"))\n",
    "swarm_file.write('\\n')\n",
    "\n",
    "# Insert comment line with SWARM command\n",
    "swarm_file.write('#swarm -J LE_ALL -f {swarm_path} -b 3 -g 24 -t 24 --partition quick,norm --logdir {logdir_path}'.format(swarm_path=swarm_path,logdir_path=logdir_path))\n",
    "swarm_file.write('\\n')\n",
    "missing_files = 0\n",
    "needed_files = 0\n",
    "for scenario in ['asis','zscored']:\n",
    "    for dist in le_dist_metrics:\n",
    "        for knn in le_knns:\n",
    "            for m in [2,3,5,10,15,20,25,30]:\n",
    "                for input_data in ['Original','Null_ConnRand','Null_PhaseRand']:\n",
    "                    needed_files += 1\n",
    "                    path_tvfc = osp.join(PRJ_DIR,'Data_Interim','PNAS2015','ALL',input_data,     'ALL_Craddock_0200.WL{wls}s.WS{wss}s.tvFC.Z.{scenario}.pkl'.format(scenario=scenario,wls=str(int(wls)).zfill(3), wss=str(wss)))\n",
    "                    path_out  = osp.join(PRJ_DIR,'Data_Interim','PNAS2015','ALL','LE',input_data,'ALL_Craddock_0200.WL{wls}s.WS{wss}s.LE_{dist}_k{knn}_m{m}.{scenario}.pkl'.format(scenario=scenario,\n",
    "                                                                                                                                                   wls=str(int(wls)).zfill(3), \n",
    "                                                                                                                                                   wss=str(wss),\n",
    "                                                                                                                                                   dist=dist,\n",
    "                                                                                                                                                   knn=str(knn).zfill(4),\n",
    "                                                                                                                                                   m=str(m).zfill(4)))\n",
    "                    if True: #not osp.exists(path_out):\n",
    "                        missing_files +=1\n",
    "                        swarm_file.write('export path_tvfc={path_tvfc} dist={dist} knn={knn} m={m} path_out={path_out}; sh {scripts_dir}/N07_LE.sh'.format(path_tvfc=path_tvfc, \n",
    "                                                                                                                                    path_out=path_out,\n",
    "                                                                                                                                    dist=dist,\n",
    "                                                                                                                                    knn=knn,\n",
    "                                                                                                                                    m=m, \n",
    "                                                                                                                                    scripts_dir=osp.join(PRJ_DIR,'Notebooks')))\n",
    "                        swarm_file.write('\\n')\n",
    "swarm_file.close()\n",
    "print('++ INFO: Missing / Needed Files [%d/%d]' % (missing_files, needed_files))"
   ]
  },
  {
   "cell_type": "markdown",
   "id": "c79554fd-a2d2-4e89-ba74-6c7eb1f24f80",
   "metadata": {},
   "source": [
    "## 3.2 Evaluate Group-level \"Concatenation + LE\""
   ]
  },
  {
   "cell_type": "code",
   "execution_count": 19,
   "id": "26665ecb-c80e-45bf-b45d-90fc092bdae3",
   "metadata": {},
   "outputs": [
    {
     "name": "stdout",
     "output_type": "stream",
     "text": [
      "++ INFO: user working now --> javiergc\n",
      "++ INFO: Swarm File : /data/SFIMJGC_HCP7T/manifold_learning_fmri/SwarmFiles.javiergc/N10_LE_Eval_Clustering_ALL.SWARM.sh\n",
      "++ INFO: Logs Folder: /data/SFIMJGC_HCP7T/manifold_learning_fmri/Logs.javiergc/N10_LE_Eval_Clustering_ALL.logs\n"
     ]
    }
   ],
   "source": [
    "#user specific folders\n",
    "#=====================\n",
    "username = getpass.getuser()\n",
    "print('++ INFO: user working now --> %s' % username)\n",
    "\n",
    "swarm_folder   = osp.join(PRJ_DIR,'SwarmFiles.{username}'.format(username=username))\n",
    "logs_folder    = osp.join(PRJ_DIR,'Logs.{username}'.format(username=username))  \n",
    "\n",
    "swarm_path     = osp.join(swarm_folder,'N10_LE_Eval_Clustering_ALL.SWARM.sh')\n",
    "logdir_path    = osp.join(logs_folder, 'N10_LE_Eval_Clustering_ALL.logs')\n",
    "\n",
    "if not osp.exists(swarm_folder):\n",
    "    os.makedirs(swarm_folder)\n",
    "if not osp.exists(logdir_path):\n",
    "    os.makedirs(logdir_path)\n",
    "print(\"++ INFO: Swarm File : %s\" % swarm_path)\n",
    "print(\"++ INFO: Logs Folder: %s\" % logdir_path)"
   ]
  },
  {
   "cell_type": "code",
   "execution_count": 20,
   "id": "9c1d1402-5c61-405a-b0ce-9ba2698fbbeb",
   "metadata": {},
   "outputs": [
    {
     "name": "stdout",
     "output_type": "stream",
     "text": [
      "5760 5760\n"
     ]
    }
   ],
   "source": [
    "# Open the file\n",
    "swarm_file = open(swarm_path, \"w\")\n",
    "# Log the date and time when the SWARM file is created\n",
    "swarm_file.write('#Create Time: %s' % datetime.now().strftime(\"%d/%m/%Y %H:%M:%S\"))\n",
    "swarm_file.write('\\n')\n",
    "needed_files, missing_files = 0,0\n",
    "# Insert comment line with SWARM command\n",
    "swarm_file.write('#swarm -f {swarm_path} -b 57 -g 16 -t 4 --time 00:03:00 --partition=quick,norm --logdir {logdir_path}'.format(swarm_path=swarm_path,logdir_path=logdir_path))\n",
    "swarm_file.write('\\n')\n",
    "for scenario in ['asis','zscored']:\n",
    "    for dist in le_dist_metrics:\n",
    "        for knn in le_knns:\n",
    "            for m in le_ms:\n",
    "                for input_data in ['Original','Null_ConnRand','Null_PhaseRand']:\n",
    "                    needed_files += 1\n",
    "                    input_path = osp.join(PRJ_DIR,'Data_Interim','PNAS2015','ALL','LE',input_data,'ALL_Craddock_0200.WL{wls}s.WS{wss}s.LE_{dist}_k{knn}_m{m}.{scenario}.pkl'.format(scenario=scenario,\n",
    "                                                                                                                                                   wls=str(int(wls)).zfill(3), \n",
    "                                                                                                                                                   wss=str(wss),\n",
    "                                                                                                                                                   dist=dist,\n",
    "                                                                                                                                                   knn=str(knn).zfill(4),\n",
    "                                                                                                                                                   m=str(m).zfill(4)))\n",
    "                    output_path = osp.join(PRJ_DIR,'Data_Interim','PNAS2015','ALL','LE',input_data,'ALL_Craddock_0200.WL{wls}s.WS{wss}s.LE_{dist}_k{knn}_m{m}.{scenario}.SI.pkl'.format(scenario=scenario,\n",
    "                                                                                                                                                   wls=str(int(wls)).zfill(3), \n",
    "                                                                                                                                                   wss=str(wss),\n",
    "                                                                                                                                                   dist=dist,\n",
    "                                                                                                                                                   knn=str(knn).zfill(4),\n",
    "                                                                                                                                                   m=str(m).zfill(4)))\n",
    "                    if True: #osp.exists(input_path) & (not osp.exists(output_path)):\n",
    "                        missing_files += 1\n",
    "                        swarm_file.write('export input={input_path} output={output_path}; sh {scripts_dir}/N10_SI.sh'.format(input_path=input_path, \n",
    "                                                                                                                     output_path=output_path,\n",
    "                                                                                                                     scripts_dir=osp.join(PRJ_DIR,'Notebooks')))\n",
    "                        swarm_file.write('\\n')\n",
    "swarm_file.close()\n",
    "print(missing_files,needed_files)"
   ]
  },
  {
   "cell_type": "markdown",
   "id": "1e943596-1ede-44c6-9ef7-b2625a3ea6f7",
   "metadata": {},
   "source": [
    "## 3.3. Create & Evaluate Group-level LE \"LE + Procrustes\""
   ]
  },
  {
   "cell_type": "code",
   "execution_count": 21,
   "id": "3b2f5c56-1769-4347-bdda-97de18402476",
   "metadata": {},
   "outputs": [
    {
     "name": "stdout",
     "output_type": "stream",
     "text": [
      "++ INFO: user working now --> javiergc\n",
      "++ INFO: Swarm File : /data/SFIMJGC_HCP7T/manifold_learning_fmri/SwarmFiles.javiergc/N10_LE_Eval_Clustering_Procrustes.SWARM.sh\n",
      "++ INFO: Logs Folder: /data/SFIMJGC_HCP7T/manifold_learning_fmri/Logs.javiergc/N10_LE_Eval_Clustering_Procrustes.logs\n"
     ]
    }
   ],
   "source": [
    "#user specific folders\n",
    "#=====================\n",
    "username = getpass.getuser()\n",
    "print('++ INFO: user working now --> %s' % username)\n",
    "\n",
    "swarm_folder   = osp.join(PRJ_DIR,'SwarmFiles.{username}'.format(username=username))\n",
    "logs_folder    = osp.join(PRJ_DIR,'Logs.{username}'.format(username=username))  \n",
    "\n",
    "swarm_path     = osp.join(swarm_folder,'N10_LE_Eval_Clustering_Procrustes.SWARM.sh')\n",
    "logdir_path    = osp.join(logs_folder, 'N10_LE_Eval_Clustering_Procrustes.logs')\n",
    "\n",
    "if not osp.exists(swarm_folder):\n",
    "    os.makedirs(swarm_folder)\n",
    "if not osp.exists(logdir_path):\n",
    "    os.makedirs(logdir_path)\n",
    "print(\"++ INFO: Swarm File : %s\" % swarm_path)\n",
    "print(\"++ INFO: Logs Folder: %s\" % logdir_path)"
   ]
  },
  {
   "cell_type": "code",
   "execution_count": 22,
   "id": "8dd79893-3a72-47d0-b359-a077d6d285cd",
   "metadata": {
    "lines_to_next_cell": 0
   },
   "outputs": [],
   "source": [
    "# Open the file\n",
    "swarm_file = open(swarm_path, \"w\")\n",
    "# Log the date and time when the SWARM file is created\n",
    "swarm_file.write('#Create Time: %s' % datetime.now().strftime(\"%d/%m/%Y %H:%M:%S\"))\n",
    "swarm_file.write('\\n')\n",
    "\n",
    "# Insert comment line with SWARM command\n",
    "swarm_file.write('#swarm -J LE_Procrustes -f {swarm_path} -b 57 -g 16 -t 4 --time 00:03:00 --partition=quick,norm --logdir {logdir_path}'.format(swarm_path=swarm_path,logdir_path=logdir_path))\n",
    "swarm_file.write('\\n')\n",
    "for norm_method in ['asis','zscored']:\n",
    "    for dist in le_dist_metrics:\n",
    "        for knn in le_knns:\n",
    "            for m in le_ms + [5,10,15,20,25]:\n",
    "                for input_data in ['Original','Null_ConnRand','Null_PhaseRand']:\n",
    "                    swarm_file.write('export sbj_list=\"{sbj_list}\" input_data={input_data} norm_method={norm_method} dist={dist} knn={knn} m={m} drop_xxxx={drop_xxxx}; sh {scripts_dir}/N11_LE_Procrustes.sh'.format(\n",
    "                                                                                                 sbj_list=','.join(PNAS2015_subject_list),\n",
    "                                                                                                 input_data = input_data,\n",
    "                                                                                                 norm_method = norm_method,\n",
    "                                                                                                 dist = dist,\n",
    "                                                                                                 knn  = str(knn),\n",
    "                                                                                                 m = str(m),\n",
    "                                                                                                 drop_xxxx='False',\n",
    "                                                                                                 scripts_dir = osp.join(PRJ_DIR,'Notebooks')))\n",
    "                    swarm_file.write('\\n')\n",
    "swarm_file.close()"
   ]
  },
  {
   "cell_type": "code",
   "execution_count": null,
   "id": "bd6ef0ec-28aa-4d36-b85d-87a3bd807593",
   "metadata": {
    "lines_to_next_cell": 2
   },
   "outputs": [],
   "source": []
  }
 ],
 "metadata": {
  "jupytext": {
   "formats": "ipynb,py:light"
  },
  "kernelspec": {
   "display_name": "opentsne",
   "language": "python",
   "name": "opentsne"
  },
  "language_info": {
   "codemirror_mode": {
    "name": "ipython",
    "version": 3
   },
   "file_extension": ".py",
   "mimetype": "text/x-python",
   "name": "python",
   "nbconvert_exporter": "python",
   "pygments_lexer": "ipython3",
   "version": "3.7.13"
  }
 },
 "nbformat": 4,
 "nbformat_minor": 5
}
