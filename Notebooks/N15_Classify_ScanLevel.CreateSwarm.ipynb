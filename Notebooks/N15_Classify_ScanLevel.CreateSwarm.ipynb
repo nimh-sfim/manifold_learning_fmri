{
 "cells": [
  {
   "cell_type": "code",
   "execution_count": 1,
   "id": "8b873162-5c31-4892-aeca-fe523e7a3e3d",
   "metadata": {},
   "outputs": [],
   "source": [
    "import pandas as pd\n",
    "import numpy as np\n",
    "import os\n",
    "import os.path as osp\n",
    "import getpass\n",
    "from datetime import datetime\n",
    "from tqdm.notebook import tqdm\n",
    "from utils.basics import PNAS2015_subject_list, PNAS2015_folder, PNAS2015_roi_names_path, PNAS2015_win_names_paths, PRJ_DIR, input_datas, norm_methods"
   ]
  },
  {
   "cell_type": "code",
   "execution_count": 2,
   "id": "81c3d51d-4c95-43ed-823c-c941a0c12db4",
   "metadata": {},
   "outputs": [],
   "source": [
    "wls = 45\n",
    "wss = 1.5\n",
    "tr  = 1.5\n",
    "win_names_path = PNAS2015_win_names_paths[(wls,wss)]\n",
    "umap_min_dist    = 0.8\n",
    "umap_init_method = 'spectral'\n",
    "tsne_init_method = 'pca'"
   ]
  },
  {
   "cell_type": "markdown",
   "id": "28529278-26c2-4fbb-945c-336f1c7e36dc",
   "metadata": {},
   "source": [
    "Given that we will use SI as a way to check optimal embeddings, we first load the results for the three modalities"
   ]
  },
  {
   "cell_type": "code",
   "execution_count": 3,
   "id": "d8f46b0b-6181-4adb-9b71-52b9e1c437f6",
   "metadata": {},
   "outputs": [
    {
     "name": "stdout",
     "output_type": "stream",
     "text": [
      "CPU times: user 1.94 ms, sys: 1.91 ms, total: 3.85 ms\n",
      "Wall time: 2.81 ms\n"
     ]
    }
   ],
   "source": [
    "%%time\n",
    "RELOAD_SI_LE = False\n",
    "if RELOAD_SI_LE:\n",
    "    si_LE_all        = load_LE_SI(sbj_list=['ALL'],check_availability=False, verbose=True, wls=wls, wss=wss, ms=[2,3])\n",
    "    si_LE_procrustes = load_LE_SI(sbj_list=['Procrustes'],check_availability=False, verbose=True, wls=wls, wss=wss, ms=[2,3])\n",
    "    si_LE_scans      = load_LE_SI(sbj_list=PNAS2015_subject_list,check_availability=False, verbose=False, wls=wls, wss=wss, ms=[2,3])\n",
    "    si_LE            = pd.concat([si_LE_scans, si_LE_all, si_LE_procrustes])\n",
    "    si_LE.replace('Window Name','Task', inplace=True)\n",
    "    si_LE            = si_LE.set_index(['Subject','Input Data','Norm','Metric','Knn','m','Target']).sort_index()\n",
    "    si_LE.to_pickle(osp.join(PRJ_DIR,'Dashboard','Data','si_LE.pkl'))\n",
    "    del si_LE_scans, si_LE_all, si_LE_procrustes\n",
    "else:\n",
    "    si_LE = pd.read_pickle(osp.join(PRJ_DIR,'Dashboard','Data','si_LE.pkl'))"
   ]
  },
  {
   "cell_type": "code",
   "execution_count": 4,
   "id": "84267de6-963b-4f93-8be4-81f67561030a",
   "metadata": {
    "tags": []
   },
   "outputs": [
    {
     "name": "stdout",
     "output_type": "stream",
     "text": [
      "CPU times: user 3.03 ms, sys: 4.22 ms, total: 7.25 ms\n",
      "Wall time: 37.3 ms\n"
     ]
    }
   ],
   "source": [
    "%%time\n",
    "RELOAD_SI_UMAP = False\n",
    "if RELOAD_SI_UMAP:\n",
    "    si_UMAP_all = load_UMAP_SI(sbj_list=['ALL'],check_availability=False, verbose=False, wls=wls, wss=wss, ms=[2,3])\n",
    "    si_UMAP_procrustes = load_UMAP_SI(sbj_list=['Procrustes'],check_availability=False, verbose=False, wls=wls, wss=wss, ms=[2,3])\n",
    "    si_UMAP_scans = load_UMAP_SI(sbj_list=PNAS2015_subject_list,check_availability=False, verbose=True, wls=wls, wss=wss, ms=[2,3])\n",
    "    \n",
    "    si_UMAP = pd.concat([si_UMAP_scans, si_UMAP_all, si_UMAP_procrustes])\n",
    "    si_UMAP.replace('Window Name','Task', inplace=True)\n",
    "    si_UMAP = si_UMAP.set_index(['Subject','Input Data','Norm','Init','MinDist','Metric','Knn','Alpha','m','Target']).sort_index()\n",
    "    del si_UMAP_scans, si_UMAP_all, si_UMAP_procrustes\n",
    "    \n",
    "    si_UMAP.to_pickle(osp.join(PRJ_DIR,'Dashboard','Data','si_UMAP.pkl'))\n",
    "else:\n",
    "    si_UMAP = pd.read_pickle(osp.join(PRJ_DIR,'Dashboard','Data','si_UMAP.pkl'))"
   ]
  },
  {
   "cell_type": "code",
   "execution_count": 5,
   "id": "5d98ae8c-3d47-4f5e-9bf1-29bb573fe838",
   "metadata": {},
   "outputs": [
    {
     "name": "stdout",
     "output_type": "stream",
     "text": [
      "CPU times: user 4.32 ms, sys: 4.45 ms, total: 8.77 ms\n",
      "Wall time: 33 ms\n"
     ]
    }
   ],
   "source": [
    "%%time\n",
    "RELOAD_SI_TSNE = False\n",
    "if RELOAD_SI_TSNE:\n",
    "    si_TSNE_all        = load_TSNE_SI(sbj_list=['ALL'],               check_availability=False, verbose=False, wls=wls, wss=wss, ms=[2,3])\n",
    "    si_TSNE_procrustes = load_TSNE_SI(sbj_list=['Procrustes'],        check_availability=False, verbose=False, wls=wls, wss=wss, ms=[2,3])\n",
    "    si_TSNE_scans      = load_TSNE_SI(sbj_list=PNAS2015_subject_list, check_availability=False, verbose=False, wls=wls, wss=wss, ms=[2,3])\n",
    "    \n",
    "    si_TSNE = pd.concat([si_TSNE_scans, si_TSNE_all, si_TSNE_procrustes])\n",
    "    si_TSNE.replace('Window Name','Task', inplace=True)\n",
    "    si_TSNE = si_TSNE.set_index(['Subject','Input Data','Norm','Metric','PP','m','Alpha','Init','Target']).sort_index()\n",
    "    del si_TSNE_scans, si_TSNE_all, si_TSNE_procrustes\n",
    "    \n",
    "    si_TSNE.to_pickle(osp.join(PRJ_DIR,'Dashboard','Data','si_TSNE.pkl'))\n",
    "else:\n",
    "    si_TSNE = pd.read_pickle(osp.join(PRJ_DIR,'Dashboard','Data','si_TSNE.pkl'))"
   ]
  },
  {
   "cell_type": "markdown",
   "id": "39c772c3-4b6e-4e0e-be80-65fffdb6457b",
   "metadata": {},
   "source": [
    "***\n",
    "# Scan-Level"
   ]
  },
  {
   "cell_type": "code",
   "execution_count": 7,
   "id": "5473a3fd-bdd3-4e6b-84e7-0a8088ef5742",
   "metadata": {
    "scrolled": true,
    "tags": []
   },
   "outputs": [
    {
     "name": "stdout",
     "output_type": "stream",
     "text": [
      "++ INFO: Created folder /data/SFIMJGC_HCP7T/manifold_learning_fmri/Data_Interim/PNAS2015/SBJ06/Classification/SWC/Original\n",
      "++ INFO: Created folder /data/SFIMJGC_HCP7T/manifold_learning_fmri/Data_Interim/PNAS2015/SBJ06/Classification/SWC/Null_ConnRand\n",
      "++ INFO: Created folder /data/SFIMJGC_HCP7T/manifold_learning_fmri/Data_Interim/PNAS2015/SBJ06/Classification/SWC/Null_PhaseRand\n",
      "++ INFO: Created folder /data/SFIMJGC_HCP7T/manifold_learning_fmri/Data_Interim/PNAS2015/SBJ07/Classification/SWC/Original\n",
      "++ INFO: Created folder /data/SFIMJGC_HCP7T/manifold_learning_fmri/Data_Interim/PNAS2015/SBJ07/Classification/SWC/Null_ConnRand\n",
      "++ INFO: Created folder /data/SFIMJGC_HCP7T/manifold_learning_fmri/Data_Interim/PNAS2015/SBJ07/Classification/SWC/Null_PhaseRand\n",
      "++ INFO: Created folder /data/SFIMJGC_HCP7T/manifold_learning_fmri/Data_Interim/PNAS2015/SBJ08/Classification/SWC/Original\n",
      "++ INFO: Created folder /data/SFIMJGC_HCP7T/manifold_learning_fmri/Data_Interim/PNAS2015/SBJ08/Classification/SWC/Null_ConnRand\n",
      "++ INFO: Created folder /data/SFIMJGC_HCP7T/manifold_learning_fmri/Data_Interim/PNAS2015/SBJ08/Classification/SWC/Null_PhaseRand\n",
      "++ INFO: Created folder /data/SFIMJGC_HCP7T/manifold_learning_fmri/Data_Interim/PNAS2015/SBJ09/Classification/SWC/Original\n",
      "++ INFO: Created folder /data/SFIMJGC_HCP7T/manifold_learning_fmri/Data_Interim/PNAS2015/SBJ09/Classification/SWC/Null_ConnRand\n",
      "++ INFO: Created folder /data/SFIMJGC_HCP7T/manifold_learning_fmri/Data_Interim/PNAS2015/SBJ09/Classification/SWC/Null_PhaseRand\n",
      "++ INFO: Created folder /data/SFIMJGC_HCP7T/manifold_learning_fmri/Data_Interim/PNAS2015/SBJ10/Classification/SWC/Original\n",
      "++ INFO: Created folder /data/SFIMJGC_HCP7T/manifold_learning_fmri/Data_Interim/PNAS2015/SBJ10/Classification/SWC/Null_ConnRand\n",
      "++ INFO: Created folder /data/SFIMJGC_HCP7T/manifold_learning_fmri/Data_Interim/PNAS2015/SBJ10/Classification/SWC/Null_PhaseRand\n",
      "++ INFO: Created folder /data/SFIMJGC_HCP7T/manifold_learning_fmri/Data_Interim/PNAS2015/SBJ11/Classification/SWC/Original\n",
      "++ INFO: Created folder /data/SFIMJGC_HCP7T/manifold_learning_fmri/Data_Interim/PNAS2015/SBJ11/Classification/SWC/Null_ConnRand\n",
      "++ INFO: Created folder /data/SFIMJGC_HCP7T/manifold_learning_fmri/Data_Interim/PNAS2015/SBJ11/Classification/SWC/Null_PhaseRand\n",
      "++ INFO: Created folder /data/SFIMJGC_HCP7T/manifold_learning_fmri/Data_Interim/PNAS2015/SBJ12/Classification/SWC/Original\n",
      "++ INFO: Created folder /data/SFIMJGC_HCP7T/manifold_learning_fmri/Data_Interim/PNAS2015/SBJ12/Classification/SWC/Null_ConnRand\n",
      "++ INFO: Created folder /data/SFIMJGC_HCP7T/manifold_learning_fmri/Data_Interim/PNAS2015/SBJ12/Classification/SWC/Null_PhaseRand\n",
      "++ INFO: Created folder /data/SFIMJGC_HCP7T/manifold_learning_fmri/Data_Interim/PNAS2015/SBJ13/Classification/SWC/Original\n",
      "++ INFO: Created folder /data/SFIMJGC_HCP7T/manifold_learning_fmri/Data_Interim/PNAS2015/SBJ13/Classification/SWC/Null_ConnRand\n",
      "++ INFO: Created folder /data/SFIMJGC_HCP7T/manifold_learning_fmri/Data_Interim/PNAS2015/SBJ13/Classification/SWC/Null_PhaseRand\n",
      "++ INFO: Created folder /data/SFIMJGC_HCP7T/manifold_learning_fmri/Data_Interim/PNAS2015/SBJ16/Classification/SWC/Original\n",
      "++ INFO: Created folder /data/SFIMJGC_HCP7T/manifold_learning_fmri/Data_Interim/PNAS2015/SBJ16/Classification/SWC/Null_ConnRand\n",
      "++ INFO: Created folder /data/SFIMJGC_HCP7T/manifold_learning_fmri/Data_Interim/PNAS2015/SBJ16/Classification/SWC/Null_PhaseRand\n",
      "++ INFO: Created folder /data/SFIMJGC_HCP7T/manifold_learning_fmri/Data_Interim/PNAS2015/SBJ17/Classification/SWC/Original\n",
      "++ INFO: Created folder /data/SFIMJGC_HCP7T/manifold_learning_fmri/Data_Interim/PNAS2015/SBJ17/Classification/SWC/Null_ConnRand\n",
      "++ INFO: Created folder /data/SFIMJGC_HCP7T/manifold_learning_fmri/Data_Interim/PNAS2015/SBJ17/Classification/SWC/Null_PhaseRand\n",
      "++ INFO: Created folder /data/SFIMJGC_HCP7T/manifold_learning_fmri/Data_Interim/PNAS2015/SBJ18/Classification/SWC/Original\n",
      "++ INFO: Created folder /data/SFIMJGC_HCP7T/manifold_learning_fmri/Data_Interim/PNAS2015/SBJ18/Classification/SWC/Null_ConnRand\n",
      "++ INFO: Created folder /data/SFIMJGC_HCP7T/manifold_learning_fmri/Data_Interim/PNAS2015/SBJ18/Classification/SWC/Null_PhaseRand\n",
      "++ INFO: Created folder /data/SFIMJGC_HCP7T/manifold_learning_fmri/Data_Interim/PNAS2015/SBJ19/Classification/SWC/Original\n",
      "++ INFO: Created folder /data/SFIMJGC_HCP7T/manifold_learning_fmri/Data_Interim/PNAS2015/SBJ19/Classification/SWC/Null_ConnRand\n",
      "++ INFO: Created folder /data/SFIMJGC_HCP7T/manifold_learning_fmri/Data_Interim/PNAS2015/SBJ19/Classification/SWC/Null_PhaseRand\n",
      "++ INFO: Created folder /data/SFIMJGC_HCP7T/manifold_learning_fmri/Data_Interim/PNAS2015/SBJ20/Classification/SWC/Original\n",
      "++ INFO: Created folder /data/SFIMJGC_HCP7T/manifold_learning_fmri/Data_Interim/PNAS2015/SBJ20/Classification/SWC/Null_ConnRand\n",
      "++ INFO: Created folder /data/SFIMJGC_HCP7T/manifold_learning_fmri/Data_Interim/PNAS2015/SBJ20/Classification/SWC/Null_PhaseRand\n",
      "++ INFO: Created folder /data/SFIMJGC_HCP7T/manifold_learning_fmri/Data_Interim/PNAS2015/SBJ21/Classification/SWC/Original\n",
      "++ INFO: Created folder /data/SFIMJGC_HCP7T/manifold_learning_fmri/Data_Interim/PNAS2015/SBJ21/Classification/SWC/Null_ConnRand\n",
      "++ INFO: Created folder /data/SFIMJGC_HCP7T/manifold_learning_fmri/Data_Interim/PNAS2015/SBJ21/Classification/SWC/Null_PhaseRand\n",
      "++ INFO: Created folder /data/SFIMJGC_HCP7T/manifold_learning_fmri/Data_Interim/PNAS2015/SBJ22/Classification/SWC/Original\n",
      "++ INFO: Created folder /data/SFIMJGC_HCP7T/manifold_learning_fmri/Data_Interim/PNAS2015/SBJ22/Classification/SWC/Null_ConnRand\n",
      "++ INFO: Created folder /data/SFIMJGC_HCP7T/manifold_learning_fmri/Data_Interim/PNAS2015/SBJ22/Classification/SWC/Null_PhaseRand\n",
      "++ INFO: Created folder /data/SFIMJGC_HCP7T/manifold_learning_fmri/Data_Interim/PNAS2015/SBJ23/Classification/SWC/Original\n",
      "++ INFO: Created folder /data/SFIMJGC_HCP7T/manifold_learning_fmri/Data_Interim/PNAS2015/SBJ23/Classification/SWC/Null_ConnRand\n",
      "++ INFO: Created folder /data/SFIMJGC_HCP7T/manifold_learning_fmri/Data_Interim/PNAS2015/SBJ23/Classification/SWC/Null_PhaseRand\n",
      "++ INFO: Created folder /data/SFIMJGC_HCP7T/manifold_learning_fmri/Data_Interim/PNAS2015/SBJ24/Classification/SWC/Original\n",
      "++ INFO: Created folder /data/SFIMJGC_HCP7T/manifold_learning_fmri/Data_Interim/PNAS2015/SBJ24/Classification/SWC/Null_ConnRand\n",
      "++ INFO: Created folder /data/SFIMJGC_HCP7T/manifold_learning_fmri/Data_Interim/PNAS2015/SBJ24/Classification/SWC/Null_PhaseRand\n",
      "++ INFO: Created folder /data/SFIMJGC_HCP7T/manifold_learning_fmri/Data_Interim/PNAS2015/SBJ25/Classification/SWC/Original\n",
      "++ INFO: Created folder /data/SFIMJGC_HCP7T/manifold_learning_fmri/Data_Interim/PNAS2015/SBJ25/Classification/SWC/Null_ConnRand\n",
      "++ INFO: Created folder /data/SFIMJGC_HCP7T/manifold_learning_fmri/Data_Interim/PNAS2015/SBJ25/Classification/SWC/Null_PhaseRand\n",
      "++ INFO: Created folder /data/SFIMJGC_HCP7T/manifold_learning_fmri/Data_Interim/PNAS2015/SBJ26/Classification/SWC/Original\n",
      "++ INFO: Created folder /data/SFIMJGC_HCP7T/manifold_learning_fmri/Data_Interim/PNAS2015/SBJ26/Classification/SWC/Null_ConnRand\n",
      "++ INFO: Created folder /data/SFIMJGC_HCP7T/manifold_learning_fmri/Data_Interim/PNAS2015/SBJ26/Classification/SWC/Null_PhaseRand\n",
      "++ INFO: Created folder /data/SFIMJGC_HCP7T/manifold_learning_fmri/Data_Interim/PNAS2015/SBJ27/Classification/SWC/Original\n",
      "++ INFO: Created folder /data/SFIMJGC_HCP7T/manifold_learning_fmri/Data_Interim/PNAS2015/SBJ27/Classification/SWC/Null_ConnRand\n",
      "++ INFO: Created folder /data/SFIMJGC_HCP7T/manifold_learning_fmri/Data_Interim/PNAS2015/SBJ27/Classification/SWC/Null_PhaseRand\n"
     ]
    }
   ],
   "source": [
    "# Create Output Folders if they do not exists\n",
    "for sbj in PNAS2015_subject_list:\n",
    "    for emb_tech in ['LE','TSNE','UMAP','SWC']:\n",
    "        for input_data in input_datas:\n",
    "            path = osp.join(PRJ_DIR,'Data_Interim','PNAS2015',sbj,'Classification',emb_tech,input_data)\n",
    "            if not osp.exists(path):\n",
    "                print('++ INFO: Created folder %s' % path)\n",
    "                os.makedirs(path)"
   ]
  },
  {
   "cell_type": "markdown",
   "id": "f769c3b6-f8bf-4b95-8d31-91cea53d526d",
   "metadata": {},
   "source": [
    "## Scan-Level - Laplacian EigenMaps"
   ]
  },
  {
   "cell_type": "code",
   "execution_count": 4,
   "id": "d9f17a6c-150e-4ab3-bd69-18a03e11a8e8",
   "metadata": {},
   "outputs": [
    {
     "name": "stdout",
     "output_type": "stream",
     "text": [
      "++ INFO: user working now --> javiergc\n",
      "++ INFO: Swarm File  : /data/SFIMJGC_HCP7T/manifold_learning_fmri/SwarmFiles.javiergc/N15_Classify_ScanLevel_LE.SWARM.sh\n",
      "++ INFO: Logs Folder : /data/SFIMJGC_HCP7T/manifold_learning_fmri/Logs.javiergc/N15_Classify_ScanLevel_LE.logs\n"
     ]
    }
   ],
   "source": [
    "#user specific folders\n",
    "#=====================\n",
    "username = getpass.getuser()\n",
    "print('++ INFO: user working now --> %s' % username)\n",
    "\n",
    "swarm_folder   = osp.join(PRJ_DIR,'SwarmFiles.{username}'.format(username=username))\n",
    "logs_folder    = osp.join(PRJ_DIR,'Logs.{username}'.format(username=username))  \n",
    "\n",
    "swarm_path     = osp.join(swarm_folder,'N15_Classify_ScanLevel_LE.SWARM.sh')\n",
    "logdir_path    = osp.join(logs_folder, 'N15_Classify_ScanLevel_LE.logs')\n",
    "\n",
    "if not osp.exists(swarm_folder):\n",
    "    os.makedirs(swarm_folder)\n",
    "if not osp.exists(logdir_path):\n",
    "    os.makedirs(logdir_path)\n",
    "print('++ INFO: Swarm File  : %s' % swarm_path)\n",
    "print('++ INFO: Logs Folder : %s' % logdir_path)"
   ]
  },
  {
   "cell_type": "code",
   "execution_count": 6,
   "id": "9fe535ed-7e9d-4f7a-a87c-1cdafcd526ee",
   "metadata": {},
   "outputs": [
    {
     "name": "stdout",
     "output_type": "stream",
     "text": [
      "++ INFO: Scenario selected for classification: [nm=zscored, dist=correlation, knn=75]\n"
     ]
    }
   ],
   "source": [
    "input_data = 'Original' \n",
    "_,best_nm, best_dist, best_knn, _, _ = si_LE.loc[PNAS2015_subject_list,input_data,:,:,:,:,'Task'].to_xarray().mean(dim='Subject').to_dataframe().sort_values(by='SI',ascending=False).iloc[0].name\n",
    "print('++ INFO: Scenario selected for classification: [nm=%s, dist=%s, knn=%d]' % (best_nm, best_dist, best_knn))"
   ]
  },
  {
   "cell_type": "code",
   "execution_count": 7,
   "id": "cd659e38-9e02-4031-82b2-7678a2db7756",
   "metadata": {},
   "outputs": [],
   "source": [
    "# Open the file\n",
    "swarm_file = open(swarm_path, \"w\")\n",
    "# Log the date and time when the SWARM file is created\n",
    "swarm_file.write('#Create Time: %s' % datetime.now().strftime(\"%d/%m/%Y %H:%M:%S\"))\n",
    "swarm_file.write('\\n')\n",
    "\n",
    "# Insert comment line with SWARM command\n",
    "swarm_file.write('#swarm -J Classify_Scan -f {swarm_path} -b 20 -g 8 -t 8 --time 00:10:00 --partition quick,norm --logdir {logdir_path}'.format(swarm_path=swarm_path,logdir_path=logdir_path))\n",
    "swarm_file.write('\\n')\n",
    "\n",
    "for sbj in PNAS2015_subject_list:\n",
    "    for input_data in input_datas:\n",
    "        for clf in 'logisticregression','svc':\n",
    "            for m in [2,3,5,10,15,20,25]:\n",
    "                features = ','.join(['LE'+str(i+1).zfill(3) for i in range(m)])\n",
    "                input_path = osp.join(PRJ_DIR,'Data_Interim','PNAS2015',sbj,'LE',input_data,'{sbj}_Craddock_0200.WL{wls}s.WS{wss}s.LE_{dist}_k{knn}_m0030.{nm}.pkl'.format(nm=best_nm,dist=best_dist,knn=str(best_knn).zfill(4),\n",
    "                                                                                                                                                   sbj=sbj,\n",
    "                                                                                                                                                   wls=str(int(wls)).zfill(3), \n",
    "                                                                                                                                                   wss=str(wss)))\n",
    "                output_path = osp.join(PRJ_DIR,'Data_Interim','PNAS2015',sbj,'Classification','LE',input_data,'{sbj}_Craddock_0200.WL{wls}s.WS{wss}s.LE_{dist}_k{knn}_m{m}.{nm}.clf_results.{clf}_WindowName.pkl'.format(nm=best_nm,dist=best_dist,knn=str(best_knn).zfill(4),\n",
    "                                                                                                                                                   sbj=sbj,clf=clf,\n",
    "                                                                                                                                                   wls=str(int(wls)).zfill(3),m=str(m).zfill(4),\n",
    "                                                                                                                                                   wss=str(wss)))\n",
    "                                        \n",
    "                swarm_file.write(\"export input_path={input_path}  output_path={output_path} clf={clf} pid='Window Name' features='{features}' n_jobs=8; sh {scripts_dir}/N15_Classify.sh\".format(\n",
    "                       input_path = input_path, output_path=output_path, clf=clf, features=features,\n",
    "                       scripts_dir=osp.join(PRJ_DIR,'Notebooks')))\n",
    "                swarm_file.write('\\n')\n",
    "swarm_file.close()"
   ]
  },
  {
   "cell_type": "markdown",
   "id": "4dfab262-c6db-49ed-aa58-07f32929b2fc",
   "metadata": {},
   "source": [
    "## Scan-Level - UMAP"
   ]
  },
  {
   "cell_type": "code",
   "execution_count": 15,
   "id": "363fab64-9b88-46e1-8c42-99203e827663",
   "metadata": {},
   "outputs": [],
   "source": [
    "#min_dist = 0.8\n",
    "#init_method = 'spectral'"
   ]
  },
  {
   "cell_type": "code",
   "execution_count": 20,
   "id": "c11381ad-dc1c-4080-883a-1b208d9b73dc",
   "metadata": {},
   "outputs": [
    {
     "name": "stdout",
     "output_type": "stream",
     "text": [
      "++ INFO: Scenario selected for classification: [nm=asis, dist=euclidean, knn=70, alpha=0.010000]\n"
     ]
    }
   ],
   "source": [
    "_, umap_best_norm_method, _, _, umap_best_dist, umap_best_knn, umap_best_alpha, _ , _ = si_UMAP.loc[PNAS2015_subject_list,'Original',:,:,:,:,:,:,:,'Task'].to_xarray().mean(dim='Subject').to_dataframe().sort_values(by='SI',ascending=False).iloc[0].name\n",
    "print('++ INFO: Scenario selected for classification: [nm=%s, dist=%s, knn=%d, alpha=%f]' % (umap_best_norm_method, umap_best_dist, umap_best_knn,umap_best_alpha ))"
   ]
  },
  {
   "cell_type": "code",
   "execution_count": 18,
   "id": "4dc2fca3-49f7-4106-b314-4a7e2eadb47e",
   "metadata": {},
   "outputs": [
    {
     "name": "stdout",
     "output_type": "stream",
     "text": [
      "++ INFO: user working now --> javiergc\n",
      "++ INFO: Swarm File  : /data/SFIMJGC_HCP7T/manifold_learning_fmri/SwarmFiles.javiergc/N15_Classify_ScanLevel_UMAP.SWARM.sh\n",
      "++ INFO: Logs Folder : /data/SFIMJGC_HCP7T/manifold_learning_fmri/Logs.javiergc/N15_Classify_ScanLevel_UMAP.logs\n"
     ]
    }
   ],
   "source": [
    "#user specific folders\n",
    "#=====================\n",
    "username = getpass.getuser()\n",
    "print('++ INFO: user working now --> %s' % username)\n",
    "\n",
    "swarm_folder   = osp.join(PRJ_DIR,'SwarmFiles.{username}'.format(username=username))\n",
    "logs_folder    = osp.join(PRJ_DIR,'Logs.{username}'.format(username=username))  \n",
    "\n",
    "swarm_path     = osp.join(swarm_folder,'N15_Classify_ScanLevel_UMAP.SWARM.sh')\n",
    "logdir_path    = osp.join(logs_folder, 'N15_Classify_ScanLevel_UMAP.logs')\n",
    "\n",
    "if not osp.exists(swarm_folder):\n",
    "    os.makedirs(swarm_folder)\n",
    "if not osp.exists(logdir_path):\n",
    "    os.makedirs(logdir_path)\n",
    "print('++ INFO: Swarm File  : %s' % swarm_path)\n",
    "print('++ INFO: Logs Folder : %s' % logdir_path)"
   ]
  },
  {
   "cell_type": "code",
   "execution_count": 19,
   "id": "98c26036-4abf-4ded-ad1b-1cfe4a7f21f4",
   "metadata": {},
   "outputs": [],
   "source": [
    "# Open the file\n",
    "swarm_file = open(swarm_path, \"w\")\n",
    "# Log the date and time when the SWARM file is created\n",
    "swarm_file.write('#Create Time: %s' % datetime.now().strftime(\"%d/%m/%Y %H:%M:%S\"))\n",
    "swarm_file.write('\\n')\n",
    "\n",
    "# Insert comment line with SWARM command\n",
    "swarm_file.write('#swarm -J Classify_Scan_UMAP -f {swarm_path} -b 20 -g 8 -t 8 --time 00:10:00 --partition quick,norm --logdir {logdir_path}'.format(swarm_path=swarm_path,logdir_path=logdir_path))\n",
    "swarm_file.write('\\n')\n",
    "\n",
    "for sbj in PNAS2015_subject_list:\n",
    "    for input_data in input_datas:\n",
    "        for clf in 'logisticregression','svc':\n",
    "            for m in [2,3,5,10,15,20,25]:\n",
    "                features = ','.join(['UMAP'+str(i+1).zfill(3) for i in range(m)])\n",
    "                input_path = osp.join(PRJ_DIR,'Data_Interim','PNAS2015',sbj,'UMAP',input_data,'{sbj}_Craddock_0200.WL{wls}s.WS{wss}s.UMAP_{dist}_k{knn}_m{m}_md{min_dist}_a{alpha}_{init_method}.{nm}.pkl'.format(sbj=sbj,\n",
    "                                                                                                                                                   wls=str(int(wls)).zfill(3), \n",
    "                                                                                                                                                   wss=str(wss),\n",
    "                                                                                                                                                   dist=umap_best_dist,\n",
    "                                                                                                                                                   knn=str(umap_best_knn).zfill(4),\n",
    "                                                                                                                                                   m=str(m).zfill(4),\n",
    "                                                                                                                                                   min_dist=str(min_dist),\n",
    "                                                                                                                                                   init_method=init_method,\n",
    "                                                                                                                                                   nm=umap_best_norm_method,\n",
    "                                                                                                                                                   alpha=str(umap_best_alpha)))\n",
    "                output_path = osp.join(PRJ_DIR,'Data_Interim','PNAS2015',sbj,'Classification','UMAP',input_data,'{sbj}_Craddock_0200.WL{wls}s.WS{wss}s.UMAP_{dist}_k{knn}_m{m}_md{min_dist}_a{alpha}_{init_method}.{nm}.clf_results.{clf}_WindowName.pkl'.format(sbj=sbj,\n",
    "                                                                                                                                                   wls=str(int(wls)).zfill(3), clf=clf,\n",
    "                                                                                                                                                   wss=str(wss),\n",
    "                                                                                                                                                   dist=umap_best_dist,\n",
    "                                                                                                                                                   knn=str(umap_best_knn).zfill(4),\n",
    "                                                                                                                                                   m=str(m).zfill(4),\n",
    "                                                                                                                                                   min_dist=str(min_dist),\n",
    "                                                                                                                                                   init_method=init_method,\n",
    "                                                                                                                                                   nm=umap_best_norm_method,\n",
    "                                                                                                                                                   alpha=str(umap_best_alpha)))                                        \n",
    "                swarm_file.write(\"export input_path={input_path}  output_path={output_path} clf={clf} pid='Window Name' features='{features}' n_jobs=8; sh {scripts_dir}/N15_Classify.sh\".format(\n",
    "                       input_path = input_path, output_path=output_path, clf=clf, features=features,\n",
    "                       scripts_dir=osp.join(PRJ_DIR,'Notebooks')))\n",
    "                swarm_file.write('\\n')\n",
    "swarm_file.close()"
   ]
  },
  {
   "cell_type": "markdown",
   "id": "3be69afd-8e23-4c71-9a50-627218056be6",
   "metadata": {},
   "source": [
    "# Scan Level - TSNE"
   ]
  },
  {
   "cell_type": "code",
   "execution_count": 25,
   "id": "771cc14f-92bc-470d-a8b3-3a04aec9521f",
   "metadata": {},
   "outputs": [],
   "source": [
    "#init_method = 'pca'"
   ]
  },
  {
   "cell_type": "code",
   "execution_count": 27,
   "id": "7acc8493-0af7-48f6-938a-74a1ceace231",
   "metadata": {},
   "outputs": [
    {
     "name": "stdout",
     "output_type": "stream",
     "text": [
      "++ INFO: Best scan-level configuration --> NM=asis, DIST=correlation, PP=70, ALPHA=10.000000\n"
     ]
    }
   ],
   "source": [
    "_,tsne_best_norm_method,tsne_best_dist, tsne_best_pp, _, tsne_best_alpha,_,_ = si_TSNE.loc[PNAS2015_subject_list,'Original',:,:,:,:,:,:,'Task'].to_xarray().mean(dim='Subject').to_dataframe().sort_values(by='SI',ascending=False).iloc[0].name\n",
    "print('++ INFO: Best scan-level configuration --> NM=%s, DIST=%s, PP=%d, ALPHA=%f' % (tsne_best_norm_method,tsne_best_dist, tsne_best_pp, tsne_best_alpha))"
   ]
  },
  {
   "cell_type": "code",
   "execution_count": 28,
   "id": "7dbe8a39-7914-47e0-a64f-9e815a31b80f",
   "metadata": {},
   "outputs": [
    {
     "name": "stdout",
     "output_type": "stream",
     "text": [
      "++ INFO: user working now --> javiergc\n",
      "++ INFO: Swarm File  : /data/SFIMJGC_HCP7T/manifold_learning_fmri/SwarmFiles.javiergc/N15_Classify_ScanLevel_TSNE.SWARM.sh\n",
      "++ INFO: Logs Folder : /data/SFIMJGC_HCP7T/manifold_learning_fmri/Logs.javiergc/N15_Classify_ScanLevel_TSNE.logs\n"
     ]
    }
   ],
   "source": [
    "#user specific folders\n",
    "#=====================\n",
    "username = getpass.getuser()\n",
    "print('++ INFO: user working now --> %s' % username)\n",
    "\n",
    "swarm_folder   = osp.join(PRJ_DIR,'SwarmFiles.{username}'.format(username=username))\n",
    "logs_folder    = osp.join(PRJ_DIR,'Logs.{username}'.format(username=username))  \n",
    "\n",
    "swarm_path     = osp.join(swarm_folder,'N15_Classify_ScanLevel_TSNE.SWARM.sh')\n",
    "logdir_path    = osp.join(logs_folder, 'N15_Classify_ScanLevel_TSNE.logs')\n",
    "\n",
    "if not osp.exists(swarm_folder):\n",
    "    os.makedirs(swarm_folder)\n",
    "if not osp.exists(logdir_path):\n",
    "    os.makedirs(logdir_path)\n",
    "print('++ INFO: Swarm File  : %s' % swarm_path)\n",
    "print('++ INFO: Logs Folder : %s' % logdir_path)"
   ]
  },
  {
   "cell_type": "code",
   "execution_count": 29,
   "id": "205c10c1-60af-4513-98eb-3fd0732c49ef",
   "metadata": {},
   "outputs": [],
   "source": [
    "# Open the file\n",
    "swarm_file = open(swarm_path, \"w\")\n",
    "# Log the date and time when the SWARM file is created\n",
    "swarm_file.write('#Create Time: %s' % datetime.now().strftime(\"%d/%m/%Y %H:%M:%S\"))\n",
    "swarm_file.write('\\n')\n",
    "\n",
    "# Insert comment line with SWARM command\n",
    "swarm_file.write('#swarm -J Classify_Scan_TSNE -f {swarm_path} -b 20 -g 8 -t 8 --time 00:10:00 --partition quick,norm --logdir {logdir_path}'.format(swarm_path=swarm_path,logdir_path=logdir_path))\n",
    "swarm_file.write('\\n')\n",
    "\n",
    "for sbj in PNAS2015_subject_list:\n",
    "    for input_data in input_datas:\n",
    "        for clf in 'logisticregression','svc':\n",
    "            for m in [2,3,5,10,15,20,25]:\n",
    "                features   = ','.join(['TSNE'+str(i+1).zfill(3) for i in range(m)])\n",
    "                input_path = osp.join(PRJ_DIR,'Data_Interim','PNAS2015',sbj,'TSNE',input_data,'{sbj}_Craddock_0200.WL{wls}s.WS{wss}s.TSNE_{dist}_pp{pp}_m{m}_a{lr}_{init_method}.{nm}.pkl'.format(sbj=sbj,\n",
    "                                                                                                                                                   nm = tsne_best_norm_method,\n",
    "                                                                                                                                                   wls=str(int(wls)).zfill(3), \n",
    "                                                                                                                                                   wss=str(wss),\n",
    "                                                                                                                                                   init_method=init_method,\n",
    "                                                                                                                                                   dist=tsne_best_dist,\n",
    "                                                                                                                                                   pp=str(tsne_best_pp).zfill(4),\n",
    "                                                                                                                                                   m=str(m).zfill(4),\n",
    "                                                                                                                                                   lr=str(tsne_best_alpha)))\n",
    "                output_path = osp.join(PRJ_DIR,'Data_Interim','PNAS2015',sbj,'Classification','TSNE',input_data,'{sbj}_Craddock_0200.WL{wls}s.WS{wss}s.TSNE_{dist}_pp{pp}_m{m}_a{lr}_{init_method}.{nm}.clf_results.{clf}_WindowName.pkl'.format(sbj=sbj,\n",
    "                                                                                                                                                   nm = tsne_best_norm_method,clf=clf,\n",
    "                                                                                                                                                   wls=str(int(wls)).zfill(3), \n",
    "                                                                                                                                                   wss=str(wss),\n",
    "                                                                                                                                                   init_method=init_method,\n",
    "                                                                                                                                                   dist=tsne_best_dist,\n",
    "                                                                                                                                                   pp=str(tsne_best_pp).zfill(4),\n",
    "                                                                                                                                                   m=str(m).zfill(4),\n",
    "                                                                                                                                                   lr=str(tsne_best_alpha)))                                 \n",
    "                swarm_file.write(\"export input_path={input_path}  output_path={output_path} clf={clf} pid='Window Name' features='{features}' n_jobs=8; sh {scripts_dir}/N15_Classify.sh\".format(\n",
    "                       input_path = input_path, output_path=output_path, clf=clf, features=features,\n",
    "                       scripts_dir=osp.join(PRJ_DIR,'Notebooks')))\n",
    "                swarm_file.write('\\n')\n",
    "swarm_file.close()"
   ]
  },
  {
   "cell_type": "markdown",
   "id": "4eaad686-69fb-4d7d-a791-6facc841e34f",
   "metadata": {},
   "source": [
    "***\n",
    "# Scan Level - SWC Directly"
   ]
  },
  {
   "cell_type": "code",
   "execution_count": 11,
   "id": "78d99390-da4b-418e-8c38-07f58b361f0a",
   "metadata": {},
   "outputs": [
    {
     "name": "stdout",
     "output_type": "stream",
     "text": [
      "++ INFO: user working now --> javiergc\n",
      "++ INFO: Swarm File  : /data/SFIMJGC_HCP7T/manifold_learning_fmri/SwarmFiles.javiergc/N15_Classify_ScanLevel_SWC.SWARM.sh\n",
      "++ INFO: Logs Folder : /data/SFIMJGC_HCP7T/manifold_learning_fmri/Logs.javiergc/N15_Classify_ScanLevel_SWC.logs\n"
     ]
    }
   ],
   "source": [
    "#user specific folders\n",
    "#=====================\n",
    "username = getpass.getuser()\n",
    "print('++ INFO: user working now --> %s' % username)\n",
    "\n",
    "swarm_folder   = osp.join(PRJ_DIR,'SwarmFiles.{username}'.format(username=username))\n",
    "logs_folder    = osp.join(PRJ_DIR,'Logs.{username}'.format(username=username))  \n",
    "\n",
    "swarm_path     = osp.join(swarm_folder,'N15_Classify_ScanLevel_SWC.SWARM.sh')\n",
    "logdir_path    = osp.join(logs_folder, 'N15_Classify_ScanLevel_SWC.logs')\n",
    "\n",
    "if not osp.exists(swarm_folder):\n",
    "    os.makedirs(swarm_folder)\n",
    "if not osp.exists(logdir_path):\n",
    "    os.makedirs(logdir_path)\n",
    "print('++ INFO: Swarm File  : %s' % swarm_path)\n",
    "print('++ INFO: Logs Folder : %s' % logdir_path)"
   ]
  },
  {
   "cell_type": "code",
   "execution_count": 17,
   "id": "6a3e9377-c8c2-4db9-b33f-65a657e54cde",
   "metadata": {},
   "outputs": [],
   "source": [
    "# Open the file\n",
    "swarm_file = open(swarm_path, \"w\")\n",
    "# Log the date and time when the SWARM file is created\n",
    "swarm_file.write('#Create Time: %s' % datetime.now().strftime(\"%d/%m/%Y %H:%M:%S\"))\n",
    "swarm_file.write('\\n')\n",
    "\n",
    "# Insert comment line with SWARM command\n",
    "swarm_file.write('#swarm -J Classify_Scan_SWC -f {swarm_path} -b 5 -g 8 -t 8 --time 00:10:00 --partition quick,norm --logdir {logdir_path}'.format(swarm_path=swarm_path,logdir_path=logdir_path))\n",
    "swarm_file.write('\\n')\n",
    "\n",
    "for sbj in PNAS2015_subject_list:\n",
    "    for input_data in input_datas:\n",
    "        for norm_method in ['asis','zscored']:\n",
    "            for mat_type in ['Z','R']:\n",
    "                for clf in 'logisticregression','svc':\n",
    "                        features   = 'All_Connections'\n",
    "                        input_path = osp.join(PRJ_DIR,'Data_Interim','PNAS2015',sbj,input_data,'{sbj}_Craddock_0200.WL{wls}s.WS{wss}s.tvFC.{mat_type}.{nm}.pkl'.format(sbj=sbj,\n",
    "                                                                                                                                                               nm = norm_method,\n",
    "                                                                                                                                                               wls=str(int(wls)).zfill(3), \n",
    "                                                                                                                                                               wss=str(wss),\n",
    "                                                                                                                                                               mat_type=mat_type))\n",
    "                        output_path = osp.join(PRJ_DIR,'Data_Interim','PNAS2015',sbj,'Classification','SWC',input_data,'{sbj}_Craddock_0200.WL{wls}s.WS{wss}s.tvFC.{mat_type}.{nm}.clf_results.{clf}_WindowName.pkl'.format(sbj=sbj,\n",
    "                                                                                                                                                               nm = norm_method,\n",
    "                                                                                                                                                               wls=str(int(wls)).zfill(3), \n",
    "                                                                                                                                                               wss=str(wss),\n",
    "                                                                                                                                                               mat_type=mat_type,\n",
    "                                                                                                                                                               clf=clf))                   \n",
    "                        swarm_file.write(\"export input_path={input_path}  output_path={output_path} clf={clf} pid='Window Name' features='{features}' n_jobs=8; sh {scripts_dir}/N15_Classify.sh\".format(\n",
    "                               input_path = input_path, output_path=output_path, clf=clf, features=features,\n",
    "                               scripts_dir=osp.join(PRJ_DIR,'Notebooks')))\n",
    "                        swarm_file.write('\\n')\n",
    "swarm_file.close()"
   ]
  }
 ],
 "metadata": {
  "jupytext": {
   "formats": "ipynb,auto:light"
  },
  "kernelspec": {
   "display_name": "opentsne",
   "language": "python",
   "name": "opentsne"
  },
  "language_info": {
   "codemirror_mode": {
    "name": "ipython",
    "version": 3
   },
   "file_extension": ".py",
   "mimetype": "text/x-python",
   "name": "python",
   "nbconvert_exporter": "python",
   "pygments_lexer": "ipython3",
   "version": "3.7.13"
  }
 },
 "nbformat": 4,
 "nbformat_minor": 5
}
