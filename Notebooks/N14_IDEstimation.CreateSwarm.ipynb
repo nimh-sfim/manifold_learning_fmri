{
 "cells": [
  {
   "cell_type": "markdown",
   "id": "29a5db6b-2c27-462d-b449-e6a4e2f27129",
   "metadata": {},
   "source": [
    "# Description\n",
    "\n",
    "This notebook will compute sliding window correlation matrices for the 20 subjects in the multi-task dataset.\n",
    "\n",
    "Initially, we are only working with WL = 45s and WS = 1.5s.\n",
    "\n",
    "Matrices will be written as pandas pickle objects in ```/data/SFIMJGC_HCP7T/manifold_learning/Data_Interim/PNAS2015```"
   ]
  },
  {
   "cell_type": "code",
   "execution_count": 1,
   "id": "a8f1fa0a-8e60-42d5-8135-51e60e719984",
   "metadata": {},
   "outputs": [],
   "source": [
    "import pandas as pd\n",
    "import numpy as np\n",
    "import os\n",
    "import os.path as osp\n",
    "import getpass\n",
    "from datetime import datetime\n",
    "from tqdm.notebook import tqdm\n",
    "from utils.basics import PNAS2015_subject_list, PNAS2015_folder, PNAS2015_roi_names_path, PNAS2015_win_names_paths, PRJ_DIR, input_datas, norm_methods"
   ]
  },
  {
   "cell_type": "markdown",
   "id": "a0671fea-fb02-4632-8fbe-3b64e22e1836",
   "metadata": {
    "tags": []
   },
   "source": [
    "***\n",
    "\n",
    "The next cell select the Window Length ```wls``` and Window Step ```wss``` used to generate the matrices"
   ]
  },
  {
   "cell_type": "code",
   "execution_count": 2,
   "id": "1a382db0-8e46-40ca-91ab-237ce37a1093",
   "metadata": {},
   "outputs": [],
   "source": [
    "wls = 45\n",
    "wss = 1.5\n",
    "tr  = 1.5\n",
    "win_names_path = PNAS2015_win_names_paths[(wls,wss)]"
   ]
  },
  {
   "cell_type": "markdown",
   "id": "05b8ecaf-fe10-41ec-aff6-01e70d754db4",
   "metadata": {},
   "source": [
    "***\n",
    "\n",
    "# 1. Scan-Level Matrices\n",
    "\n",
    "## 1.1. Original Data\n",
    "\n",
    "The next cell will create the output folders if they do not exist already"
   ]
  },
  {
   "cell_type": "code",
   "execution_count": 3,
   "id": "bb291a9d-5cff-4e25-abf8-c574e89e6dfc",
   "metadata": {
    "scrolled": true,
    "tags": []
   },
   "outputs": [],
   "source": [
    "# Create Output Folders if they do not exists\n",
    "for subject in PNAS2015_subject_list:\n",
    "    for input_data in input_datas:\n",
    "        path = osp.join(PRJ_DIR,'Data_Interim','PNAS2015',subject,'ID_estimates',input_data)\n",
    "        if not osp.exists(path):\n",
    "            print('++ INFO: Created folder %s' % path)\n",
    "            os.makedirs(path)"
   ]
  },
  {
   "cell_type": "markdown",
   "id": "0a47edcd-5477-4cf7-a50b-6474153c72fb",
   "metadata": {},
   "source": [
    "The next cell will create folders for the swarm log files and for the actual swarm script. Those folders are created using the username as part of their name. That way it is easier for different users to work together on the project."
   ]
  },
  {
   "cell_type": "code",
   "execution_count": 4,
   "id": "382b9b02-b351-4164-ba03-b3eef9c8dc21",
   "metadata": {},
   "outputs": [
    {
     "name": "stdout",
     "output_type": "stream",
     "text": [
      "++ INFO: user working now --> javiergc\n",
      "++ INFO: Swarm File  : /data/SFIMJGC_HCP7T/manifold_learning_fmri/SwarmFiles.javiergc/N14_ID_estimates.SWARM.sh\n",
      "++ INFO: Logs Folder : /data/SFIMJGC_HCP7T/manifold_learning_fmri/Logs.javiergc/N14_ID_estimates.logs\n"
     ]
    }
   ],
   "source": [
    "#user specific folders\n",
    "#=====================\n",
    "username = getpass.getuser()\n",
    "print('++ INFO: user working now --> %s' % username)\n",
    "\n",
    "swarm_folder   = osp.join(PRJ_DIR,'SwarmFiles.{username}'.format(username=username))\n",
    "logs_folder    = osp.join(PRJ_DIR,'Logs.{username}'.format(username=username))  \n",
    "\n",
    "swarm_path     = osp.join(swarm_folder,'N14_ID_estimates.SWARM.sh')\n",
    "logdir_path    = osp.join(logs_folder, 'N14_ID_estimates.logs')\n",
    "\n",
    "if not osp.exists(swarm_folder):\n",
    "    os.makedirs(swarm_folder)\n",
    "if not osp.exists(logdir_path):\n",
    "    os.makedirs(logdir_path)\n",
    "print('++ INFO: Swarm File  : %s' % swarm_path)\n",
    "print('++ INFO: Logs Folder : %s' % logdir_path)"
   ]
  },
  {
   "cell_type": "markdown",
   "id": "dce3ca8e-b826-48e5-99bd-4728125929a0",
   "metadata": {},
   "source": [
    "Create swarm script. This script will have one line per matrix to be generated."
   ]
  },
  {
   "cell_type": "code",
   "execution_count": 6,
   "id": "4a838e49-319d-408a-b8f1-3d297dc6758c",
   "metadata": {
    "lines_to_next_cell": 0
   },
   "outputs": [],
   "source": [
    "# Open the file\n",
    "swarm_file = open(swarm_path, \"w\")\n",
    "# Log the date and time when the SWARM file is created\n",
    "swarm_file.write('#Create Time: %s' % datetime.now().strftime(\"%d/%m/%Y %H:%M:%S\"))\n",
    "swarm_file.write('\\n')\n",
    "\n",
    "# Insert comment line with SWARM command\n",
    "swarm_file.write('#swarm -J ID_estimates -f {swarm_path} -g 32 -t 8 --time 03:00:00 --partition quick,norm --logdir {logdir_path}'.format(swarm_path=swarm_path,logdir_path=logdir_path))\n",
    "swarm_file.write('\\n')\n",
    "\n",
    "for subject in PNAS2015_subject_list:\n",
    "    for input_data in input_datas:\n",
    "        for norm_method in norm_methods:\n",
    "            tvFC_path        = osp.join(PRJ_DIR,'Data_Interim','PNAS2015',subject,input_data,'{subject}_Craddock_0200.WL{wls}s.WS{wss}s.tvFC.Z.{nm}.pkl'.format(subject=subject,nm=norm_method,wls=str(int(wls)).zfill(3), wss=str(wss)))\n",
    "            out_path_local   = osp.join(PRJ_DIR,'Data_Interim','PNAS2015',subject,'ID_estimates',input_data,'{subject}_Craddock_0200.WL{wls}s.WS{wss}s.tvFC.Z.{nm}.local_ID.pkl'.format(subject=subject,nm=norm_method,wls=str(int(wls)).zfill(3), wss=str(wss)))\n",
    "            out_path_global  = osp.join(PRJ_DIR,'Data_Interim','PNAS2015',subject,'ID_estimates',input_data,'{subject}_Craddock_0200.WL{wls}s.WS{wss}s.tvFC.Z.{nm}.global_ID.pkl'.format(subject=subject,nm=norm_method,wls=str(int(wls)).zfill(3), wss=str(wss)))\n",
    "\n",
    "            swarm_file.write('export tvfc_path={tvFC_path}  out_path_local={out_path_local} out_path_global={out_path_global} n_jobs=4; sh {scripts_dir}/N14_ID.sh'.format(\n",
    "                       tvFC_path = tvFC_path, out_path_local=out_path_local, out_path_global=out_path_global,\n",
    "                       scripts_dir=osp.join(PRJ_DIR,'Notebooks')))\n",
    "            swarm_file.write('\\n')\n",
    "swarm_file.close()"
   ]
  },
  {
   "cell_type": "markdown",
   "id": "340da662-6218-44f4-b91c-d2761972da0c",
   "metadata": {},
   "source": [
    "***"
   ]
  },
  {
   "cell_type": "code",
   "execution_count": 5,
   "id": "2a0d49c3-847c-4569-a184-b3194705bed3",
   "metadata": {},
   "outputs": [
    {
     "name": "stdout",
     "output_type": "stream",
     "text": [
      "++ INFO: Files avail/needed [120/120]\n"
     ]
    }
   ],
   "source": [
    "needed_global = 0\n",
    "avail_global = 0\n",
    "for subject in PNAS2015_subject_list:\n",
    "    for input_data in input_datas:\n",
    "        for norm_method in norm_methods:\n",
    "            needed_global += 1\n",
    "            out_path_global  = osp.join(PRJ_DIR,'Data_Interim','PNAS2015',subject,'ID_estimates',input_data,'{subject}_Craddock_0200.WL{wls}s.WS{wss}s.tvFC.Z.{nm}.global_ID.pkl'.format(subject=subject,nm=norm_method,wls=str(int(wls)).zfill(3), wss=str(wss)))\n",
    "            if osp.exists(out_path_global):\n",
    "                avail_global += 1\n",
    "            else:\n",
    "                print(out_path_global)\n",
    "print('++ INFO: Files avail/needed [%d/%d]' %(avail_global,needed_global))"
   ]
  },
  {
   "cell_type": "code",
   "execution_count": null,
   "id": "cf7ae756-92c7-4267-ad98-a34b46e7a1fb",
   "metadata": {},
   "outputs": [],
   "source": []
  }
 ],
 "metadata": {
  "jupytext": {
   "formats": "ipynb,py:light"
  },
  "kernelspec": {
   "display_name": "opentsne",
   "language": "python",
   "name": "opentsne"
  },
  "language_info": {
   "codemirror_mode": {
    "name": "ipython",
    "version": 3
   },
   "file_extension": ".py",
   "mimetype": "text/x-python",
   "name": "python",
   "nbconvert_exporter": "python",
   "pygments_lexer": "ipython3",
   "version": "3.7.13"
  }
 },
 "nbformat": 4,
 "nbformat_minor": 5
}
