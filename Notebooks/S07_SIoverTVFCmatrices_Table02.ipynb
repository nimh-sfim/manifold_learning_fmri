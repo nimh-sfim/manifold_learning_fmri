{
 "cells": [
  {
   "cell_type": "markdown",
   "id": "01506fb3-f553-492c-83ab-e1c5b578c01f",
   "metadata": {},
   "source": [
    "# Description - Table 02 SI using tvFC in original space\n",
    "\n",
    "This notebook will compute the Silhouette Index when using as input tvFC matrices without any dimensionality reduction.\n",
    "\n",
    "* SItask at the scan level --> one value per subject --> we report mean and stdev\n",
    "\n",
    "* SIsbj at the group level --> only one value available\n",
    "\n",
    "We do this using as input both the normalized and non-normalized matrices"
   ]
  },
  {
   "cell_type": "code",
   "execution_count": 1,
   "id": "38e0a9eb-9367-49f4-9d95-017a2b13faac",
   "metadata": {},
   "outputs": [],
   "source": [
    "import argparse\n",
    "import pandas as pd\n",
    "import numpy as np\n",
    "from sklearn.metrics import silhouette_score\n",
    "from utils.basics import PRJ_DIR, PNAS2015_subject_list\n",
    "import os.path as osp\n",
    "from tqdm import tqdm"
   ]
  },
  {
   "cell_type": "code",
   "execution_count": 2,
   "id": "e7b14018-df2e-4d2b-a9ef-0178ec54e2ff",
   "metadata": {},
   "outputs": [],
   "source": [
    "norm_methods = ['asis','zscored']"
   ]
  },
  {
   "cell_type": "markdown",
   "id": "f30e3067-35ad-4e09-aba3-c1402f51d98a",
   "metadata": {},
   "source": [
    "# 1. Scan level embeddings (SI task)"
   ]
  },
  {
   "cell_type": "code",
   "execution_count": 3,
   "id": "638b1197-600b-40ca-8fc0-ba123aea8235",
   "metadata": {},
   "outputs": [
    {
     "name": "stderr",
     "output_type": "stream",
     "text": [
      "Subject: 100%|█████████████████████████████████████████████████████████████████████████████████████████████████████████████████████████████████████████████████████████████████████████████████████████████████████████████████████████████████████| 20/20 [00:55<00:00,  2.79s/it]"
     ]
    },
    {
     "name": "stdout",
     "output_type": "stream",
     "text": [
      "CPU times: user 16min 30s, sys: 31min 23s, total: 47min 53s\n",
      "Wall time: 55.9 s\n"
     ]
    },
    {
     "name": "stderr",
     "output_type": "stream",
     "text": [
      "\n"
     ]
    }
   ],
   "source": [
    "%%time\n",
    "df = pd.DataFrame(columns=['Subject','Norm Method','SI'])\n",
    "for sbj in tqdm(PNAS2015_subject_list, desc='Subject'):\n",
    "    for norm_method in norm_methods:\n",
    "        input_path      = osp.join(PRJ_DIR,'Data_Interim','PNAS2015',sbj,'Original',f'{sbj}_Craddock_0200.WL045s.WS1.5s.tvFC.Z.{norm_method}.pkl')\n",
    "        data            = pd.read_pickle(input_path).T\n",
    "        data.index.name = 'Task'\n",
    "        data            = data.drop('XXXX') \n",
    "        input_data      = data.values\n",
    "        input_labels    = list(data.index)\n",
    "        si_value        = silhouette_score(input_data, input_labels, n_jobs=-1)\n",
    "        df              = df.append({'Subject':sbj,'Norm Method':norm_method,'SI':si_value}, ignore_index=True)"
   ]
  },
  {
   "cell_type": "markdown",
   "id": "23e8b870-c425-46d7-bd63-48742789f1f0",
   "metadata": {},
   "source": [
    "Here, we print the mean SI across all subjects."
   ]
  },
  {
   "cell_type": "code",
   "execution_count": 4,
   "id": "f231ac3b-7462-4c30-9f0d-868a19195ab3",
   "metadata": {},
   "outputs": [
    {
     "data": {
      "text/html": [
       "<div>\n",
       "<style scoped>\n",
       "    .dataframe tbody tr th:only-of-type {\n",
       "        vertical-align: middle;\n",
       "    }\n",
       "\n",
       "    .dataframe tbody tr th {\n",
       "        vertical-align: top;\n",
       "    }\n",
       "\n",
       "    .dataframe thead th {\n",
       "        text-align: right;\n",
       "    }\n",
       "</style>\n",
       "<table border=\"1\" class=\"dataframe\">\n",
       "  <thead>\n",
       "    <tr style=\"text-align: right;\">\n",
       "      <th></th>\n",
       "      <th>SI</th>\n",
       "    </tr>\n",
       "    <tr>\n",
       "      <th>Norm Method</th>\n",
       "      <th></th>\n",
       "    </tr>\n",
       "  </thead>\n",
       "  <tbody>\n",
       "    <tr>\n",
       "      <th>asis</th>\n",
       "      <td>0.13</td>\n",
       "    </tr>\n",
       "    <tr>\n",
       "      <th>zscored</th>\n",
       "      <td>0.12</td>\n",
       "    </tr>\n",
       "  </tbody>\n",
       "</table>\n",
       "</div>"
      ],
      "text/plain": [
       "               SI\n",
       "Norm Method      \n",
       "asis         0.13\n",
       "zscored      0.12"
      ]
     },
     "execution_count": 4,
     "metadata": {},
     "output_type": "execute_result"
    }
   ],
   "source": [
    "df.groupby(by='Norm Method').mean().round(2)"
   ]
  },
  {
   "cell_type": "markdown",
   "id": "09839e3e-c3b1-40e3-9a6b-f5dec175f9e9",
   "metadata": {},
   "source": [
    "Next, we print the standard deviation across all subjects"
   ]
  },
  {
   "cell_type": "code",
   "execution_count": 5,
   "id": "faeadc00-e3f3-4d47-b7e6-6cd82199f3f5",
   "metadata": {},
   "outputs": [
    {
     "data": {
      "text/html": [
       "<div>\n",
       "<style scoped>\n",
       "    .dataframe tbody tr th:only-of-type {\n",
       "        vertical-align: middle;\n",
       "    }\n",
       "\n",
       "    .dataframe tbody tr th {\n",
       "        vertical-align: top;\n",
       "    }\n",
       "\n",
       "    .dataframe thead th {\n",
       "        text-align: right;\n",
       "    }\n",
       "</style>\n",
       "<table border=\"1\" class=\"dataframe\">\n",
       "  <thead>\n",
       "    <tr style=\"text-align: right;\">\n",
       "      <th></th>\n",
       "      <th>SI</th>\n",
       "    </tr>\n",
       "    <tr>\n",
       "      <th>Norm Method</th>\n",
       "      <th></th>\n",
       "    </tr>\n",
       "  </thead>\n",
       "  <tbody>\n",
       "    <tr>\n",
       "      <th>asis</th>\n",
       "      <td>0.02</td>\n",
       "    </tr>\n",
       "    <tr>\n",
       "      <th>zscored</th>\n",
       "      <td>0.01</td>\n",
       "    </tr>\n",
       "  </tbody>\n",
       "</table>\n",
       "</div>"
      ],
      "text/plain": [
       "               SI\n",
       "Norm Method      \n",
       "asis         0.02\n",
       "zscored      0.01"
      ]
     },
     "execution_count": 5,
     "metadata": {},
     "output_type": "execute_result"
    }
   ],
   "source": [
    "df.groupby(by='Norm Method').std().round(2)"
   ]
  },
  {
   "cell_type": "markdown",
   "id": "8b125c6b-8e11-437c-89a5-b15b5cf8b453",
   "metadata": {},
   "source": [
    "# 2. Group Level SI\n",
    "\n",
    "## 2.1. Load tvFC matrices for all subjects and concatenate them on a single large tvFC group matrix"
   ]
  },
  {
   "cell_type": "code",
   "execution_count": 6,
   "id": "5605ce0f-1fde-4131-82cb-9cf83427d613",
   "metadata": {},
   "outputs": [
    {
     "name": "stderr",
     "output_type": "stream",
     "text": [
      "Subject: 100%|█████████████████████████████████████████████████████████████████████████████████████████████████████████████████████████████████████████████████████████████████████████████████████████████████████████████████████████████████████| 20/20 [00:14<00:00,  1.42it/s]\n",
      "Subject: 100%|█████████████████████████████████████████████████████████████████████████████████████████████████████████████████████████████████████████████████████████████████████████████████████████████████████████████████████████████████████| 20/20 [00:12<00:00,  1.65it/s]"
     ]
    },
    {
     "name": "stdout",
     "output_type": "stream",
     "text": [
      "CPU times: user 13.6 s, sys: 10.3 s, total: 23.9 s\n",
      "Wall time: 26.2 s\n"
     ]
    },
    {
     "name": "stderr",
     "output_type": "stream",
     "text": [
      "\n"
     ]
    }
   ],
   "source": [
    "%%time\n",
    "# Create empty dictionary that will hold the group level tvFC matrices\n",
    "group_data = {'asis':None,\n",
    "              'zscored':None}\n",
    "\n",
    "for norm_method in norm_methods:\n",
    "    for sbj in tqdm(PNAS2015_subject_list, desc='Subject'):\n",
    "        input_path      = osp.join(PRJ_DIR,'Data_Interim','PNAS2015',sbj,'Original',f'{sbj}_Craddock_0200.WL045s.WS1.5s.tvFC.Z.{norm_method}.pkl')\n",
    "        data            = pd.read_pickle(input_path).T\n",
    "        data.index.name = 'Task'\n",
    "        data            = data.drop('XXXX') \n",
    "        data            = data.reset_index()\n",
    "        data['Subject'] = sbj\n",
    "        data            = data.set_index(['Subject','Task'])\n",
    "        if group_data[norm_method] is None:\n",
    "            group_data[norm_method] = data\n",
    "        else:\n",
    "            group_data[norm_method] = pd.concat([group_data[norm_method], data],axis=0)"
   ]
  },
  {
   "cell_type": "markdown",
   "id": "2cea9818-4649-4b3e-a5a0-6bd5e0099857",
   "metadata": {},
   "source": [
    "## 2.2. Compute SI using the group level tvFC matrices"
   ]
  },
  {
   "cell_type": "code",
   "execution_count": 7,
   "id": "50e71258-8b6c-4c59-9c33-292562af3ba3",
   "metadata": {},
   "outputs": [
    {
     "name": "stdout",
     "output_type": "stream",
     "text": [
      "++ INFO: Results for asis matrices\n",
      "++ INFO: Group Level SItask    [asis] = 0.01\n",
      "++ INFO: Group Level SIsubject [asis] = 0.05\n",
      "++ INFO: Results for zscored matrices\n",
      "++ INFO: Group Level SItask    [zscored] = 0.01\n",
      "++ INFO: Group Level SIsubject [zscored] = -0.02\n",
      "CPU times: user 38min 27s, sys: 7min 44s, total: 46min 12s\n",
      "Wall time: 53.1 s\n"
     ]
    }
   ],
   "source": [
    "%%time\n",
    "for norm_method in norm_methods:\n",
    "    print(f'++ INFO: Results for {norm_method} matrices')\n",
    "    input_labels_sbj = list(group_data[norm_method].index.get_level_values('Subject'))\n",
    "    input_labels_tsk = list(group_data[norm_method].index.get_level_values('Task'))\n",
    "    input_data       = group_data[norm_method].values\n",
    "    si_value_sbj     = silhouette_score(input_data, input_labels_sbj,n_jobs=-1)\n",
    "    si_value_tsk     = silhouette_score(input_data, input_labels_tsk,n_jobs=-1)\n",
    "    print('++ INFO: Group Level SItask    [%s] = %.02f' % (norm_method,si_value_tsk))\n",
    "    print('++ INFO: Group Level SIsubject [%s] = %.02f' % (norm_method,si_value_sbj))"
   ]
  }
 ],
 "metadata": {
  "jupytext": {
   "formats": "ipynb,auto:light"
  },
  "kernelspec": {
   "display_name": "Embeddings2 + Sdim",
   "language": "python",
   "name": "embeddings3"
  },
  "language_info": {
   "codemirror_mode": {
    "name": "ipython",
    "version": 3
   },
   "file_extension": ".py",
   "mimetype": "text/x-python",
   "name": "python",
   "nbconvert_exporter": "python",
   "pygments_lexer": "ipython3",
   "version": "3.7.11"
  }
 },
 "nbformat": 4,
 "nbformat_minor": 5
}
