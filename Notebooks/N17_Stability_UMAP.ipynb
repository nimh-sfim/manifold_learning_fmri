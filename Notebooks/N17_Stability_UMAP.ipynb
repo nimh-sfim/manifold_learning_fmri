{
 "cells": [
  {
   "cell_type": "markdown",
   "id": "29c616fd-2101-4d4e-be22-a248fe725781",
   "metadata": {},
   "source": [
    "# Description\n",
    "\n",
    "This notebook will compute UMAP for the multi-task dataset. For UMAP we explore three hyper-parameters:\n",
    "\n",
    "* Distance Function: euclidean, cosine or correlation\n",
    "* knn: neighborhood size\n",
    "* m: final number of dimensions\n",
    "* learning rate: for the optimization phase\n",
    "\n",
    "Matrices will be written as pandas pickle objects in ```/data/SFIMJGC_HCP7T/manifold_learning/Data_Interim/PNAS2015/{sbj}/UMAP```"
   ]
  },
  {
   "cell_type": "code",
   "execution_count": 1,
   "id": "fca9dba7-4405-4aa4-8491-a5dcdcae5855",
   "metadata": {},
   "outputs": [],
   "source": [
    "import pandas as pd\n",
    "import numpy as np\n",
    "import os\n",
    "import os.path as osp\n",
    "import getpass\n",
    "from datetime import datetime\n",
    "from utils.basics import PNAS2015_subject_list, PNAS2015_folder, PRJ_DIR\n",
    "from utils.basics import umap_dist_metrics, umap_knns, umap_ms, umap_alphas\n",
    "from utils.basics import input_datas, norm_methods"
   ]
  },
  {
   "cell_type": "markdown",
   "id": "ee2fbdef-08fd-43f3-937d-441516542a73",
   "metadata": {
    "tags": []
   },
   "source": [
    "***\n",
    "\n",
    "The next cell select the Window Length ```wls``` and Window Step ```wss``` used to generate the matrices"
   ]
  },
  {
   "cell_type": "code",
   "execution_count": 7,
   "id": "1b9c5f90-24db-46b2-9628-51763bbf7e30",
   "metadata": {},
   "outputs": [],
   "source": [
    "wls      = 45\n",
    "wss      = 1.5\n",
    "min_dist = 0.8\n",
    "init_method = 'spectral'\n",
    "\n",
    "umap_dist_metrics = ['euclidean']\n",
    "umap_knns         = [70]\n",
    "umap_ms           = [3]\n",
    "umap_alphas       = [0.01]\n",
    "norm_methods      = ['asis']\n",
    "N_iters           = 1000"
   ]
  },
  {
   "cell_type": "markdown",
   "id": "df5b4ce7-738c-4395-be26-f6ccb517b9fb",
   "metadata": {},
   "source": [
    "***\n",
    "# 1. Compute UMAP Scan Level Embeddings\n",
    "\n",
    "## 1.2. Compute UMAP Embeddings on all input types\n",
    "Those are the norm_methods we will be running"
   ]
  },
  {
   "cell_type": "code",
   "execution_count": 4,
   "id": "132f7949-a369-4dfa-b786-18c6c9840aa1",
   "metadata": {},
   "outputs": [
    {
     "name": "stdout",
     "output_type": "stream",
     "text": [
      "++ INFO: Distance Metrics: ['euclidean']\n",
      "++ INFO: Knns:             [70]\n",
      "++ INFO: Ms:               [3]\n",
      "++ INFO: Learning Rates:   [0.01]\n"
     ]
    }
   ],
   "source": [
    "print('++ INFO: Distance Metrics: %s' % str(umap_dist_metrics))\n",
    "print('++ INFO: Knns:             %s' % str(umap_knns))\n",
    "print('++ INFO: Ms:               %s' % str(umap_ms))\n",
    "print('++ INFO: Learning Rates:   %s' % str(umap_alphas))"
   ]
  },
  {
   "cell_type": "markdown",
   "id": "87411a9f-3267-4f06-ba20-44397d5ebab3",
   "metadata": {},
   "source": [
    "The next cell will create the output folders if they do not exist already"
   ]
  },
  {
   "cell_type": "code",
   "execution_count": 5,
   "id": "cc1cab47-1140-4667-98e4-f495aac598fa",
   "metadata": {},
   "outputs": [
    {
     "name": "stdout",
     "output_type": "stream",
     "text": [
      "++ INFO: Created folder /data/SFIMJGC_HCP7T/manifold_learning_fmri/Data_Interim/PNAS2015/SBJ06/UMAP/Stability\n",
      "++ INFO: Created folder /data/SFIMJGC_HCP7T/manifold_learning_fmri/Data_Interim/PNAS2015/SBJ07/UMAP/Stability\n",
      "++ INFO: Created folder /data/SFIMJGC_HCP7T/manifold_learning_fmri/Data_Interim/PNAS2015/SBJ08/UMAP/Stability\n",
      "++ INFO: Created folder /data/SFIMJGC_HCP7T/manifold_learning_fmri/Data_Interim/PNAS2015/SBJ09/UMAP/Stability\n",
      "++ INFO: Created folder /data/SFIMJGC_HCP7T/manifold_learning_fmri/Data_Interim/PNAS2015/SBJ10/UMAP/Stability\n",
      "++ INFO: Created folder /data/SFIMJGC_HCP7T/manifold_learning_fmri/Data_Interim/PNAS2015/SBJ11/UMAP/Stability\n",
      "++ INFO: Created folder /data/SFIMJGC_HCP7T/manifold_learning_fmri/Data_Interim/PNAS2015/SBJ12/UMAP/Stability\n",
      "++ INFO: Created folder /data/SFIMJGC_HCP7T/manifold_learning_fmri/Data_Interim/PNAS2015/SBJ13/UMAP/Stability\n",
      "++ INFO: Created folder /data/SFIMJGC_HCP7T/manifold_learning_fmri/Data_Interim/PNAS2015/SBJ16/UMAP/Stability\n",
      "++ INFO: Created folder /data/SFIMJGC_HCP7T/manifold_learning_fmri/Data_Interim/PNAS2015/SBJ17/UMAP/Stability\n",
      "++ INFO: Created folder /data/SFIMJGC_HCP7T/manifold_learning_fmri/Data_Interim/PNAS2015/SBJ18/UMAP/Stability\n",
      "++ INFO: Created folder /data/SFIMJGC_HCP7T/manifold_learning_fmri/Data_Interim/PNAS2015/SBJ19/UMAP/Stability\n",
      "++ INFO: Created folder /data/SFIMJGC_HCP7T/manifold_learning_fmri/Data_Interim/PNAS2015/SBJ20/UMAP/Stability\n",
      "++ INFO: Created folder /data/SFIMJGC_HCP7T/manifold_learning_fmri/Data_Interim/PNAS2015/SBJ21/UMAP/Stability\n",
      "++ INFO: Created folder /data/SFIMJGC_HCP7T/manifold_learning_fmri/Data_Interim/PNAS2015/SBJ22/UMAP/Stability\n",
      "++ INFO: Created folder /data/SFIMJGC_HCP7T/manifold_learning_fmri/Data_Interim/PNAS2015/SBJ23/UMAP/Stability\n",
      "++ INFO: Created folder /data/SFIMJGC_HCP7T/manifold_learning_fmri/Data_Interim/PNAS2015/SBJ24/UMAP/Stability\n",
      "++ INFO: Created folder /data/SFIMJGC_HCP7T/manifold_learning_fmri/Data_Interim/PNAS2015/SBJ25/UMAP/Stability\n",
      "++ INFO: Created folder /data/SFIMJGC_HCP7T/manifold_learning_fmri/Data_Interim/PNAS2015/SBJ26/UMAP/Stability\n",
      "++ INFO: Created folder /data/SFIMJGC_HCP7T/manifold_learning_fmri/Data_Interim/PNAS2015/SBJ27/UMAP/Stability\n"
     ]
    }
   ],
   "source": [
    "# Create Output Folders if they do not exists\n",
    "for subject in PNAS2015_subject_list:\n",
    "    for input_data in ['Original','Null_ConnRand','Null_PhaseRand']:\n",
    "        path = osp.join(PRJ_DIR,'Data_Interim','PNAS2015',subject,'UMAP','Stability')\n",
    "        if not osp.exists(path):\n",
    "            print('++ INFO: Created folder %s' % path)\n",
    "            os.makedirs(path)"
   ]
  },
  {
   "cell_type": "markdown",
   "id": "faeefc8e-4505-4786-9640-82eac5b0973e",
   "metadata": {},
   "source": [
    "The next cell will create folders for the swarm log files and for the actual swarm script. Those folders are created using the username as part of their name. That way it is easier for different users to work together on the project."
   ]
  },
  {
   "cell_type": "code",
   "execution_count": 6,
   "id": "c1c52e24-925d-4f04-a01c-79fe8a4efaad",
   "metadata": {},
   "outputs": [
    {
     "name": "stdout",
     "output_type": "stream",
     "text": [
      "++ INFO: user working now --> javiergc\n",
      "++ INFO: Swarm File  : /data/SFIMJGC_HCP7T/manifold_learning_fmri/SwarmFiles.javiergc/N09_UMAP_Multitask_Scans.SWARM.stability.sh\n",
      "++ INFO: Logs Folder : /data/SFIMJGC_HCP7T/manifold_learning_fmri/Logs.javiergc/N09_UMAP_Multitask_Scans.logs\n"
     ]
    }
   ],
   "source": [
    "#user specific folders\n",
    "#=====================\n",
    "username = getpass.getuser()\n",
    "print('++ INFO: user working now --> %s' % username)\n",
    "\n",
    "swarm_folder   = osp.join(PRJ_DIR,'SwarmFiles.{username}'.format(username=username))\n",
    "logs_folder    = osp.join(PRJ_DIR,'Logs.{username}'.format(username=username))  \n",
    "\n",
    "swarm_path     = osp.join(swarm_folder,'N09_UMAP_Multitask_Scans.SWARM.stability.sh')\n",
    "logdir_path    = osp.join(logs_folder, 'N09_UMAP_Multitask_Scans.logs')\n",
    "\n",
    "if not osp.exists(swarm_folder):\n",
    "    os.makedirs(swarm_folder)\n",
    "if not osp.exists(logdir_path):\n",
    "    os.makedirs(logdir_path)\n",
    "print('++ INFO: Swarm File  : %s' % swarm_path)\n",
    "print('++ INFO: Logs Folder : %s' % logdir_path)"
   ]
  },
  {
   "cell_type": "markdown",
   "id": "163aede1-eee7-44ae-8f8a-8cfd3356c22c",
   "metadata": {},
   "source": [
    "Create swarm script. This script will have one line per matrix to be generated."
   ]
  },
  {
   "cell_type": "code",
   "execution_count": 11,
   "id": "20aeed2e-046d-4d87-a6ae-3a8544819579",
   "metadata": {
    "lines_to_next_cell": 0
   },
   "outputs": [
    {
     "name": "stdout",
     "output_type": "stream",
     "text": [
      "++ INFO: Attempts/Written = [0/20000]\n"
     ]
    }
   ],
   "source": [
    "# Open the file\n",
    "swarm_file = open(swarm_path, \"w\")\n",
    "# Log the date and time when the SWARM file is created\n",
    "swarm_file.write('#Create Time: %s' % datetime.now().strftime(\"%d/%m/%Y %H:%M:%S\"))\n",
    "swarm_file.write('\\n')\n",
    "\n",
    "# Insert comment line with SWARM command\n",
    "swarm_file.write('#swarm -J UMAP_Scan -f {swarm_path} -b 20 -g 4 -t 4 --time 00:05:00 --partition quick,norm --logdir {logdir_path}'.format(swarm_path=swarm_path,logdir_path=logdir_path))\n",
    "swarm_file.write('\\n')\n",
    "num_entries = 0 \n",
    "num_iters = 0\n",
    "for subject in PNAS2015_subject_list:\n",
    "    for norm_method in norm_methods:\n",
    "        for dist in umap_dist_metrics:\n",
    "            for knn in umap_knns:\n",
    "                for m in umap_ms:\n",
    "                    for alpha in umap_alphas:\n",
    "                        for init_method in ['spectral']:\n",
    "                            for n_iter in range(N_iters):\n",
    "                                num_iters +=1\n",
    "                                path_tvfc = osp.join(PRJ_DIR,'Data_Interim','PNAS2015',subject,'Original','{subject}_Craddock_0200.WL{wls}s.WS{wss}s.tvFC.Z.{norm_method}.pkl'.format(subject=subject,norm_method=norm_method, wls=str(int(wls)).zfill(3), wss=str(wss)))\n",
    "                                path_out  = osp.join(PRJ_DIR,'Data_Interim','PNAS2015',subject,'UMAP','Stability','{subject}_Craddock_0200.WL{wls}s.WS{wss}s.UMAP_{dist}_k{knn}_m{m}_md{min_dist}_a{alpha}_{init_method}.{norm_method}.I{n_iter}.pkl'.format(subject=subject,\n",
    "                                                                                                                                                   wls=str(int(wls)).zfill(3), \n",
    "                                                                                                                                                   wss=str(wss),\n",
    "                                                                                                                                                   dist=dist,\n",
    "                                                                                                                                                   knn=str(knn).zfill(4),\n",
    "                                                                                                                                                   m=str(m).zfill(4),\n",
    "                                                                                                                                                   min_dist=str(min_dist),\n",
    "                                                                                                                                                   init_method=init_method,\n",
    "                                                                                                                                                   norm_method=norm_method,\n",
    "                                                                                                                                                   alpha=str(alpha),\n",
    "                                                                                                                                                   n_iter=str(n_iter).zfill(5)))\n",
    "                                if not osp.exists(path_out):\n",
    "                                    num_entries += 1\n",
    "                                    swarm_file.write('export path_tvfc={path_tvfc} dist={dist} knn={knn} min_dist={min_dist} alpha={alpha} init={init_method} m={m} path_out={path_out}; sh {scripts_dir}/N09_UMAP.sh'.format(path_tvfc=path_tvfc, \n",
    "                                                                                                                                    path_out=path_out,\n",
    "                                                                                                                                    init_method = init_method,\n",
    "                                                                                                                                    dist=dist,\n",
    "                                                                                                                                    knn=knn,\n",
    "                                                                                                                                    m=m, \n",
    "                                                                                                                                    min_dist=min_dist,\n",
    "                                                                                                                                    alpha=alpha,\n",
    "                                                                                                                                    scripts_dir=osp.join(PRJ_DIR,'Notebooks')))\n",
    "                                    swarm_file.write('\\n')\n",
    "swarm_file.close()\n",
    "print(\"++ INFO: Attempts/Written = [%d/%d]\" % (num_entries,num_iters))"
   ]
  },
  {
   "cell_type": "markdown",
   "id": "3dcf0e56-2163-41fa-92c7-242eb30e44f8",
   "metadata": {
    "tags": []
   },
   "source": [
    "## 1.2. Calculate SI on all scan-level UMAP embeddings"
   ]
  },
  {
   "cell_type": "code",
   "execution_count": 12,
   "id": "fefe55bd-2ed1-4f2b-bd55-3fc4e866cfe3",
   "metadata": {},
   "outputs": [
    {
     "name": "stdout",
     "output_type": "stream",
     "text": [
      "++ INFO: user working now --> javiergc\n",
      "++ INFO: Swarm File  : /data/SFIMJGC_HCP7T/manifold_learning_fmri/SwarmFiles.javiergc/N09_UMAP_Eval_Clustering_Scans.SWARM.stability.sh\n",
      "++ INFO: Logs Folder : /data/SFIMJGC_HCP7T/manifold_learning_fmri/Logs.javiergc/N09_UMAP_Eval_Clustering_Scans.logs\n"
     ]
    }
   ],
   "source": [
    "#user specific folders\n",
    "#=====================\n",
    "username = getpass.getuser()\n",
    "print('++ INFO: user working now --> %s' % username)\n",
    "\n",
    "swarm_folder   = osp.join(PRJ_DIR,'SwarmFiles.{username}'.format(username=username))\n",
    "logs_folder    = osp.join(PRJ_DIR,'Logs.{username}'.format(username=username))  \n",
    "\n",
    "swarm_path     = osp.join(swarm_folder,'N09_UMAP_Eval_Clustering_Scans.SWARM.stability.sh')\n",
    "logdir_path    = osp.join(logs_folder, 'N09_UMAP_Eval_Clustering_Scans.logs')\n",
    "\n",
    "if not osp.exists(swarm_folder):\n",
    "    os.makedirs(swarm_folder)\n",
    "if not osp.exists(logdir_path):\n",
    "    os.makedirs(logdir_path)\n",
    "print('++ INFO: Swarm File  : %s' % swarm_path)\n",
    "print('++ INFO: Logs Folder : %s' % logdir_path)"
   ]
  },
  {
   "cell_type": "code",
   "execution_count": 13,
   "id": "6b5d8b3a-afbc-402e-ae6d-5ab0e7158f8c",
   "metadata": {},
   "outputs": [
    {
     "name": "stdout",
     "output_type": "stream",
     "text": [
      "++ INFO: Attempts/Written = [20000/20000]\n"
     ]
    }
   ],
   "source": [
    "# Open the file\n",
    "swarm_file = open(swarm_path, \"w\")\n",
    "# Log the date and time when the SWARM file is created\n",
    "swarm_file.write('#Create Time: %s' % datetime.now().strftime(\"%d/%m/%Y %H:%M:%S\"))\n",
    "swarm_file.write('\\n')\n",
    "num_entries = 0 \n",
    "num_iters = 0\n",
    "# Insert comment line with SWARM command\n",
    "swarm_file.write('#swarm -J UMAP_Scans_SI -f {swarm_path} -b 20 -g 16 -t 4 --time 00:05:00 --partition=quick,norm --logdir {logdir_path}'.format(swarm_path=swarm_path,logdir_path=logdir_path))\n",
    "swarm_file.write('\\n')\n",
    "for norm_method in norm_methods:\n",
    "    for dist in umap_dist_metrics:\n",
    "        for knn in umap_knns:\n",
    "            for m in umap_ms:\n",
    "                for alpha in umap_alphas:\n",
    "                    for sbj in PNAS2015_subject_list:\n",
    "                        for n_iter in range(N_iters):\n",
    "                            num_iters +=1\n",
    "                            input_path = osp.join(PRJ_DIR,'Data_Interim','PNAS2015',sbj,'UMAP','Stability','{sbj}_Craddock_0200.WL{wls}s.WS{wss}s.UMAP_{dist}_k{knn}_m{m}_md{min_dist}_a{alpha}_{init_method}.{norm_method}.I{n_iter}.pkl'.format(norm_method=norm_method,sbj=sbj,\n",
    "                                                                                                                                                   wls=str(int(wls)).zfill(3), \n",
    "                                                                                                                                                   wss=str(wss),\n",
    "                                                                                                                                                   dist=dist,\n",
    "                                                                                                                                                   knn=str(knn).zfill(4),\n",
    "                                                                                                                                                   m=str(m).zfill(4),\n",
    "                                                                                                                                                   min_dist=str(min_dist),\n",
    "                                                                                                                                                   init_method=init_method,\n",
    "                                                                                                                                                   alpha=str(alpha),\n",
    "                                                                                                                                                   n_iter=str(n_iter).zfill(5)))\n",
    "                            output_path = osp.join(PRJ_DIR,'Data_Interim','PNAS2015',sbj,'UMAP','Stability','{sbj}_Craddock_0200.WL{wls}s.WS{wss}s.UMAP_{dist}_k{knn}_m{m}_md{min_dist}_a{alpha}_{init_method}.{norm_method}.SI.I{n_iter}.pkl'.format(norm_method=norm_method, init_method=init_method,\n",
    "                                                                                                                                                   sbj=sbj,\n",
    "                                                                                                                                                   wls=str(int(wls)).zfill(3), \n",
    "                                                                                                                                                   wss=str(wss),\n",
    "                                                                                                                                                   dist=dist,\n",
    "                                                                                                                                                   knn=str(knn).zfill(4),\n",
    "                                                                                                                                                   m=str(m).zfill(4),\n",
    "                                                                                                                                                   min_dist=str(min_dist),\n",
    "                                                                                                                                                   alpha=str(alpha),\n",
    "                                                                                                                                                   n_iter=str(n_iter).zfill(5)))\n",
    "                            if osp.exists(input_path) & (not osp.exists(output_path)):\n",
    "                                num_entries += 1\n",
    "                                swarm_file.write('export input={input_path} output={output_path}; sh {scripts_dir}/N10_SI.sh'.format(input_path=input_path, \n",
    "                                                                                                                     output_path=output_path,\n",
    "                                                                                                                     scripts_dir=osp.join(PRJ_DIR,'Notebooks')))\n",
    "                                swarm_file.write('\\n')\n",
    "swarm_file.close()\n",
    "print(\"++ INFO: Attempts/Written = [%d/%d]\" % (num_entries,num_iters))"
   ]
  },
  {
   "cell_type": "code",
   "execution_count": null,
   "id": "b533379f-7deb-49a0-9361-28424b94791f",
   "metadata": {},
   "outputs": [],
   "source": []
  }
 ],
 "metadata": {
  "jupytext": {
   "formats": "ipynb,auto:light"
  },
  "kernelspec": {
   "display_name": "Embeddings2 + Sdim",
   "language": "python",
   "name": "embeddings3"
  },
  "language_info": {
   "codemirror_mode": {
    "name": "ipython",
    "version": 3
   },
   "file_extension": ".py",
   "mimetype": "text/x-python",
   "name": "python",
   "nbconvert_exporter": "python",
   "pygments_lexer": "ipython3",
   "version": "3.7.11"
  }
 },
 "nbformat": 4,
 "nbformat_minor": 5
}
