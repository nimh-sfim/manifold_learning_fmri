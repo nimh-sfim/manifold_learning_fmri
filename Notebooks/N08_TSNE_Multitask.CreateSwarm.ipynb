{
 "cells": [
  {
   "cell_type": "markdown",
   "id": "767b3f39-cbb6-474a-ae1d-00ff4e377497",
   "metadata": {},
   "source": [
    "# Description\n",
    "\n",
    "This notebook will compute TSNE for the multi-task dataset. For UMAP we explore three hyper-parameters:\n",
    "\n",
    "* Distance Function: euclidean, cosine or correlation\n",
    "* knn: neighborhood size\n",
    "* m: final number of dimensions\n",
    "* learning rate: for the optimization phase\n",
    "\n",
    "Matrices will be written as pandas pickle objects in ```/data/SFIMJGC_HCP7T/manifold_learning/Data_Interim/PNAS2015/{sbj}/UMAP```"
   ]
  },
  {
   "cell_type": "code",
   "execution_count": 1,
   "id": "63b3e4ef-c11e-4622-b10d-b12e34a2c1e8",
   "metadata": {},
   "outputs": [],
   "source": [
    "import pandas as pd\n",
    "import numpy as np\n",
    "import os\n",
    "import os.path as osp\n",
    "import getpass\n",
    "from datetime import datetime\n",
    "from utils.basics import PNAS2015_subject_list, PNAS2015_folder, PRJ_DIR\n",
    "from utils.basics import tsne_dist_metrics, tsne_pps, tsne_ms, tsne_alphas, tsne_inits\n",
    "from utils.basics import input_datas, norm_methods"
   ]
  },
  {
   "cell_type": "markdown",
   "id": "3294dd77-c285-49fe-8bbf-3ce5f1449cc8",
   "metadata": {
    "tags": []
   },
   "source": [
    "***\n",
    "\n",
    "The next cell select the Window Length ```wls``` and Window Step ```wss``` used to generate the matrices"
   ]
  },
  {
   "cell_type": "code",
   "execution_count": 2,
   "id": "adc17dc5-4a5b-41dd-b474-48904d903ed9",
   "metadata": {},
   "outputs": [],
   "source": [
    "wls      = 45\n",
    "wss      = 1.5"
   ]
  },
  {
   "cell_type": "markdown",
   "id": "e9f7b2ea-3130-4732-928d-76f54fd0ee27",
   "metadata": {},
   "source": [
    "***\n",
    "# 1. Compute T-SNE Scan Level Embeddings\n",
    "\n",
    "## 1.1. Compute TSNE Embeddings on all input types\n",
    "Those are the scenarios we will be running"
   ]
  },
  {
   "cell_type": "code",
   "execution_count": 3,
   "id": "950ff07f-7194-42bb-9038-fa0dfeb9518f",
   "metadata": {},
   "outputs": [
    {
     "name": "stdout",
     "output_type": "stream",
     "text": [
      "++ INFO: Distance Metrics: ['euclidean', 'correlation', 'cosine']\n",
      "++ INFO: Perplexitiess:    [20, 25, 30, 35, 40, 45, 50, 55, 60, 65, 70, 75, 80, 85, 90, 95, 100, 125, 150, 175, 200]\n",
      "++ INFO: Ms:               [2, 3, 5, 10, 15, 20, 25, 30]\n",
      "++ INFO: Learning Rates:   [10, 50, 75, 100, 200, 500, 1000]\n",
      "++ INFO: Init Methods:     ['pca']\n"
     ]
    }
   ],
   "source": [
    "print('++ INFO: Distance Metrics: %s' % str(tsne_dist_metrics))\n",
    "print('++ INFO: Perplexitiess:    %s' % str(tsne_pps))\n",
    "print('++ INFO: Ms:               %s' % str(tsne_ms))\n",
    "print('++ INFO: Learning Rates:   %s' % str(tsne_alphas))\n",
    "print('++ INFO: Init Methods:     %s' % str(tsne_inits))"
   ]
  },
  {
   "cell_type": "markdown",
   "id": "b378e397-33f2-4e71-9894-425e57d01501",
   "metadata": {},
   "source": [
    "The next cell will create the output folders if they do not exist already"
   ]
  },
  {
   "cell_type": "code",
   "execution_count": 4,
   "id": "6dd3f61e-af06-404e-abda-f7a71f6866db",
   "metadata": {},
   "outputs": [],
   "source": [
    "# Create Output Folders if they do not exists\n",
    "for subject in PNAS2015_subject_list:\n",
    "    for input_data in input_datas:\n",
    "        path = osp.join(PRJ_DIR,'Data_Interim','PNAS2015',subject,'TSNE', input_data)\n",
    "        if not osp.exists(path):\n",
    "            print('++ INFO: Creating folder [%s]' % path)\n",
    "            os.makedirs(path)"
   ]
  },
  {
   "cell_type": "markdown",
   "id": "2ef74a42-99c2-47ee-b09d-af83e971f6af",
   "metadata": {},
   "source": [
    "The next cell will create folders for the swarm log files and for the actual swarm script. Those folders are created using the username as part of their name. That way it is easier for different users to work together on the project."
   ]
  },
  {
   "cell_type": "code",
   "execution_count": 24,
   "id": "bf1589e9-c651-491f-85a9-ca8397e10630",
   "metadata": {},
   "outputs": [
    {
     "name": "stdout",
     "output_type": "stream",
     "text": [
      "++ INFO: user working now --> javiergc\n",
      "++ INFO: Swarm File  : /data/SFIMJGC_HCP7T/manifold_learning_fmri/SwarmFiles.javiergc/N08_TSNE_Multitask_Scans.SWARM.sh\n",
      "++ INFO: Logs Folder : /data/SFIMJGC_HCP7T/manifold_learning_fmri/Logs.javiergc/N08_TSNE_Multitask_Scans.logs\n"
     ]
    }
   ],
   "source": [
    "#user specific folders\n",
    "#=====================\n",
    "username = getpass.getuser()\n",
    "print('++ INFO: user working now --> %s' % username)\n",
    "\n",
    "swarm_folder   = osp.join(PRJ_DIR,'SwarmFiles.{username}'.format(username=username))\n",
    "logs_folder    = osp.join(PRJ_DIR,'Logs.{username}'.format(username=username))  \n",
    "\n",
    "swarm_path     = osp.join(swarm_folder,'N08_TSNE_Multitask_Scans.SWARM.sh')\n",
    "logdir_path    = osp.join(logs_folder, 'N08_TSNE_Multitask_Scans.logs')\n",
    "\n",
    "if not osp.exists(swarm_folder):\n",
    "    os.makedirs(swarm_folder)\n",
    "if not osp.exists(logdir_path):\n",
    "    os.makedirs(logdir_path)\n",
    "print('++ INFO: Swarm File  : %s' % swarm_path)\n",
    "print('++ INFO: Logs Folder : %s' % logdir_path)"
   ]
  },
  {
   "cell_type": "markdown",
   "id": "feb06979-2334-44af-9583-bc99c941e0d9",
   "metadata": {},
   "source": [
    "Create swarm script. This script will have one line per matrix to be generated.\n",
    "\n",
    "> NOTE: For the group level, we will work on extra dimensions (becuase of Procrustes) but only look at Original Data, correlation metric and 10,1000 as learning rate."
   ]
  },
  {
   "cell_type": "code",
   "execution_count": 26,
   "id": "52e7ce7c-71c1-4af8-9e07-9958af70f71c",
   "metadata": {
    "lines_to_next_cell": 0
   },
   "outputs": [
    {
     "name": "stdout",
     "output_type": "stream",
     "text": [
      "++ INFO: Attempts/Written = [35240/52920]\n",
      "CPU times: user 1.24 s, sys: 1.29 s, total: 2.53 s\n",
      "Wall time: 13.9 s\n"
     ]
    }
   ],
   "source": [
    "%%time\n",
    "# Open the file\n",
    "n_jobs=16\n",
    "swarm_file = open(swarm_path, \"w\")\n",
    "# Log the date and time when the SWARM file is created\n",
    "swarm_file.write('#Create Time: %s' % datetime.now().strftime(\"%d/%m/%Y %H:%M:%S\"))\n",
    "swarm_file.write('\\n')\n",
    "\n",
    "# Insert comment line with SWARM command\n",
    "swarm_file.write('#swarm -J TSNE_10_Scan -f {swarm_path} -b 15 -g 16 -t {n_jobs} --time 00:16:00 --partition quick,norm --logdir {logdir_path}'.format(swarm_path=swarm_path,logdir_path=logdir_path, n_jobs=n_jobs))\n",
    "swarm_file.write('\\n')\n",
    "num_entries = 0 \n",
    "num_iters = 0\n",
    "\n",
    "for input_data in input_datas:\n",
    "    for subject in PNAS2015_subject_list:\n",
    "        for norm_method in norm_methods:\n",
    "            for dist in tsne_dist_metrics:\n",
    "                for init_method in tsne_inits:\n",
    "                    for pp in tsne_pps:\n",
    "                        for alpha in tsne_alphas:\n",
    "                            for m in [15]:#tsne_ms:\n",
    "                                num_iters += 1\n",
    "                                path_tvfc = osp.join(PRJ_DIR,'Data_Interim','PNAS2015',subject,input_data,       '{subject}_Craddock_0200.WL{wls}s.WS{wss}s.tvFC.Z.{nm}.pkl'.format(subject=subject,nm=norm_method,wls=str(int(wls)).zfill(3), wss=str(wss)))\n",
    "                                path_out  = osp.join(PRJ_DIR,'Data_Interim','PNAS2015',subject,'TSNE',input_data,'{subject}_Craddock_0200.WL{wls}s.WS{wss}s.TSNE_{dist}_pp{pp}_m{m}_a{lr}_{init_method}.{nm}.pkl'.format(subject=subject,\n",
    "                                                                                                                                                   nm = norm_method,\n",
    "                                                                                                                                                   wls=str(int(wls)).zfill(3), \n",
    "                                                                                                                                                   wss=str(wss),\n",
    "                                                                                                                                                   init_method=init_method,\n",
    "                                                                                                                                                   dist=dist,\n",
    "                                                                                                                                                   pp=str(pp).zfill(4),\n",
    "                                                                                                                                                   m=str(m).zfill(4),\n",
    "                                                                                                                                                   lr=str(alpha)))\n",
    "                                if not osp.exists(path_out):\n",
    "                                    num_entries += 1\n",
    "                                    swarm_file.write('export path_tvfc={path_tvfc} dist={dist} pp={pp} lr={lr} m={m} n_iter=10000 init={init_method} path_out={path_out} n_jobs={n_jobs} norm={norm_method} grad_method=exact; sh {scripts_dir}/N08_TSNE.sh'.format(path_tvfc=path_tvfc, \n",
    "                                                                                                                                    path_out=path_out,\n",
    "                                                                                                                                    dist=dist,\n",
    "                                                                                                                                    init_method=init_method,\n",
    "                                                                                                                                    norm_method=norm_method,\n",
    "                                                                                                                                    pp=pp,\n",
    "                                                                                                                                    m=m, \n",
    "                                                                                                                                    lr=alpha,\n",
    "                                                                                                                                    n_jobs=n_jobs,\n",
    "                                                                                                                                    scripts_dir=osp.join(PRJ_DIR,'Notebooks')))\n",
    "                                    swarm_file.write('\\n')\n",
    "swarm_file.close()\n",
    "print(\"++ INFO: Attempts/Written = [%d/%d]\" % (num_entries,num_iters))"
   ]
  },
  {
   "cell_type": "markdown",
   "id": "2acb7c5f-ff20-4eb1-a77c-b4a53c725527",
   "metadata": {},
   "source": [
    "> **NOTE**: m=2 all completed (12/06/2022) | m=3 all completed (12/06/2022) | m=5 all completed (12/06/2022) | m=10 all completed (12/06/2022). This is for the whole hyper-parameter space."
   ]
  },
  {
   "cell_type": "markdown",
   "id": "348341c3-2a6b-4f71-a793-7475b894bb41",
   "metadata": {},
   "source": [
    "## 1.2. Compute Silhouette Index on all scan-level TSNE embeddings"
   ]
  },
  {
   "cell_type": "code",
   "execution_count": 10,
   "id": "cad2c715-bc4b-46d1-9549-9e8e82b4791a",
   "metadata": {},
   "outputs": [
    {
     "name": "stdout",
     "output_type": "stream",
     "text": [
      "++ INFO: user working now --> javiergc\n",
      "++ INFO: Swarm File  : /data/SFIMJGC_HCP7T/manifold_learning_fmri/SwarmFiles.javiergc/N08_TSNE_Eval_Clustering_Scans.SWARM.sh\n",
      "++ INFO: Logs Folder : /data/SFIMJGC_HCP7T/manifold_learning_fmri/Logs.javiergc/N08_TSNE_Eval_Clustering_Scans.logs\n"
     ]
    }
   ],
   "source": [
    "#user specific folders\n",
    "#=====================\n",
    "username = getpass.getuser()\n",
    "print('++ INFO: user working now --> %s' % username)\n",
    "\n",
    "swarm_folder   = osp.join(PRJ_DIR,'SwarmFiles.{username}'.format(username=username))\n",
    "logs_folder    = osp.join(PRJ_DIR,'Logs.{username}'.format(username=username))  \n",
    "\n",
    "swarm_path     = osp.join(swarm_folder,'N08_TSNE_Eval_Clustering_Scans.SWARM.sh')\n",
    "logdir_path    = osp.join(logs_folder, 'N08_TSNE_Eval_Clustering_Scans.logs')\n",
    "\n",
    "if not osp.exists(swarm_folder):\n",
    "    os.makedirs(swarm_folder)\n",
    "if not osp.exists(logdir_path):\n",
    "    os.makedirs(logdir_path)\n",
    "print('++ INFO: Swarm File  : %s' % swarm_path)\n",
    "print('++ INFO: Logs Folder : %s' % logdir_path)"
   ]
  },
  {
   "cell_type": "code",
   "execution_count": 15,
   "id": "c4b5d363-a867-4b4d-be67-8df32b4e9e82",
   "metadata": {},
   "outputs": [
    {
     "name": "stdout",
     "output_type": "stream",
     "text": [
      "++ INFO: Missing/Needed = [0/52920]\n"
     ]
    }
   ],
   "source": [
    "# Open the file\n",
    "swarm_file = open(swarm_path, \"w\")\n",
    "# Log the date and time when the SWARM file is created\n",
    "swarm_file.write('#Create Time: %s' % datetime.now().strftime(\"%d/%m/%Y %H:%M:%S\"))\n",
    "swarm_file.write('\\n')\n",
    "\n",
    "# Insert comment line with SWARM command\n",
    "swarm_file.write('#swarm -J TSNE_10_Scans_SI -f {swarm_path} -b 18 -g 4 -t 4 --time 00:13:00 --partition quick,norm --logdir {logdir_path}'.format(swarm_path=swarm_path,logdir_path=logdir_path))\n",
    "swarm_file.write('\\n')\n",
    "num_entries = 0 \n",
    "num_iters = 0\n",
    "\n",
    "for input_data in input_datas:\n",
    "    for subject in PNAS2015_subject_list:\n",
    "        for norm_method in norm_methods:\n",
    "            for dist in tsne_dist_metrics:\n",
    "                for init_method in tsne_inits:\n",
    "                    for pp in tsne_pps:\n",
    "                        for alpha in tsne_alphas:\n",
    "                            for m in [10]:                                \n",
    "                                num_iters += 1\n",
    "                                input_path  = osp.join(PRJ_DIR,'Data_Interim','PNAS2015',subject,'TSNE',input_data,'{subject}_Craddock_0200.WL{wls}s.WS{wss}s.TSNE_{dist}_pp{pp}_m{m}_a{lr}_{init_method}.{nm}.pkl'.format(subject=subject,\n",
    "                                                                                                                                                   nm = norm_method,\n",
    "                                                                                                                                                   wls=str(int(wls)).zfill(3), \n",
    "                                                                                                                                                   wss=str(wss),\n",
    "                                                                                                                                                   init_method=init_method,\n",
    "                                                                                                                                                   dist=dist,\n",
    "                                                                                                                                                   pp=str(pp).zfill(4),\n",
    "                                                                                                                                                   m=str(m).zfill(4),\n",
    "                                                                                                                                                   lr=str(alpha)))\n",
    "                                output_path  = osp.join(PRJ_DIR,'Data_Interim','PNAS2015',subject,'TSNE',input_data,'{subject}_Craddock_0200.WL{wls}s.WS{wss}s.TSNE_{dist}_pp{pp}_m{m}_a{lr}_{init_method}.{nm}.SI.pkl'.format(subject=subject,\n",
    "                                                                                                                                                   nm = norm_method,\n",
    "                                                                                                                                                   wls=str(int(wls)).zfill(3), \n",
    "                                                                                                                                                   wss=str(wss),\n",
    "                                                                                                                                                   init_method=init_method,\n",
    "                                                                                                                                                   dist=dist,\n",
    "                                                                                                                                                   pp=str(pp).zfill(4),\n",
    "                                                                                                                                                   m=str(m).zfill(4),\n",
    "                                                                                                                                                   lr=str(alpha)))\n",
    "                                if not osp.exists(output_path):\n",
    "                                    num_entries += 1\n",
    "                                    swarm_file.write('export input={input_path} output={output_path}; sh {scripts_dir}/N10_SI.sh'.format(input_path=input_path, \n",
    "                                                                                                                     output_path=output_path,\n",
    "                                                                                                                     scripts_dir=osp.join(PRJ_DIR,'Notebooks')))\n",
    "                                    \n",
    "                                    swarm_file.write('\\n')\n",
    "swarm_file.close()\n",
    "print(\"++ INFO: Missing/Needed = [%d/%d]\" % (num_entries,num_iters))"
   ]
  },
  {
   "cell_type": "markdown",
   "id": "3ccee956-beb9-4218-8b26-7683b3b7eec6",
   "metadata": {},
   "source": [
    "> **NOTE:** m=2 (12/06/2022) | m=3 (12/06/2022) | m=5 (12/06/2022) | m=10 (12/06/2022)"
   ]
  },
  {
   "cell_type": "markdown",
   "id": "4c245b93-2fee-40c1-8e29-5b7b57518a79",
   "metadata": {},
   "source": [
    "***\n",
    "\n",
    "# 2. Group-level TSNE: \"Concatenation + TSNE\"\n",
    "\n",
    "## 2.1 Create Group-level \"Concatenation + TSNE\" Embeddings"
   ]
  },
  {
   "cell_type": "code",
   "execution_count": 19,
   "id": "1d4a2f9e-9d16-4bb5-b081-cd91f0108573",
   "metadata": {},
   "outputs": [
    {
     "name": "stdout",
     "output_type": "stream",
     "text": [
      "++ INFO: user working now --> javiergc\n",
      "++ INFO: Swarm File  : /data/SFIMJGC_HCP7T/manifold_learning_fmri/SwarmFiles.javiergc/N08_TSNE_Multitask_ALL.SWARM.sh\n",
      "++ INFO: Logs Folder : /data/SFIMJGC_HCP7T/manifold_learning_fmri/Logs.javiergc/N08_TSNE_Multitask_ALL.logs\n"
     ]
    }
   ],
   "source": [
    "#user specific folders\n",
    "#=====================\n",
    "username = getpass.getuser()\n",
    "print('++ INFO: user working now --> %s' % username)\n",
    "\n",
    "swarm_folder   = osp.join(PRJ_DIR,'SwarmFiles.{username}'.format(username=username))\n",
    "logs_folder    = osp.join(PRJ_DIR,'Logs.{username}'.format(username=username))  \n",
    "\n",
    "swarm_path     = osp.join(swarm_folder,'N08_TSNE_Multitask_ALL.SWARM.sh')\n",
    "logdir_path    = osp.join(logs_folder, 'N08_TSNE_Multitask_ALL.logs')\n",
    "\n",
    "if not osp.exists(swarm_folder):\n",
    "    os.makedirs(swarm_folder)\n",
    "if not osp.exists(logdir_path):\n",
    "    os.makedirs(logdir_path)\n",
    "print('++ INFO: Swarm File  : %s' % swarm_path)\n",
    "print('++ INFO: Logs Folder : %s' % logdir_path)"
   ]
  },
  {
   "cell_type": "code",
   "execution_count": 23,
   "id": "58519ee3-1cf1-49f3-bfff-02e0a8b2bf66",
   "metadata": {},
   "outputs": [
    {
     "name": "stdout",
     "output_type": "stream",
     "text": [
      "++ INFO: Attempts/Written = [3/84]\n",
      "CPU times: user 5.08 ms, sys: 3.76 ms, total: 8.84 ms\n",
      "Wall time: 58.7 ms\n"
     ]
    }
   ],
   "source": [
    "%%time\n",
    "# Open the file\n",
    "n_jobs=64\n",
    "swarm_file = open(swarm_path, \"w\")\n",
    "# Log the date and time when the SWARM file is created\n",
    "swarm_file.write('#Create Time: %s' % datetime.now().strftime(\"%d/%m/%Y %H:%M:%S\"))\n",
    "swarm_file.write('\\n')\n",
    "\n",
    "# Insert comment line with SWARM command\n",
    "swarm_file.write('#swarm -J TSNE_15_ALL -f {swarm_path} -g 128 -t 64 --partition norm --time 7-00:00:00 --logdir {logdir_path}'.format(swarm_path=swarm_path,logdir_path=logdir_path, n_jobs=n_jobs))\n",
    "swarm_file.write('\\n')\n",
    "num_entries = 0 \n",
    "num_iters = 0\n",
    "\n",
    "for input_data in ['Original']:\n",
    "    for subject in ['ALL']:\n",
    "        for norm_method in norm_methods:\n",
    "            for dist in ['correlation']:\n",
    "                for init_method in tsne_inits:\n",
    "                    for pp in tsne_pps:\n",
    "                        for alpha in [10,1000]:\n",
    "                            for m in [10]:\n",
    "                                num_iters += 1\n",
    "                                path_tvfc = osp.join(PRJ_DIR,'Data_Interim','PNAS2015',subject,input_data,       '{subject}_Craddock_0200.WL{wls}s.WS{wss}s.tvFC.Z.{nm}.pkl'.format(subject=subject,nm=norm_method,wls=str(int(wls)).zfill(3), wss=str(wss)))\n",
    "                                path_out  = osp.join(PRJ_DIR,'Data_Interim','PNAS2015',subject,'TSNE',input_data,'{subject}_Craddock_0200.WL{wls}s.WS{wss}s.TSNE_{dist}_pp{pp}_m{m}_a{lr}_{init_method}.{nm}.pkl'.format(subject=subject,\n",
    "                                                                                                                                                   nm = norm_method,\n",
    "                                                                                                                                                   wls=str(int(wls)).zfill(3), \n",
    "                                                                                                                                                   wss=str(wss),\n",
    "                                                                                                                                                   init_method=init_method,\n",
    "                                                                                                                                                   dist=dist,\n",
    "                                                                                                                                                   pp=str(pp).zfill(4),\n",
    "                                                                                                                                                   m=str(m).zfill(4),\n",
    "                                                                                                                                                   lr=str(alpha)))\n",
    "                                if not osp.exists(path_out):\n",
    "                                    num_entries += 1\n",
    "                                    swarm_file.write('export path_tvfc={path_tvfc} dist={dist} pp={pp} lr={lr} m={m} n_iter=10000 init={init_method} path_out={path_out} n_jobs={n_jobs} norm={norm_method} grad_method=exact; sh {scripts_dir}/N08_TSNE.sh'.format(path_tvfc=path_tvfc, \n",
    "                                                                                                                                    path_out=path_out,\n",
    "                                                                                                                                    dist=dist,\n",
    "                                                                                                                                    init_method=init_method,\n",
    "                                                                                                                                    norm_method=norm_method,\n",
    "                                                                                                                                    pp=pp,\n",
    "                                                                                                                                    m=m, \n",
    "                                                                                                                                    lr=alpha,\n",
    "                                                                                                                                    n_jobs=n_jobs,\n",
    "                                                                                                                                    scripts_dir=osp.join(PRJ_DIR,'Notebooks')))\n",
    "                                    swarm_file.write('\\n')\n",
    "swarm_file.close()\n",
    "print(\"++ INFO: Attempts/Written = [%d/%d]\" % (num_entries,num_iters))"
   ]
  },
  {
   "cell_type": "markdown",
   "id": "af21b64b-3d1b-4269-b26b-9e25a2eb2daa",
   "metadata": {},
   "source": [
    "> **NOTE:** Given computational needs, we only do this part for the following hyper-parameter set: Original data, correlation distance, lr = 10 or 1000, m =2,3,5,10, all norms and all pps\n",
    "\n",
    "> **NOTE:** m=2 (12/06/2022) | m=3 (12/06/2022) | m=5 (12/06/2022) | m=10 (12/06/2022 - 3 cases missing)"
   ]
  },
  {
   "cell_type": "markdown",
   "id": "ab19a942-1525-484f-b005-2711027c23d5",
   "metadata": {},
   "source": [
    "## 2.2. Evaluate Group-level \"Concatenation + TSNE\" Embeddings"
   ]
  },
  {
   "cell_type": "code",
   "execution_count": 33,
   "id": "6c4a3a72-8e1f-4a54-a1a8-52c58d179f17",
   "metadata": {},
   "outputs": [
    {
     "name": "stdout",
     "output_type": "stream",
     "text": [
      "++ INFO: user working now --> javiergc\n",
      "++ INFO: Swarm File:  /data/SFIMJGC_HCP7T/manifold_learning_fmri/SwarmFiles.javiergc/N12_TSNE_Eval_Clustering_ALL.SWARM.sh\n",
      "++ INFO: Logs Folder: /data/SFIMJGC_HCP7T/manifold_learning_fmri/Logs.javiergc/N12_TSNE_Eval_Clustering_ALL.logs\n"
     ]
    }
   ],
   "source": [
    "#user specific folders\n",
    "#=====================\n",
    "username = getpass.getuser()\n",
    "print('++ INFO: user working now --> %s' % username)\n",
    "\n",
    "swarm_folder   = osp.join(PRJ_DIR,'SwarmFiles.{username}'.format(username=username))\n",
    "logs_folder    = osp.join(PRJ_DIR,'Logs.{username}'.format(username=username))  \n",
    "\n",
    "swarm_path     = osp.join(swarm_folder,'N12_TSNE_Eval_Clustering_ALL.SWARM.sh')\n",
    "logdir_path    = osp.join(logs_folder, 'N12_TSNE_Eval_Clustering_ALL.logs')\n",
    "\n",
    "if not osp.exists(swarm_folder):\n",
    "    os.makedirs(swarm_folder)\n",
    "if not osp.exists(logdir_path):\n",
    "    os.makedirs(logdir_path)\n",
    "print('++ INFO: Swarm File:  %s' % swarm_path)\n",
    "print('++ INFO: Logs Folder: %s' % logdir_path)"
   ]
  },
  {
   "cell_type": "code",
   "execution_count": 35,
   "id": "1df9ace0-9ab7-4f98-827f-e3eba083bfef",
   "metadata": {},
   "outputs": [
    {
     "name": "stdout",
     "output_type": "stream",
     "text": [
      "++ INFO: Missing/Needed = [0/84]\n"
     ]
    }
   ],
   "source": [
    "# Open the file\n",
    "swarm_file = open(swarm_path, \"w\")\n",
    "# Log the date and time when the SWARM file is created\n",
    "swarm_file.write('#Create Time: %s' % datetime.now().strftime(\"%d/%m/%Y %H:%M:%S\"))\n",
    "swarm_file.write('\\n')\n",
    "\n",
    "# Insert comment line with SWARM command\n",
    "swarm_file.write('#swarm -J TSNE_ALL_5_SI -f {swarm_path} -b 6 -g 4 -t 4 --time 00:10:00 --partition quick,norm --logdir {logdir_path}'.format(swarm_path=swarm_path,logdir_path=logdir_path))\n",
    "swarm_file.write('\\n')\n",
    "num_entries = 0 \n",
    "num_iters = 0\n",
    "\n",
    "for subject in ['ALL']:\n",
    "    for input_data in ['Original']:\n",
    "        for norm_method in norm_methods:\n",
    "            for dist in ['correlation']:\n",
    "                for init_method in tsne_inits:\n",
    "                    for pp in tsne_pps:\n",
    "                        for alpha in [10,1000]:\n",
    "                            for m in [5]:\n",
    "                                num_iters += 1\n",
    "                                input_path  = osp.join(PRJ_DIR,'Data_Interim','PNAS2015',subject,'TSNE',input_data,'{subject}_Craddock_0200.WL{wls}s.WS{wss}s.TSNE_{dist}_pp{pp}_m{m}_a{lr}_{init_method}.{nm}.pkl'.format(subject=subject,\n",
    "                                                                                                                                                   nm = norm_method,\n",
    "                                                                                                                                                   wls=str(int(wls)).zfill(3), \n",
    "                                                                                                                                                   wss=str(wss),\n",
    "                                                                                                                                                   init_method=init_method,\n",
    "                                                                                                                                                   dist=dist,\n",
    "                                                                                                                                                   pp=str(pp).zfill(4),\n",
    "                                                                                                                                                   m=str(m).zfill(4),\n",
    "                                                                                                                                                   lr=str(alpha)))\n",
    "                                output_path  = osp.join(PRJ_DIR,'Data_Interim','PNAS2015',subject,'TSNE',input_data,'{subject}_Craddock_0200.WL{wls}s.WS{wss}s.TSNE_{dist}_pp{pp}_m{m}_a{lr}_{init_method}.{nm}.SI.pkl'.format(subject=subject,\n",
    "                                                                                                                                                   nm = norm_method,\n",
    "                                                                                                                                                   wls=str(int(wls)).zfill(3), \n",
    "                                                                                                                                                   wss=str(wss),\n",
    "                                                                                                                                                   init_method=init_method,\n",
    "                                                                                                                                                   dist=dist,\n",
    "                                                                                                                                                   pp=str(pp).zfill(4),\n",
    "                                                                                                                                                   m=str(m).zfill(4),\n",
    "                                                                                                                                                   lr=str(alpha)))\n",
    "                                #if osp.exists(input_path) & (not osp.exists(output_path)):\n",
    "                                if (not osp.exists(output_path)):\n",
    "                                    num_entries += 1\n",
    "                                    swarm_file.write('export input={input_path} output={output_path}; sh {scripts_dir}/N10_SI.sh'.format(input_path=input_path, \n",
    "                                                                                                                     output_path=output_path,\n",
    "                                                                                                                     scripts_dir=osp.join(PRJ_DIR,'Notebooks')))\n",
    "                                    \n",
    "                                    swarm_file.write('\\n')\n",
    "swarm_file.close()\n",
    "print(\"++ INFO: Missing/Needed = [%d/%d]\" % (num_entries,num_iters))"
   ]
  },
  {
   "cell_type": "markdown",
   "id": "87793056-a1a3-4752-9d71-df7ce9c1d9b5",
   "metadata": {},
   "source": [
    "> **NOTE:** m=2 (12/06/2022) | m=3 (12/06/2022) | m=5 (12/06/2022) | m=10 (12/06/2022) --> Missing the same 3 that need to complete"
   ]
  },
  {
   "cell_type": "markdown",
   "id": "bdf8263c-fe9f-4b64-9330-c6940085c919",
   "metadata": {},
   "source": [
    "# 2.3 Create and Evalaute group-level TSNE: \"TSNE + Procrustes\""
   ]
  },
  {
   "cell_type": "code",
   "execution_count": 58,
   "id": "8b475f36-e2a7-442f-9f76-0d8e0dad0e10",
   "metadata": {},
   "outputs": [
    {
     "name": "stdout",
     "output_type": "stream",
     "text": [
      "++ INFO: user working now --> javiergc\n",
      "++ INFO: Swarm File:  /data/SFIMJGC_HCP7T/manifold_learning_fmri/SwarmFiles.javiergc/N12_TSNE_Eval_Clustering_Procrustes.SWARM.sh\n",
      "++ INFO: Logs Folder: /data/SFIMJGC_HCP7T/manifold_learning_fmri/Logs.javiergc/N12_TSNE_Eval_Clustering_Procrustes.logs\n"
     ]
    }
   ],
   "source": [
    "#user specific folders\n",
    "#=====================\n",
    "username = getpass.getuser()\n",
    "print('++ INFO: user working now --> %s' % username)\n",
    "\n",
    "swarm_folder   = osp.join(PRJ_DIR,'SwarmFiles.{username}'.format(username=username))\n",
    "logs_folder    = osp.join(PRJ_DIR,'Logs.{username}'.format(username=username))  \n",
    "\n",
    "swarm_path     = osp.join(swarm_folder,'N12_TSNE_Eval_Clustering_Procrustes.SWARM.sh')\n",
    "logdir_path    = osp.join(logs_folder, 'N12_TSNE_Eval_Clustering_Procrustes.logs')\n",
    "\n",
    "if not osp.exists(swarm_folder):\n",
    "    os.makedirs(swarm_folder)\n",
    "if not osp.exists(logdir_path):\n",
    "    os.makedirs(logdir_path)\n",
    "print('++ INFO: Swarm File:  %s' % swarm_path)\n",
    "print('++ INFO: Logs Folder: %s' % logdir_path)"
   ]
  },
  {
   "cell_type": "code",
   "execution_count": 71,
   "id": "f0113991-069b-4f3d-b4cb-c58b9bc7db4b",
   "metadata": {
    "lines_to_next_cell": 0
   },
   "outputs": [
    {
     "name": "stdout",
     "output_type": "stream",
     "text": [
      "++ INFO: Missing/Needed = [0/672]\n"
     ]
    }
   ],
   "source": [
    "# Open the file\n",
    "swarm_file = open(swarm_path, \"w\")\n",
    "# Log the date and time when the SWARM file is created\n",
    "swarm_file.write('#Create Time: %s' % datetime.now().strftime(\"%d/%m/%Y %H:%M:%S\"))\n",
    "swarm_file.write('\\n')\n",
    "\n",
    "# Insert comment line with SWARM command\n",
    "swarm_file.write('#swarm -J TSNE_Procrustes_SI -f {swarm_path} -b 14 -g 4 -t 4 --time 00:17:00 --partition quick,norm --logdir {logdir_path}'.format(swarm_path=swarm_path,logdir_path=logdir_path))\n",
    "swarm_file.write('\\n')\n",
    "num_entries = 0 \n",
    "num_iters = 0\n",
    "\n",
    "for input_data in ['Original']:\n",
    "    for subject in ['Procrustes']:\n",
    "        for norm_method in norm_methods:\n",
    "            for dist in ['correlation']:\n",
    "                for init_method in tsne_inits:\n",
    "                    for pp in tsne_pps:\n",
    "                        for alpha in [10,1000]:\n",
    "                            for m in [2,3,5,10,15,20,25,30]:\n",
    "                                num_iters += 1\n",
    "                                emb_path = osp.join(PRJ_DIR,'Data_Interim','PNAS2015','Procrustes','TSNE',input_data,\n",
    "                                                            'Procrustes_Craddock_0200.WL{wls}s.WS{wss}s.TSNE_{dist}_pp{pp}_m{m}_a{alpha}_{init}.{nm}.pkl'.format(wls=str(int(wls)).zfill(3),alpha=str(alpha),\n",
    "                                                                                                                      wss=str(wss),init=init_method,\n",
    "                                                                                                                      dist=dist,\n",
    "                                                                                                                      pp=str(pp).zfill(4),\n",
    "                                                                                                                      nm=norm_method,\n",
    "                                                                                                                      m=str(m).zfill(4)))\n",
    "                                si_path = osp.join(PRJ_DIR,'Data_Interim','PNAS2015','Procrustes','TSNE',input_data,\n",
    "                                                           'Procrustes_Craddock_0200.WL{wls}s.WS{wss}s.TSNE_{dist}_pp{pp}_m{m}_a{alpha}_{init}.{nm}.SI.pkl'.format(wls=str(int(wls)).zfill(3), \n",
    "                                                                                                                      alpha=str(alpha),init=init_method,\n",
    "                                                                                                                      wss=str(wss),\n",
    "                                                                                                                      dist=dist,\n",
    "                                                                                                                      pp=str(pp).zfill(4),\n",
    "                                                                                                                      nm=norm_method,\n",
    "                                                                                                                      m=str(m).zfill(4)))\n",
    "                                if (not osp.exists(emb_path)) | (not osp.exists(si_path)):\n",
    "                                    num_entries += 1\n",
    "                                    swarm_file.write('export sbj_list=\"{sbj_list}\" input_data={input_data} norm_method={norm_method} dist={dist} pp={pp} m={m} alpha={alpha} init_method={init_method} drop_xxxx={drop_xxxx}; sh {scripts_dir}/N11_TSNE_Procrustes.sh'.format(input_data=input_data,\n",
    "                                                                                                                     sbj_list=','.join(PNAS2015_subject_list),\n",
    "                                                                                                                     norm_method=norm_method,\n",
    "                                                                                                                     dist=dist,\n",
    "                                                                                                                     pp=str(pp),\n",
    "                                                                                                                     m=str(m),\n",
    "                                                                                                                     alpha=str(alpha),\n",
    "                                                                                                                     init_method = init_method,\n",
    "                                                                                                                     drop_xxxx = 'False',\n",
    "                                                                                                                     scripts_dir=osp.join(PRJ_DIR,'Notebooks')))\n",
    "                                    \n",
    "                                    swarm_file.write('\\n')\n",
    "swarm_file.close()\n",
    "print(\"++ INFO: Missing/Needed = [%d/%d]\" % (num_entries,num_iters))"
   ]
  },
  {
   "cell_type": "markdown",
   "id": "3b3fe07f-d977-405a-84c0-a2758a299392",
   "metadata": {},
   "source": [
    "***\n",
    "# Load and save into a single dataframe"
   ]
  },
  {
   "cell_type": "code",
   "execution_count": 50,
   "id": "0950f959-d977-4b60-9a3d-54bc9150d15d",
   "metadata": {},
   "outputs": [],
   "source": [
    "from utils.io import load_TSNE_SI"
   ]
  },
  {
   "cell_type": "code",
   "execution_count": null,
   "id": "da290f22-e880-4977-8e3d-3b69253f0e75",
   "metadata": {},
   "outputs": [
    {
     "name": "stdout",
     "output_type": "stream",
     "text": [
      "++ INFO: Loading SI for Concat + TSNE....\n"
     ]
    },
    {
     "data": {
      "application/vnd.jupyter.widget-view+json": {
       "model_id": "2e08c7aa0d124d62b15ca403a346662b",
       "version_major": 2,
       "version_minor": 0
      },
      "text/plain": [
       "Subjects::   0%|          | 0/1 [00:00<?, ?it/s]"
      ]
     },
     "metadata": {},
     "output_type": "display_data"
    },
    {
     "data": {
      "application/vnd.jupyter.widget-view+json": {
       "model_id": "",
       "version_major": 2,
       "version_minor": 0
      },
      "text/plain": [
       "Data Inputs::   0%|          | 0/1 [00:00<?, ?it/s]"
      ]
     },
     "metadata": {},
     "output_type": "display_data"
    },
    {
     "name": "stdout",
     "output_type": "stream",
     "text": [
      "-e \"/data/SFIMJGC_HCP7T/manifold_learning_fmri/Data_Interim/PNAS2015/ALL/TSNE/Original/ALL_Craddock_0200.WL045s.WS1.5s.TSNE_correlation_pp0065_m0010_a10_pca.zscored.SI.pkl\" -e \"/data/SFIMJGC_HCP7T/manifold_learning_fmri/Data_Interim/PNAS2015/ALL/TSNE/Original/ALL_Craddock_0200.WL045s.WS1.5s.TSNE_correlation_pp0090_m0010_a10_pca.zscored.SI.pkl\" -e \"/data/SFIMJGC_HCP7T/manifold_learning_fmri/Data_Interim/PNAS2015/ALL/TSNE/Original/ALL_Craddock_0200.WL045s.WS1.5s.TSNE_correlation_pp0150_m0010_a10_pca.zscored.SI.pkl\" ++ INFO [load_TSNE_SI]: Number of files missing = [3/336] files\n",
      "++ INFO: Loading SI for TSNE + Procrustes....\n"
     ]
    },
    {
     "data": {
      "application/vnd.jupyter.widget-view+json": {
       "model_id": "e24351fdf922446a808947eef40028f0",
       "version_major": 2,
       "version_minor": 0
      },
      "text/plain": [
       "Subjects::   0%|          | 0/1 [00:00<?, ?it/s]"
      ]
     },
     "metadata": {},
     "output_type": "display_data"
    },
    {
     "data": {
      "application/vnd.jupyter.widget-view+json": {
       "model_id": "",
       "version_major": 2,
       "version_minor": 0
      },
      "text/plain": [
       "Data Inputs::   0%|          | 0/1 [00:00<?, ?it/s]"
      ]
     },
     "metadata": {},
     "output_type": "display_data"
    },
    {
     "name": "stdout",
     "output_type": "stream",
     "text": [
      "++ INFO [load_TSNE_SI]: Number of files missing = [0/672] files\n",
      "++ INFO: Loading SI for scan level TSNE...\n"
     ]
    },
    {
     "data": {
      "application/vnd.jupyter.widget-view+json": {
       "model_id": "15c68ccc44db494a9867bcfaacb7a96d",
       "version_major": 2,
       "version_minor": 0
      },
      "text/plain": [
       "Subjects::   0%|          | 0/20 [00:00<?, ?it/s]"
      ]
     },
     "metadata": {},
     "output_type": "display_data"
    },
    {
     "data": {
      "application/vnd.jupyter.widget-view+json": {
       "model_id": "",
       "version_major": 2,
       "version_minor": 0
      },
      "text/plain": [
       "Data Inputs::   0%|          | 0/3 [00:00<?, ?it/s]"
      ]
     },
     "metadata": {},
     "output_type": "display_data"
    },
    {
     "data": {
      "application/vnd.jupyter.widget-view+json": {
       "model_id": "",
       "version_major": 2,
       "version_minor": 0
      },
      "text/plain": [
       "Data Inputs::   0%|          | 0/3 [00:00<?, ?it/s]"
      ]
     },
     "metadata": {},
     "output_type": "display_data"
    },
    {
     "data": {
      "application/vnd.jupyter.widget-view+json": {
       "model_id": "",
       "version_major": 2,
       "version_minor": 0
      },
      "text/plain": [
       "Data Inputs::   0%|          | 0/3 [00:00<?, ?it/s]"
      ]
     },
     "metadata": {},
     "output_type": "display_data"
    },
    {
     "data": {
      "application/vnd.jupyter.widget-view+json": {
       "model_id": "",
       "version_major": 2,
       "version_minor": 0
      },
      "text/plain": [
       "Data Inputs::   0%|          | 0/3 [00:00<?, ?it/s]"
      ]
     },
     "metadata": {},
     "output_type": "display_data"
    },
    {
     "data": {
      "application/vnd.jupyter.widget-view+json": {
       "model_id": "",
       "version_major": 2,
       "version_minor": 0
      },
      "text/plain": [
       "Data Inputs::   0%|          | 0/3 [00:00<?, ?it/s]"
      ]
     },
     "metadata": {},
     "output_type": "display_data"
    },
    {
     "data": {
      "application/vnd.jupyter.widget-view+json": {
       "model_id": "",
       "version_major": 2,
       "version_minor": 0
      },
      "text/plain": [
       "Data Inputs::   0%|          | 0/3 [00:00<?, ?it/s]"
      ]
     },
     "metadata": {},
     "output_type": "display_data"
    },
    {
     "data": {
      "application/vnd.jupyter.widget-view+json": {
       "model_id": "",
       "version_major": 2,
       "version_minor": 0
      },
      "text/plain": [
       "Data Inputs::   0%|          | 0/3 [00:00<?, ?it/s]"
      ]
     },
     "metadata": {},
     "output_type": "display_data"
    },
    {
     "data": {
      "application/vnd.jupyter.widget-view+json": {
       "model_id": "",
       "version_major": 2,
       "version_minor": 0
      },
      "text/plain": [
       "Data Inputs::   0%|          | 0/3 [00:00<?, ?it/s]"
      ]
     },
     "metadata": {},
     "output_type": "display_data"
    },
    {
     "data": {
      "application/vnd.jupyter.widget-view+json": {
       "model_id": "",
       "version_major": 2,
       "version_minor": 0
      },
      "text/plain": [
       "Data Inputs::   0%|          | 0/3 [00:00<?, ?it/s]"
      ]
     },
     "metadata": {},
     "output_type": "display_data"
    },
    {
     "data": {
      "application/vnd.jupyter.widget-view+json": {
       "model_id": "",
       "version_major": 2,
       "version_minor": 0
      },
      "text/plain": [
       "Data Inputs::   0%|          | 0/3 [00:00<?, ?it/s]"
      ]
     },
     "metadata": {},
     "output_type": "display_data"
    },
    {
     "data": {
      "application/vnd.jupyter.widget-view+json": {
       "model_id": "",
       "version_major": 2,
       "version_minor": 0
      },
      "text/plain": [
       "Data Inputs::   0%|          | 0/3 [00:00<?, ?it/s]"
      ]
     },
     "metadata": {},
     "output_type": "display_data"
    },
    {
     "data": {
      "application/vnd.jupyter.widget-view+json": {
       "model_id": "",
       "version_major": 2,
       "version_minor": 0
      },
      "text/plain": [
       "Data Inputs::   0%|          | 0/3 [00:00<?, ?it/s]"
      ]
     },
     "metadata": {},
     "output_type": "display_data"
    },
    {
     "data": {
      "application/vnd.jupyter.widget-view+json": {
       "model_id": "",
       "version_major": 2,
       "version_minor": 0
      },
      "text/plain": [
       "Data Inputs::   0%|          | 0/3 [00:00<?, ?it/s]"
      ]
     },
     "metadata": {},
     "output_type": "display_data"
    },
    {
     "data": {
      "application/vnd.jupyter.widget-view+json": {
       "model_id": "",
       "version_major": 2,
       "version_minor": 0
      },
      "text/plain": [
       "Data Inputs::   0%|          | 0/3 [00:00<?, ?it/s]"
      ]
     },
     "metadata": {},
     "output_type": "display_data"
    },
    {
     "data": {
      "application/vnd.jupyter.widget-view+json": {
       "model_id": "",
       "version_major": 2,
       "version_minor": 0
      },
      "text/plain": [
       "Data Inputs::   0%|          | 0/3 [00:00<?, ?it/s]"
      ]
     },
     "metadata": {},
     "output_type": "display_data"
    },
    {
     "data": {
      "application/vnd.jupyter.widget-view+json": {
       "model_id": "",
       "version_major": 2,
       "version_minor": 0
      },
      "text/plain": [
       "Data Inputs::   0%|          | 0/3 [00:00<?, ?it/s]"
      ]
     },
     "metadata": {},
     "output_type": "display_data"
    },
    {
     "data": {
      "application/vnd.jupyter.widget-view+json": {
       "model_id": "7ef14208f5ec417cac90e87c9b977cfb",
       "version_major": 2,
       "version_minor": 0
      },
      "text/plain": [
       "Data Inputs::   0%|          | 0/3 [00:00<?, ?it/s]"
      ]
     },
     "metadata": {},
     "output_type": "display_data"
    }
   ],
   "source": [
    "%%time\n",
    "RELOAD_SI_TSNE = True\n",
    "if RELOAD_SI_TSNE:\n",
    "    print('++ INFO: Loading SI for Concat + TSNE....')\n",
    "    si_TSNE_all              = load_TSNE_SI(sbj_list=['ALL'],               check_availability=False, verbose=True, wls=wls, wss=wss, ms=[2,3,5,10], dist_metrics=['correlation'], input_datas=['Original'], alphas=[10,1000])\n",
    "    print('++ INFO: Loading SI for TSNE + Procrustes....')\n",
    "    si_TSNE_procrustes       = load_TSNE_SI(sbj_list=['Procrustes'],        check_availability=False, verbose=True, wls=wls, wss=wss, ms=[2,3,5,10,15,20,25,30], dist_metrics=['correlation'], input_datas=['Original'], alphas=[10,1000])\n",
    "    print('++ INFO: Loading SI for scan level TSNE...')\n",
    "    si_TSNE_scans            = load_TSNE_SI(sbj_list=PNAS2015_subject_list, check_availability=False, verbose=True, wls=wls, wss=wss, ms=[2,3,5,10])\n",
    "\n",
    "    si_TSNE = pd.concat([si_TSNE_all, si_TSNE_procrustes])\n",
    "    si_TSNE = pd.concat([si_TSNE_scans, si_TSNE_all, si_TSNE_procrustes])\n",
    "\n",
    "    si_TSNE.replace('Window Name','Task', inplace=True)\n",
    "    si_TSNE = si_TSNE.set_index(['Subject','Input Data','Norm','Metric','PP','m','Alpha','Init','Target']).sort_index()\n",
    "    del si_TSNE_scans, si_TSNE_all, si_TSNE_procrustes, si_TSNE_procrustes_extra, si_TSNE_scans_extra\n",
    "    \n",
    "    si_TSNE.to_pickle(osp.join(PRJ_DIR,'Dashboard','Data','si_TSNE.pkl'))\n",
    "else:\n",
    "    si_TSNE = pd.read_pickle(osp.join(PRJ_DIR,'Dashboard','Data','si_TSNE.pkl'))"
   ]
  },
  {
   "cell_type": "code",
   "execution_count": 54,
   "id": "4404896a-1599-457b-a446-90546c880b1e",
   "metadata": {},
   "outputs": [],
   "source": [
    "si_TSNE = pd.concat([si_TSNE_scans, si_TSNE_all, si_TSNE_procrustes_extra])\n",
    "si_TSNE.replace('Window Name','Task', inplace=True)\n",
    "si_TSNE = si_TSNE.set_index(['Subject','Input Data','Norm','Metric','PP','m','Alpha','Init','Target']).sort_index()"
   ]
  },
  {
   "cell_type": "code",
   "execution_count": 55,
   "id": "560bdf38-394a-4f17-814f-189cdf4449ff",
   "metadata": {},
   "outputs": [],
   "source": [
    "si_TSNE.to_pickle(osp.join(PRJ_DIR,'Dashboard','Data','si_TSNE.pkl'))"
   ]
  },
  {
   "cell_type": "code",
   "execution_count": 56,
   "id": "793c4f1f-a7db-4df3-819f-179a7a7a51c1",
   "metadata": {},
   "outputs": [
    {
     "data": {
      "text/html": [
       "<div>\n",
       "<style scoped>\n",
       "    .dataframe tbody tr th:only-of-type {\n",
       "        vertical-align: middle;\n",
       "    }\n",
       "\n",
       "    .dataframe tbody tr th {\n",
       "        vertical-align: top;\n",
       "    }\n",
       "\n",
       "    .dataframe thead th {\n",
       "        text-align: right;\n",
       "    }\n",
       "</style>\n",
       "<table border=\"1\" class=\"dataframe\">\n",
       "  <thead>\n",
       "    <tr style=\"text-align: right;\">\n",
       "      <th></th>\n",
       "      <th></th>\n",
       "      <th></th>\n",
       "      <th></th>\n",
       "      <th></th>\n",
       "      <th></th>\n",
       "      <th></th>\n",
       "      <th></th>\n",
       "      <th></th>\n",
       "      <th>SI</th>\n",
       "    </tr>\n",
       "    <tr>\n",
       "      <th>Subject</th>\n",
       "      <th>Input Data</th>\n",
       "      <th>Norm</th>\n",
       "      <th>Metric</th>\n",
       "      <th>PP</th>\n",
       "      <th>m</th>\n",
       "      <th>Alpha</th>\n",
       "      <th>Init</th>\n",
       "      <th>Target</th>\n",
       "      <th></th>\n",
       "    </tr>\n",
       "  </thead>\n",
       "  <tbody>\n",
       "    <tr>\n",
       "      <th rowspan=\"5\" valign=\"top\">ALL</th>\n",
       "      <th rowspan=\"5\" valign=\"top\">Original</th>\n",
       "      <th rowspan=\"5\" valign=\"top\">asis</th>\n",
       "      <th rowspan=\"5\" valign=\"top\">correlation</th>\n",
       "      <th rowspan=\"5\" valign=\"top\">20</th>\n",
       "      <th rowspan=\"4\" valign=\"top\">2</th>\n",
       "      <th rowspan=\"2\" valign=\"top\">10</th>\n",
       "      <th rowspan=\"2\" valign=\"top\">pca</th>\n",
       "      <th>Subject</th>\n",
       "      <td>-0.138877</td>\n",
       "    </tr>\n",
       "    <tr>\n",
       "      <th>Task</th>\n",
       "      <td>-0.042321</td>\n",
       "    </tr>\n",
       "    <tr>\n",
       "      <th rowspan=\"2\" valign=\"top\">1000</th>\n",
       "      <th rowspan=\"2\" valign=\"top\">pca</th>\n",
       "      <th>Subject</th>\n",
       "      <td>-0.121037</td>\n",
       "    </tr>\n",
       "    <tr>\n",
       "      <th>Task</th>\n",
       "      <td>-0.043349</td>\n",
       "    </tr>\n",
       "    <tr>\n",
       "      <th>3</th>\n",
       "      <th>10</th>\n",
       "      <th>pca</th>\n",
       "      <th>Subject</th>\n",
       "      <td>-0.104175</td>\n",
       "    </tr>\n",
       "    <tr>\n",
       "      <th>...</th>\n",
       "      <th>...</th>\n",
       "      <th>...</th>\n",
       "      <th>...</th>\n",
       "      <th>...</th>\n",
       "      <th>...</th>\n",
       "      <th>...</th>\n",
       "      <th>...</th>\n",
       "      <th>...</th>\n",
       "      <td>...</td>\n",
       "    </tr>\n",
       "    <tr>\n",
       "      <th rowspan=\"5\" valign=\"top\">SBJ27</th>\n",
       "      <th rowspan=\"5\" valign=\"top\">Original</th>\n",
       "      <th rowspan=\"5\" valign=\"top\">zscored</th>\n",
       "      <th rowspan=\"5\" valign=\"top\">euclidean</th>\n",
       "      <th rowspan=\"5\" valign=\"top\">200</th>\n",
       "      <th rowspan=\"5\" valign=\"top\">10</th>\n",
       "      <th>75</th>\n",
       "      <th>pca</th>\n",
       "      <th>Task</th>\n",
       "      <td>0.225440</td>\n",
       "    </tr>\n",
       "    <tr>\n",
       "      <th>100</th>\n",
       "      <th>pca</th>\n",
       "      <th>Task</th>\n",
       "      <td>0.225456</td>\n",
       "    </tr>\n",
       "    <tr>\n",
       "      <th>200</th>\n",
       "      <th>pca</th>\n",
       "      <th>Task</th>\n",
       "      <td>0.225381</td>\n",
       "    </tr>\n",
       "    <tr>\n",
       "      <th>500</th>\n",
       "      <th>pca</th>\n",
       "      <th>Task</th>\n",
       "      <td>0.224185</td>\n",
       "    </tr>\n",
       "    <tr>\n",
       "      <th>1000</th>\n",
       "      <th>pca</th>\n",
       "      <th>Task</th>\n",
       "      <td>0.222926</td>\n",
       "    </tr>\n",
       "  </tbody>\n",
       "</table>\n",
       "<p>213018 rows × 1 columns</p>\n",
       "</div>"
      ],
      "text/plain": [
       "                                                                        SI\n",
       "Subject Input Data Norm    Metric      PP  m  Alpha Init Target           \n",
       "ALL     Original   asis    correlation 20  2  10    pca  Subject -0.138877\n",
       "                                                         Task    -0.042321\n",
       "                                              1000  pca  Subject -0.121037\n",
       "                                                         Task    -0.043349\n",
       "                                           3  10    pca  Subject -0.104175\n",
       "...                                                                    ...\n",
       "SBJ27   Original   zscored euclidean   200 10 75    pca  Task     0.225440\n",
       "                                              100   pca  Task     0.225456\n",
       "                                              200   pca  Task     0.225381\n",
       "                                              500   pca  Task     0.224185\n",
       "                                              1000  pca  Task     0.222926\n",
       "\n",
       "[213018 rows x 1 columns]"
      ]
     },
     "execution_count": 56,
     "metadata": {},
     "output_type": "execute_result"
    }
   ],
   "source": [
    "si_TSNE"
   ]
  },
  {
   "cell_type": "markdown",
   "id": "ce7fae88-69ae-4eac-8ab5-93f5411a1148",
   "metadata": {},
   "source": [
    "***\n",
    "***\n",
    "# END OF NOTEBOOK\n",
    "***\n",
    "***"
   ]
  },
  {
   "cell_type": "code",
   "execution_count": null,
   "id": "e1875dd7",
   "metadata": {},
   "outputs": [],
   "source": []
  },
  {
   "cell_type": "markdown",
   "id": "8d0306e0-df61-4e67-b1de-656ceb0e78cc",
   "metadata": {},
   "source": [
    "### Extra cases for the Classification Study"
   ]
  },
  {
   "cell_type": "code",
   "execution_count": 7,
   "id": "078808a7-f942-4357-b457-3e4afd8fa952",
   "metadata": {},
   "outputs": [
    {
     "name": "stdout",
     "output_type": "stream",
     "text": [
      "CPU times: user 6.44 ms, sys: 5.43 ms, total: 11.9 ms\n",
      "Wall time: 40.5 ms\n"
     ]
    }
   ],
   "source": [
    "%%time\n",
    "RELOAD_SI_TSNE = False\n",
    "if RELOAD_SI_TSNE:\n",
    "    si_TSNE_all        = load_TSNE_SI(sbj_list=['ALL'],               check_availability=False, verbose=False, wls=wls, wss=wss, ms=[2,3])\n",
    "    si_TSNE_procrustes = load_TSNE_SI(sbj_list=['Procrustes'],        check_availability=False, verbose=False, wls=wls, wss=wss, ms=[2,3])\n",
    "    si_TSNE_scans      = load_TSNE_SI(sbj_list=PNAS2015_subject_list, check_availability=False, verbose=False, wls=wls, wss=wss, ms=[2,3])\n",
    "    \n",
    "    si_TSNE = pd.concat([si_TSNE_scans, si_TSNE_all, si_TSNE_procrustes])\n",
    "    si_TSNE.replace('Window Name','Task', inplace=True)\n",
    "    si_TSNE = si_TSNE.set_index(['Subject','Input Data','Norm','Metric','PP','m','Alpha','Init','Target']).sort_index()\n",
    "    del si_TSNE_scans, si_TSNE_all, si_TSNE_procrustes\n",
    "    \n",
    "    si_TSNE.to_pickle(osp.join(PRJ_DIR,'Dashboard','Data','si_TSNE.pkl'))\n",
    "else:\n",
    "    si_TSNE = pd.read_pickle(osp.join(PRJ_DIR,'Dashboard','Data','si_TSNE.pkl'))"
   ]
  },
  {
   "cell_type": "code",
   "execution_count": 16,
   "id": "87265446-08da-43e4-9e16-5f51f2d7e8bd",
   "metadata": {},
   "outputs": [
    {
     "name": "stdout",
     "output_type": "stream",
     "text": [
      "++ INFO: Best scan-level configuration --> NM=asis, DIST=correlation, PP=70, ALPHA=10.000000\n"
     ]
    }
   ],
   "source": [
    "_,tsne_best_norm_method,tsne_best_dist, tsne_best_pp, _, tsne_best_alpha,_,_ = si_TSNE.loc[PNAS2015_subject_list,'Original',:,:,:,:,:,:,'Task'].to_xarray().mean(dim='Subject').to_dataframe().sort_values(by='SI',ascending=False).iloc[0].name\n",
    "print('++ INFO: Best scan-level configuration --> NM=%s, DIST=%s, PP=%d, ALPHA=%f' % (tsne_best_norm_method,tsne_best_dist, tsne_best_pp, tsne_best_alpha))"
   ]
  }
 ],
 "metadata": {
  "jupytext": {
   "formats": "ipynb,py:light"
  },
  "kernelspec": {
   "display_name": "opentsne",
   "language": "python",
   "name": "opentsne"
  },
  "language_info": {
   "codemirror_mode": {
    "name": "ipython",
    "version": 3
   },
   "file_extension": ".py",
   "mimetype": "text/x-python",
   "name": "python",
   "nbconvert_exporter": "python",
   "pygments_lexer": "ipython3",
   "version": "3.7.13"
  }
 },
 "nbformat": 4,
 "nbformat_minor": 5
}
